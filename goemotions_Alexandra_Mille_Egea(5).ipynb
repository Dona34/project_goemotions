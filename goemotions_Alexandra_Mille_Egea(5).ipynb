{
  "cells": [
    {
      "cell_type": "markdown",
      "metadata": {
        "id": "zX4Kg8DUTKWO"
      },
      "source": [
        "# Imports"
      ]
    },
    {
      "cell_type": "markdown",
      "metadata": {
        "id": "BPvidksKMG-q"
      },
      "source": [
        "https://www.tensorflow.org/datasets/catalog/goemotions\n",
        "• Plot the embeddings and the learning curves. Explain them.\n",
        "• Can you improve the sarcasm sentiment extraction? With a different\n",
        "model or more preprocessing? Visualize the word vectors (tip:\n",
        "sphereize and see what happens).\n"
      ]
    },
    {
      "cell_type": "code",
      "execution_count": 1,
      "metadata": {
        "id": "XYYDvoskkE61"
      },
      "outputs": [],
      "source": [
        "%matplotlib inline\n",
        "#!pip install tensorflow\n",
        "import json\n",
        "import tensorflow as tf\n",
        "import tensorflow_datasets as tfds\n",
        "import pandas as pd \n",
        "import numpy as np\n",
        "import matplotlib.pyplot as plt\n",
        "import seaborn as sns\n",
        "from sklearn import preprocessing\n",
        "from sklearn.metrics import classification_report\n",
        "\n",
        "from tensorflow.keras.preprocessing.text import Tokenizer\n",
        "from tensorflow.keras.preprocessing.sequence import pad_sequences"
      ]
    },
    {
      "cell_type": "markdown",
      "metadata": {
        "id": "I8D3K2NBbfIo"
      },
      "source": [
        "# Hyperparameters"
      ]
    },
    {
      "cell_type": "code",
      "execution_count": 2,
      "metadata": {
        "id": "0eJSTTYnkJQd"
      },
      "outputs": [],
      "source": [
        "vocab_size = 10000\n",
        "embedding_dim = 16\n",
        "max_length = 100\n",
        "trunc_type='post'\n",
        "padding_type='post'\n",
        "oov_tok = \"<OOV>\"\n",
        "training_size = 20000"
      ]
    },
    {
      "cell_type": "markdown",
      "metadata": {
        "id": "Rj1x9yIrbfIr"
      },
      "source": [
        "# Load data"
      ]
    },
    {
      "cell_type": "code",
      "execution_count": 3,
      "metadata": {
        "colab": {
          "base_uri": "https://localhost:8080/",
          "height": 1000,
          "referenced_widgets": [
            "556c0bbafa66422680037c2a444df7f4",
            "13aa6174dab046c88602c9a78c8ee2fd",
            "c995adb01bd049d4850c2be77864bb70",
            "9d7da238cfb4474bbab9f54a33dc9535",
            "2c72032890a14b6d8c8fb01a479fbf18",
            "62fd29f290f64db7b6c635f0a316d936",
            "753abba7922940ff80cf80895ead4ebd",
            "0249d987e42e44f4a4ac5a183035553a",
            "12cd6f0594f247239ed622bf3d5ba4b5",
            "b82a8cde5469441ba85c5e3c86674372",
            "0f895adaf4b541028c933cb548302d11",
            "ddfe07b1fe334412876ae07ea5300780",
            "76113aa5976746928a96d80ccf2e0b56",
            "371b74c244954004be23a7a6106a0852",
            "dfef5278e69c43bcb905aa431df84efa",
            "43d8baf797cc4fe9bb6dddb4faa79b4e",
            "edde077bafc84ed284afb4b3d859dfdb",
            "29b0a8b894084476bf670f40489ce12f",
            "91a7db96574249c49ec7fe1271d21e89",
            "aae005b928a64a678e3f53722b6e6bba",
            "432420a25c8e46378c8278f700194226",
            "bef7f99b8d284573a41b58a5d55e147a",
            "37fdfae872624b9e86356e783b7d870a",
            "a5921056cdbf440f8650682321769a04",
            "f283b424847348788e5d0dbe6f4a2dba",
            "ff42806cc2f14b6caf469ec2b37058a0",
            "dff61e001dd1458db1164c0e6d7a3b09",
            "598e6953db32454088eb323577e0be34",
            "8b8df7367c5c4739a5e7ed45cc3f38f6",
            "314d19e493a84a7b9e3313d52905ffeb",
            "070788fc62cc4e3d9e5ab9fa234f705b",
            "26ef59b3ed38471687698e772fe99a6d",
            "389416c7a358483d8e34ebe406a0e62a",
            "9209c5b835cf4e54b07cb38f9dc5880a",
            "1763b2d208044ad1b3b47c42ebbaa79d",
            "12e98d45a14a472db1b6ac9c351219c3",
            "2a4c70e4d41c41f6940d7ea7a07131cb",
            "e41f2e9f4bc34891867e9a606e0b9cf2",
            "58073851168b47ab96268ca997266ffb",
            "ee3f555953d542678f5479c356b1244d",
            "69cc65f2f1cf474e8e3327eb06f31618",
            "21aaff8123cc44359b6ad09597861da5",
            "460570f8f03143e3a4c42d0452382f0a",
            "06b6f79ebeaf4064bd07b4debf148536",
            "908423ab25124fcb8ef1dbe233fe4c65",
            "7284e4c0523a450a9480d2725a66e4b3",
            "32d854aa121a4c65ba49554183f409e1",
            "2cfbefa4f29648f1885a6bf8e16e6cd0",
            "324657f0fb03480f962e156b65f41db9",
            "680c35bed98d48c499babe974b1b5c9e",
            "386f8495436c4d6197e3c60158e249cf",
            "8812f1dc42da48c2bdd4864c5b0c5ccf",
            "caca00f9e09746b8a88eca609c601f09",
            "eddc1bfccefb465ead605def0409428c",
            "027c9a9ef8224377bee7ede39313085a",
            "0ca2cd1d1b40411c9da02465b0e7877c",
            "172e7db0d18f483194f48e1ef482e783",
            "d74e191f93354a169380b948f5425c77",
            "9976a3b660384cb39ba9b5ffb6ef7045",
            "5c08e1a42ad64f5990a3db66007d371e",
            "e1052e3b3dec48468b7d0704a027fca5",
            "282592f8468749588eb4e91299b52abe",
            "fa83252aff0c4a86b8dc8220a30dffa1",
            "b316439f1117443a864046ce087b0cbb",
            "4ee6fbb7c5e5419a8db1f5af6faa387c",
            "6c303a53140e4f9797ad5734f128d7c3",
            "ffbbb5ece0684262aa71e37dc8a65ea2",
            "5cf6d0c2f84c42babce0e3dff9d6ac4c",
            "159c8067ada24b5ebb875c9dc03977ea",
            "ede70d0f391742b3a0ff6481b3854fe5",
            "779a579d4849405e8fad6c4063e716f5",
            "3aa19b6459f94d349cb9d9a78b8d9e3c",
            "ff4d9cb3c0244e77bb81a0ba2264005c",
            "df33f4917eb64b2999e4d32d79311959",
            "399ca1463a87455e8a7692b839b250be",
            "b6bb9dbfe8ae498e884eae4778f8abbb",
            "de7e4c8f46e545789469f6ae68d0c9b4",
            "571717ed6ebe477cacdaac50f41a9f15",
            "77806461808043e89dcc1425d1439164",
            "a2e79bf5cb5a4289bfe9ccc06fb8e700",
            "abcc3a80fa14482187c3944cf414bb52",
            "ab86f0ec344c47f8a3151032b652ddc9",
            "1998155a3f2e4deca0fc50c994f330b4",
            "babf545a3505439d934a7990d4503cf9",
            "7b750ab66c1f4f288a8205fb70328101",
            "aa3293888c55415d8db11592785d3b50",
            "01c2d855748644a98f17bc34dba103b6",
            "8a3acd44889a4e43a354a9de6e49b5ff",
            "7d2abe08d73b493ebd27066fc1ba51f5",
            "a6edd46736b54d6bb1c9875e738f772c",
            "5f565c8988ae4901b154552a54b3cc5f",
            "970e1d04acdd4ef79efd82f73f7dbb4f",
            "a9c741ebed6349fba723b3a60b3fece2",
            "a14b8a1aaf0e4ca0a57cb28cc9d77ba0",
            "bc3c4264a6fb4d5798b653fab9951482",
            "5bb8c2902e71418d88da67e0b16552cd",
            "b06ea633f6c643a3905d87c31033b028",
            "50cf20c698324ee6b5f907aaf7fc3f5d",
            "ad2ae63242ec410d8de97f160d891ec9"
          ]
        },
        "id": "oaLaaqhNkUPd",
        "outputId": "cc57c658-0270-4128-8f9f-07f67cbf81e2"
      },
      "outputs": [
        {
          "output_type": "stream",
          "name": "stdout",
          "text": [
            "Downloading and preparing dataset 4.19 MiB (download: 4.19 MiB, generated: 32.25 MiB, total: 36.44 MiB) to ~/tensorflow_datasets/goemotions/0.1.0...\n"
          ]
        },
        {
          "output_type": "display_data",
          "data": {
            "text/plain": [
              "Dl Completed...: 0 url [00:00, ? url/s]"
            ],
            "application/vnd.jupyter.widget-view+json": {
              "version_major": 2,
              "version_minor": 0,
              "model_id": "556c0bbafa66422680037c2a444df7f4"
            }
          },
          "metadata": {}
        },
        {
          "output_type": "display_data",
          "data": {
            "text/plain": [
              "Dl Size...: 0 MiB [00:00, ? MiB/s]"
            ],
            "application/vnd.jupyter.widget-view+json": {
              "version_major": 2,
              "version_minor": 0,
              "model_id": "ddfe07b1fe334412876ae07ea5300780"
            }
          },
          "metadata": {}
        },
        {
          "output_type": "display_data",
          "data": {
            "text/plain": [
              "Generating splits...:   0%|          | 0/3 [00:00<?, ? splits/s]"
            ],
            "application/vnd.jupyter.widget-view+json": {
              "version_major": 2,
              "version_minor": 0,
              "model_id": "37fdfae872624b9e86356e783b7d870a"
            }
          },
          "metadata": {}
        },
        {
          "output_type": "display_data",
          "data": {
            "text/plain": [
              "Generating train examples...:   0%|          | 0/43410 [00:00<?, ? examples/s]"
            ],
            "application/vnd.jupyter.widget-view+json": {
              "version_major": 2,
              "version_minor": 0,
              "model_id": "9209c5b835cf4e54b07cb38f9dc5880a"
            }
          },
          "metadata": {}
        },
        {
          "output_type": "display_data",
          "data": {
            "text/plain": [
              "Shuffling ~/tensorflow_datasets/goemotions/0.1.0.incompleteSTNS1S/goemotions-train.tfrecord*...:   0%|        …"
            ],
            "application/vnd.jupyter.widget-view+json": {
              "version_major": 2,
              "version_minor": 0,
              "model_id": "908423ab25124fcb8ef1dbe233fe4c65"
            }
          },
          "metadata": {}
        },
        {
          "output_type": "display_data",
          "data": {
            "text/plain": [
              "Generating validation examples...:   0%|          | 0/5426 [00:00<?, ? examples/s]"
            ],
            "application/vnd.jupyter.widget-view+json": {
              "version_major": 2,
              "version_minor": 0,
              "model_id": "0ca2cd1d1b40411c9da02465b0e7877c"
            }
          },
          "metadata": {}
        },
        {
          "output_type": "display_data",
          "data": {
            "text/plain": [
              "Shuffling ~/tensorflow_datasets/goemotions/0.1.0.incompleteSTNS1S/goemotions-validation.tfrecord*...:   0%|   …"
            ],
            "application/vnd.jupyter.widget-view+json": {
              "version_major": 2,
              "version_minor": 0,
              "model_id": "ffbbb5ece0684262aa71e37dc8a65ea2"
            }
          },
          "metadata": {}
        },
        {
          "output_type": "display_data",
          "data": {
            "text/plain": [
              "Generating test examples...:   0%|          | 0/5427 [00:00<?, ? examples/s]"
            ],
            "application/vnd.jupyter.widget-view+json": {
              "version_major": 2,
              "version_minor": 0,
              "model_id": "571717ed6ebe477cacdaac50f41a9f15"
            }
          },
          "metadata": {}
        },
        {
          "output_type": "display_data",
          "data": {
            "text/plain": [
              "Shuffling ~/tensorflow_datasets/goemotions/0.1.0.incompleteSTNS1S/goemotions-test.tfrecord*...:   0%|         …"
            ],
            "application/vnd.jupyter.widget-view+json": {
              "version_major": 2,
              "version_minor": 0,
              "model_id": "7d2abe08d73b493ebd27066fc1ba51f5"
            }
          },
          "metadata": {}
        },
        {
          "output_type": "stream",
          "name": "stdout",
          "text": [
            "Dataset goemotions downloaded and prepared to ~/tensorflow_datasets/goemotions/0.1.0. Subsequent calls will reuse this data.\n",
            "tfds.core.DatasetInfo(\n",
            "    name='goemotions',\n",
            "    full_name='goemotions/0.1.0',\n",
            "    description=\"\"\"\n",
            "    The GoEmotions dataset contains 58k carefully curated Reddit comments labeled\n",
            "    for 27 emotion categories or Neutral. The emotion categories are admiration,\n",
            "    amusement, anger, annoyance, approval, caring, confusion, curiosity, desire,\n",
            "    disappointment, disapproval, disgust, embarrassment, excitement, fear,\n",
            "    gratitude, grief, joy, love, nervousness, optimism, pride, realization, relief,\n",
            "    remorse, sadness, surprise.\n",
            "    \"\"\",\n",
            "    homepage='https://github.com/google-research/google-research/tree/master/goemotions',\n",
            "    data_path='~/tensorflow_datasets/goemotions/0.1.0',\n",
            "    file_format=tfrecord,\n",
            "    download_size=4.19 MiB,\n",
            "    dataset_size=32.25 MiB,\n",
            "    features=FeaturesDict({\n",
            "        'admiration': tf.bool,\n",
            "        'amusement': tf.bool,\n",
            "        'anger': tf.bool,\n",
            "        'annoyance': tf.bool,\n",
            "        'approval': tf.bool,\n",
            "        'caring': tf.bool,\n",
            "        'comment_text': Text(shape=(), dtype=tf.string),\n",
            "        'confusion': tf.bool,\n",
            "        'curiosity': tf.bool,\n",
            "        'desire': tf.bool,\n",
            "        'disappointment': tf.bool,\n",
            "        'disapproval': tf.bool,\n",
            "        'disgust': tf.bool,\n",
            "        'embarrassment': tf.bool,\n",
            "        'excitement': tf.bool,\n",
            "        'fear': tf.bool,\n",
            "        'gratitude': tf.bool,\n",
            "        'grief': tf.bool,\n",
            "        'joy': tf.bool,\n",
            "        'love': tf.bool,\n",
            "        'nervousness': tf.bool,\n",
            "        'neutral': tf.bool,\n",
            "        'optimism': tf.bool,\n",
            "        'pride': tf.bool,\n",
            "        'realization': tf.bool,\n",
            "        'relief': tf.bool,\n",
            "        'remorse': tf.bool,\n",
            "        'sadness': tf.bool,\n",
            "        'surprise': tf.bool,\n",
            "    }),\n",
            "    supervised_keys=None,\n",
            "    disable_shuffling=False,\n",
            "    splits={\n",
            "        'test': <SplitInfo num_examples=5427, num_shards=1>,\n",
            "        'train': <SplitInfo num_examples=43410, num_shards=1>,\n",
            "        'validation': <SplitInfo num_examples=5426, num_shards=1>,\n",
            "    },\n",
            "    citation=\"\"\"@inproceedings{demszky-2020-goemotions,\n",
            "        title = \"{G}o{E}motions: A Dataset of Fine-Grained Emotions\",\n",
            "        author = \"Demszky, Dorottya  and\n",
            "          Movshovitz-Attias, Dana  and\n",
            "          Ko, Jeongwoo  and\n",
            "          Cowen, Alan  and\n",
            "          Nemade, Gaurav  and\n",
            "          Ravi, Sujith\",\n",
            "        booktitle = \"Proceedings of the 58th Annual Meeting of the Association for Computational Linguistics\",\n",
            "        month = jul,\n",
            "        year = \"2020\",\n",
            "        address = \"Online\",\n",
            "        publisher = \"Association for Computational Linguistics\",\n",
            "        url = \"https://www.aclweb.org/anthology/2020.acl-main.372\",\n",
            "        pages = \"4040--4054\",\n",
            "    }\"\"\",\n",
            ")\n"
          ]
        }
      ],
      "source": [
        "data, info = tfds.load(\"goemotions\", with_info=True, split='train')\n",
        "print(info)"
      ]
    },
    {
      "cell_type": "code",
      "execution_count": 4,
      "metadata": {
        "id": "XxVGPq-FixlW"
      },
      "outputs": [],
      "source": [
        "train = !wget -P data/full_dataset/ https://storage.googleapis.com/gresearch/goemotions/data/full_dataset/goemotions_1.csv\n",
        "test = !wget -P data/full_dataset/ https://storage.googleapis.com/gresearch/goemotions/data/full_dataset/goemotions_2.csv\n",
        "evaluate = !wget -P data/full_dataset/ https://storage.googleapis.com/gresearch/goemotions/data/full_dataset/goemotions_3.csv"
      ]
    },
    {
      "cell_type": "code",
      "execution_count": 5,
      "metadata": {
        "id": "45iPDUDNjW8T"
      },
      "outputs": [],
      "source": [
        "train = pd.read_csv(\"https://storage.googleapis.com/gresearch/goemotions/data/full_dataset/goemotions_1.csv\")\n",
        "test = pd.read_csv(\"https://storage.googleapis.com/gresearch/goemotions/data/full_dataset/goemotions_2.csv\")\n",
        "evaluate = pd.read_csv(\"https://storage.googleapis.com/gresearch/goemotions/data/full_dataset/goemotions_3.csv\")"
      ]
    },
    {
      "cell_type": "code",
      "execution_count": 6,
      "metadata": {
        "colab": {
          "base_uri": "https://localhost:8080/",
          "height": 456
        },
        "id": "XSi4Niqjk6_N",
        "outputId": "be8d1a80-11b2-4c78-ef24-7a546ecdd3b9"
      },
      "outputs": [
        {
          "output_type": "execute_result",
          "data": {
            "text/plain": [
              "                                                text       id  \\\n",
              "0  Worst ending ever! I won't spoil it but this o...  eee021b   \n",
              "1                     Happy cake day u/sneakpeekbot!  ed00f1z   \n",
              "2  Was he rejected because of his methodology or ...  ee1h5v1   \n",
              "3                                    thanks, I agree  eemi935   \n",
              "4                    Why would you doubt it dumbass?  eduun99   \n",
              "\n",
              "            author    subreddit    link_id   parent_id   created_utc  \\\n",
              "0       tribaltrak       movies  t3_agxbsx   t3_agxbsx  1.547847e+09   \n",
              "1     InfernicFuse  danganronpa  t3_abajdo  t1_eczoocj  1.546328e+09   \n",
              "2  OssToYouGoodSir     medicine  t3_aflo7s  t1_ee0v0vv  1.547464e+09   \n",
              "3   PMOFreeForever        NoFap  t3_ai7h09  t1_eelu54r  1.548088e+09   \n",
              "4      ugliestman1       Tinder  t3_aejwne  t1_edumeal  1.547255e+09   \n",
              "\n",
              "   rater_id  example_very_unclear  admiration  ...  love  nervousness  \\\n",
              "0        42                 False           0  ...     0            0   \n",
              "1        24                 False           0  ...     0            0   \n",
              "2        77                 False           0  ...     0            0   \n",
              "3        46                 False           0  ...     0            0   \n",
              "4        36                 False           0  ...     0            0   \n",
              "\n",
              "   optimism  pride  realization  relief  remorse  sadness  surprise  neutral  \n",
              "0         0      0            0       0        0        0         0        0  \n",
              "1         0      0            0       0        0        0         0        0  \n",
              "2         0      0            0       0        0        0         0        0  \n",
              "3         0      0            0       0        0        0         0        0  \n",
              "4         0      0            0       0        0        0         0        0  \n",
              "\n",
              "[5 rows x 37 columns]"
            ],
            "text/html": [
              "\n",
              "  <div id=\"df-372b4ca3-4f8c-4067-b7d3-a504183b8390\">\n",
              "    <div class=\"colab-df-container\">\n",
              "      <div>\n",
              "<style scoped>\n",
              "    .dataframe tbody tr th:only-of-type {\n",
              "        vertical-align: middle;\n",
              "    }\n",
              "\n",
              "    .dataframe tbody tr th {\n",
              "        vertical-align: top;\n",
              "    }\n",
              "\n",
              "    .dataframe thead th {\n",
              "        text-align: right;\n",
              "    }\n",
              "</style>\n",
              "<table border=\"1\" class=\"dataframe\">\n",
              "  <thead>\n",
              "    <tr style=\"text-align: right;\">\n",
              "      <th></th>\n",
              "      <th>text</th>\n",
              "      <th>id</th>\n",
              "      <th>author</th>\n",
              "      <th>subreddit</th>\n",
              "      <th>link_id</th>\n",
              "      <th>parent_id</th>\n",
              "      <th>created_utc</th>\n",
              "      <th>rater_id</th>\n",
              "      <th>example_very_unclear</th>\n",
              "      <th>admiration</th>\n",
              "      <th>...</th>\n",
              "      <th>love</th>\n",
              "      <th>nervousness</th>\n",
              "      <th>optimism</th>\n",
              "      <th>pride</th>\n",
              "      <th>realization</th>\n",
              "      <th>relief</th>\n",
              "      <th>remorse</th>\n",
              "      <th>sadness</th>\n",
              "      <th>surprise</th>\n",
              "      <th>neutral</th>\n",
              "    </tr>\n",
              "  </thead>\n",
              "  <tbody>\n",
              "    <tr>\n",
              "      <th>0</th>\n",
              "      <td>Worst ending ever! I won't spoil it but this o...</td>\n",
              "      <td>eee021b</td>\n",
              "      <td>tribaltrak</td>\n",
              "      <td>movies</td>\n",
              "      <td>t3_agxbsx</td>\n",
              "      <td>t3_agxbsx</td>\n",
              "      <td>1.547847e+09</td>\n",
              "      <td>42</td>\n",
              "      <td>False</td>\n",
              "      <td>0</td>\n",
              "      <td>...</td>\n",
              "      <td>0</td>\n",
              "      <td>0</td>\n",
              "      <td>0</td>\n",
              "      <td>0</td>\n",
              "      <td>0</td>\n",
              "      <td>0</td>\n",
              "      <td>0</td>\n",
              "      <td>0</td>\n",
              "      <td>0</td>\n",
              "      <td>0</td>\n",
              "    </tr>\n",
              "    <tr>\n",
              "      <th>1</th>\n",
              "      <td>Happy cake day u/sneakpeekbot!</td>\n",
              "      <td>ed00f1z</td>\n",
              "      <td>InfernicFuse</td>\n",
              "      <td>danganronpa</td>\n",
              "      <td>t3_abajdo</td>\n",
              "      <td>t1_eczoocj</td>\n",
              "      <td>1.546328e+09</td>\n",
              "      <td>24</td>\n",
              "      <td>False</td>\n",
              "      <td>0</td>\n",
              "      <td>...</td>\n",
              "      <td>0</td>\n",
              "      <td>0</td>\n",
              "      <td>0</td>\n",
              "      <td>0</td>\n",
              "      <td>0</td>\n",
              "      <td>0</td>\n",
              "      <td>0</td>\n",
              "      <td>0</td>\n",
              "      <td>0</td>\n",
              "      <td>0</td>\n",
              "    </tr>\n",
              "    <tr>\n",
              "      <th>2</th>\n",
              "      <td>Was he rejected because of his methodology or ...</td>\n",
              "      <td>ee1h5v1</td>\n",
              "      <td>OssToYouGoodSir</td>\n",
              "      <td>medicine</td>\n",
              "      <td>t3_aflo7s</td>\n",
              "      <td>t1_ee0v0vv</td>\n",
              "      <td>1.547464e+09</td>\n",
              "      <td>77</td>\n",
              "      <td>False</td>\n",
              "      <td>0</td>\n",
              "      <td>...</td>\n",
              "      <td>0</td>\n",
              "      <td>0</td>\n",
              "      <td>0</td>\n",
              "      <td>0</td>\n",
              "      <td>0</td>\n",
              "      <td>0</td>\n",
              "      <td>0</td>\n",
              "      <td>0</td>\n",
              "      <td>0</td>\n",
              "      <td>0</td>\n",
              "    </tr>\n",
              "    <tr>\n",
              "      <th>3</th>\n",
              "      <td>thanks, I agree</td>\n",
              "      <td>eemi935</td>\n",
              "      <td>PMOFreeForever</td>\n",
              "      <td>NoFap</td>\n",
              "      <td>t3_ai7h09</td>\n",
              "      <td>t1_eelu54r</td>\n",
              "      <td>1.548088e+09</td>\n",
              "      <td>46</td>\n",
              "      <td>False</td>\n",
              "      <td>0</td>\n",
              "      <td>...</td>\n",
              "      <td>0</td>\n",
              "      <td>0</td>\n",
              "      <td>0</td>\n",
              "      <td>0</td>\n",
              "      <td>0</td>\n",
              "      <td>0</td>\n",
              "      <td>0</td>\n",
              "      <td>0</td>\n",
              "      <td>0</td>\n",
              "      <td>0</td>\n",
              "    </tr>\n",
              "    <tr>\n",
              "      <th>4</th>\n",
              "      <td>Why would you doubt it dumbass?</td>\n",
              "      <td>eduun99</td>\n",
              "      <td>ugliestman1</td>\n",
              "      <td>Tinder</td>\n",
              "      <td>t3_aejwne</td>\n",
              "      <td>t1_edumeal</td>\n",
              "      <td>1.547255e+09</td>\n",
              "      <td>36</td>\n",
              "      <td>False</td>\n",
              "      <td>0</td>\n",
              "      <td>...</td>\n",
              "      <td>0</td>\n",
              "      <td>0</td>\n",
              "      <td>0</td>\n",
              "      <td>0</td>\n",
              "      <td>0</td>\n",
              "      <td>0</td>\n",
              "      <td>0</td>\n",
              "      <td>0</td>\n",
              "      <td>0</td>\n",
              "      <td>0</td>\n",
              "    </tr>\n",
              "  </tbody>\n",
              "</table>\n",
              "<p>5 rows × 37 columns</p>\n",
              "</div>\n",
              "      <button class=\"colab-df-convert\" onclick=\"convertToInteractive('df-372b4ca3-4f8c-4067-b7d3-a504183b8390')\"\n",
              "              title=\"Convert this dataframe to an interactive table.\"\n",
              "              style=\"display:none;\">\n",
              "        \n",
              "  <svg xmlns=\"http://www.w3.org/2000/svg\" height=\"24px\"viewBox=\"0 0 24 24\"\n",
              "       width=\"24px\">\n",
              "    <path d=\"M0 0h24v24H0V0z\" fill=\"none\"/>\n",
              "    <path d=\"M18.56 5.44l.94 2.06.94-2.06 2.06-.94-2.06-.94-.94-2.06-.94 2.06-2.06.94zm-11 1L8.5 8.5l.94-2.06 2.06-.94-2.06-.94L8.5 2.5l-.94 2.06-2.06.94zm10 10l.94 2.06.94-2.06 2.06-.94-2.06-.94-.94-2.06-.94 2.06-2.06.94z\"/><path d=\"M17.41 7.96l-1.37-1.37c-.4-.4-.92-.59-1.43-.59-.52 0-1.04.2-1.43.59L10.3 9.45l-7.72 7.72c-.78.78-.78 2.05 0 2.83L4 21.41c.39.39.9.59 1.41.59.51 0 1.02-.2 1.41-.59l7.78-7.78 2.81-2.81c.8-.78.8-2.07 0-2.86zM5.41 20L4 18.59l7.72-7.72 1.47 1.35L5.41 20z\"/>\n",
              "  </svg>\n",
              "      </button>\n",
              "      \n",
              "  <style>\n",
              "    .colab-df-container {\n",
              "      display:flex;\n",
              "      flex-wrap:wrap;\n",
              "      gap: 12px;\n",
              "    }\n",
              "\n",
              "    .colab-df-convert {\n",
              "      background-color: #E8F0FE;\n",
              "      border: none;\n",
              "      border-radius: 50%;\n",
              "      cursor: pointer;\n",
              "      display: none;\n",
              "      fill: #1967D2;\n",
              "      height: 32px;\n",
              "      padding: 0 0 0 0;\n",
              "      width: 32px;\n",
              "    }\n",
              "\n",
              "    .colab-df-convert:hover {\n",
              "      background-color: #E2EBFA;\n",
              "      box-shadow: 0px 1px 2px rgba(60, 64, 67, 0.3), 0px 1px 3px 1px rgba(60, 64, 67, 0.15);\n",
              "      fill: #174EA6;\n",
              "    }\n",
              "\n",
              "    [theme=dark] .colab-df-convert {\n",
              "      background-color: #3B4455;\n",
              "      fill: #D2E3FC;\n",
              "    }\n",
              "\n",
              "    [theme=dark] .colab-df-convert:hover {\n",
              "      background-color: #434B5C;\n",
              "      box-shadow: 0px 1px 3px 1px rgba(0, 0, 0, 0.15);\n",
              "      filter: drop-shadow(0px 1px 2px rgba(0, 0, 0, 0.3));\n",
              "      fill: #FFFFFF;\n",
              "    }\n",
              "  </style>\n",
              "\n",
              "      <script>\n",
              "        const buttonEl =\n",
              "          document.querySelector('#df-372b4ca3-4f8c-4067-b7d3-a504183b8390 button.colab-df-convert');\n",
              "        buttonEl.style.display =\n",
              "          google.colab.kernel.accessAllowed ? 'block' : 'none';\n",
              "\n",
              "        async function convertToInteractive(key) {\n",
              "          const element = document.querySelector('#df-372b4ca3-4f8c-4067-b7d3-a504183b8390');\n",
              "          const dataTable =\n",
              "            await google.colab.kernel.invokeFunction('convertToInteractive',\n",
              "                                                     [key], {});\n",
              "          if (!dataTable) return;\n",
              "\n",
              "          const docLinkHtml = 'Like what you see? Visit the ' +\n",
              "            '<a target=\"_blank\" href=https://colab.research.google.com/notebooks/data_table.ipynb>data table notebook</a>'\n",
              "            + ' to learn more about interactive tables.';\n",
              "          element.innerHTML = '';\n",
              "          dataTable['output_type'] = 'display_data';\n",
              "          await google.colab.output.renderOutput(dataTable, element);\n",
              "          const docLink = document.createElement('div');\n",
              "          docLink.innerHTML = docLinkHtml;\n",
              "          element.appendChild(docLink);\n",
              "        }\n",
              "      </script>\n",
              "    </div>\n",
              "  </div>\n",
              "  "
            ]
          },
          "metadata": {},
          "execution_count": 6
        }
      ],
      "source": [
        "train.head(5)\n",
        "test.head()\n",
        "evaluate.head()"
      ]
    },
    {
      "cell_type": "code",
      "execution_count": 7,
      "metadata": {
        "id": "I4K2huItvu0V"
      },
      "outputs": [],
      "source": [
        "# clean the dataset\n",
        "\n",
        "train = train.drop(['id','author','subreddit', 'link_id', 'parent_id', 'created_utc','rater_id','example_very_unclear'], axis = 1)\n",
        "test =test.drop(['id','author','subreddit', 'link_id', 'parent_id', 'created_utc','rater_id','example_very_unclear'], axis = 1)\n",
        "evaluate =evaluate.drop(['id','author','subreddit', 'link_id', 'parent_id', 'created_utc','rater_id','example_very_unclear'], axis = 1)\n"
      ]
    },
    {
      "cell_type": "code",
      "execution_count": 8,
      "metadata": {
        "colab": {
          "base_uri": "https://localhost:8080/",
          "height": 676
        },
        "id": "vorb7euyh1sk",
        "outputId": "4a610943-d7fc-4a85-a377-ef11dc30c859"
      },
      "outputs": [
        {
          "output_type": "display_data",
          "data": {
            "text/plain": [
              "<Figure size 1080x720 with 1 Axes>"
            ],
            "image/png": "[encoded data removed]"
          },
          "metadata": {
            "needs_background": "light"
          }
        }
      ],
      "source": [
        "# plot the number of appearances of each emotion in the train dataset\n",
        "\n",
        "fig, ax = plt.subplots(figsize=(15,10))\n",
        "emotions = train\n",
        "emotions = emotions.drop(['text'], axis = 1)\n",
        "emotions.sum(axis = 0, skipna = True).sort_values(ascending=False).plot(kind='bar', ax=ax)\n",
        "plt.title(\"train emotions\")\n",
        "plt.show()"
      ]
    },
    {
      "cell_type": "code",
      "execution_count": 9,
      "metadata": {
        "colab": {
          "base_uri": "https://localhost:8080/",
          "height": 676
        },
        "id": "pghnyZzNiJF2",
        "outputId": "e950177f-da87-4f71-9eb5-7ec8155b79d7"
      },
      "outputs": [
        {
          "output_type": "display_data",
          "data": {
            "text/plain": [
              "<Figure size 1080x720 with 1 Axes>"
            ],
            "image/png": "[encoded data removed]"
          },
          "metadata": {
            "needs_background": "light"
          }
        }
      ],
      "source": [
        "fig, ax = plt.subplots(figsize=(15,10))\n",
        "emotions = test\n",
        "emotions = emotions.drop(['text'], axis = 1)\n",
        "emotions.sum(axis = 0, skipna = True).sort_values(ascending=False).plot(kind='bar', ax=ax)\n",
        "plt.title(\"test emotions\")\n",
        "plt.show()"
      ]
    },
    {
      "cell_type": "markdown",
      "metadata": {
        "id": "vem1EIyYiOZ-"
      },
      "source": [
        "We can already see that \"neutral\" emotion isn't present in the train dataset, and is too much there in the test dataset. In order to improve the predictions, we will remove it."
      ]
    },
    {
      "cell_type": "code",
      "execution_count": 10,
      "metadata": {
        "colab": {
          "base_uri": "https://localhost:8080/"
        },
        "id": "ZrgrjJ0ihYAm",
        "outputId": "805c7322-4946-4398-f7d8-b9fd1bafe10d"
      },
      "outputs": [
        {
          "output_type": "execute_result",
          "data": {
            "text/plain": [
              "(70000, 28)"
            ]
          },
          "metadata": {},
          "execution_count": 10
        }
      ],
      "source": [
        "# train\n",
        "labels_train = train.drop(['text'], axis = 1)\n",
        "labels_train = np.array(labels_train)\n",
        "# validation\n",
        "labels_val = evaluate.drop(['text'], axis = 1)\n",
        "labels_val = np.array(labels_val)\n",
        "# test\n",
        "labels_test = test.drop(['text'], axis = 1)\n",
        "labels_test = np.array(labels_test)\n",
        "labels_test.shape"
      ]
    },
    {
      "cell_type": "code",
      "execution_count": 11,
      "metadata": {
        "id": "NEfEgU0flVGj"
      },
      "outputs": [],
      "source": [
        "# tokenize : breaking the sentences into word parts\n",
        "# create an element token\n",
        "tokenizer = Tokenizer(num_words = vocab_size, oov_token=oov_tok)\n",
        "# fit it on train data\n",
        "tokenizer.fit_on_texts(train[\"text\"])\n",
        "\n",
        "# tokenize the text with the same size\n",
        "sequences_training_words = tokenizer.texts_to_sequences(train[\"text\"])\n",
        "padded_train = pad_sequences(sequences_training_words,maxlen=max_length, truncating=trunc_type)\n",
        "padded_train = np.array(padded_train)\n",
        "\n",
        "# validation\n",
        "sequences_val_words = tokenizer.texts_to_sequences(evaluate[\"text\"])\n",
        "padded_val = pad_sequences(sequences_val_words,maxlen=max_length, truncating=trunc_type)\n",
        "padded_val = np.array(padded_val)\n",
        "\n",
        "# test\n",
        "sequences_testing_words = tokenizer.texts_to_sequences(test[\"text\"])\n",
        "padded_test = pad_sequences(sequences_testing_words,maxlen=max_length, truncating=trunc_type)\n",
        "padded_test = np.array(padded_test)"
      ]
    },
    {
      "cell_type": "markdown",
      "metadata": {
        "id": "q8GjCl8cbfIv"
      },
      "source": [
        "# Model Training"
      ]
    },
    {
      "cell_type": "code",
      "execution_count": 12,
      "metadata": {
        "colab": {
          "base_uri": "https://localhost:8080/"
        },
        "id": "lAAk7NRmzi4j",
        "outputId": "5ca73bb7-ad91-4473-d9f4-af7a96a6b3f2"
      },
      "outputs": [
        {
          "output_type": "execute_result",
          "data": {
            "text/plain": [
              "7000000"
            ]
          },
          "metadata": {},
          "execution_count": 12
        }
      ],
      "source": [
        "padded_train.size"
      ]
    },
    {
      "cell_type": "code",
      "execution_count": 13,
      "metadata": {
        "id": "FufaT4vlkiDE"
      },
      "outputs": [],
      "source": [
        "model = tf.keras.Sequential([\n",
        "    tf.keras.layers.Embedding(vocab_size, embedding_dim, input_length=max_length),\n",
        "    tf.keras.layers.GlobalAveragePooling1D(),\n",
        "    tf.keras.layers.Dense(24, activation='relu'),\n",
        "    tf.keras.layers.Dense(28, activation='softmax')\n",
        "])\n",
        "model.compile(loss='binary_crossentropy',optimizer='adam',metrics=['accuracy'])"
      ]
    },
    {
      "cell_type": "code",
      "execution_count": 14,
      "metadata": {
        "colab": {
          "base_uri": "https://localhost:8080/"
        },
        "id": "XfDt1hmYkiys",
        "outputId": "01cd6a94-850f-4d18-e280-b7e491ad0de6"
      },
      "outputs": [
        {
          "output_type": "stream",
          "name": "stdout",
          "text": [
            "Model: \"sequential\"\n",
            "_________________________________________________________________\n",
            " Layer (type)                Output Shape              Param #   \n",
            "=================================================================\n",
            " embedding (Embedding)       (None, 100, 16)           160000    \n",
            "                                                                 \n",
            " global_average_pooling1d (G  (None, 16)               0         \n",
            " lobalAveragePooling1D)                                          \n",
            "                                                                 \n",
            " dense (Dense)               (None, 24)                408       \n",
            "                                                                 \n",
            " dense_1 (Dense)             (None, 28)                700       \n",
            "                                                                 \n",
            "=================================================================\n",
            "Total params: 161,108\n",
            "Trainable params: 161,108\n",
            "Non-trainable params: 0\n",
            "_________________________________________________________________\n"
          ]
        }
      ],
      "source": [
        "model.summary()"
      ]
    },
    {
      "cell_type": "code",
      "execution_count": 15,
      "metadata": {
        "colab": {
          "base_uri": "https://localhost:8080/"
        },
        "id": "2DTKQFf1kkyc",
        "outputId": "77e9a2c7-e683-4150-8e48-90d7db2a8b11"
      },
      "outputs": [
        {
          "output_type": "stream",
          "name": "stdout",
          "text": [
            "Epoch 1/15\n",
            "2188/2188 - 12s - loss: 0.1805 - accuracy: 0.2468 - val_loss: 0.1567 - val_accuracy: 0.2614 - 12s/epoch - 6ms/step\n",
            "Epoch 2/15\n",
            "2188/2188 - 13s - loss: 0.1563 - accuracy: 0.2632 - val_loss: 0.1562 - val_accuracy: 0.2614 - 13s/epoch - 6ms/step\n",
            "Epoch 3/15\n",
            "2188/2188 - 13s - loss: 0.1557 - accuracy: 0.2632 - val_loss: 0.1554 - val_accuracy: 0.2614 - 13s/epoch - 6ms/step\n",
            "Epoch 4/15\n",
            "2188/2188 - 14s - loss: 0.1521 - accuracy: 0.2758 - val_loss: 0.1500 - val_accuracy: 0.2900 - 14s/epoch - 6ms/step\n",
            "Epoch 5/15\n",
            "2188/2188 - 10s - loss: 0.1477 - accuracy: 0.2948 - val_loss: 0.1473 - val_accuracy: 0.2939 - 10s/epoch - 5ms/step\n",
            "Epoch 6/15\n",
            "2188/2188 - 11s - loss: 0.1449 - accuracy: 0.3068 - val_loss: 0.1453 - val_accuracy: 0.3120 - 11s/epoch - 5ms/step\n",
            "Epoch 7/15\n",
            "2188/2188 - 10s - loss: 0.1421 - accuracy: 0.3276 - val_loss: 0.1429 - val_accuracy: 0.3304 - 10s/epoch - 5ms/step\n",
            "Epoch 8/15\n",
            "2188/2188 - 13s - loss: 0.1391 - accuracy: 0.3469 - val_loss: 0.1406 - val_accuracy: 0.3462 - 13s/epoch - 6ms/step\n",
            "Epoch 9/15\n",
            "2188/2188 - 13s - loss: 0.1364 - accuracy: 0.3563 - val_loss: 0.1387 - val_accuracy: 0.3482 - 13s/epoch - 6ms/step\n",
            "Epoch 10/15\n",
            "2188/2188 - 13s - loss: 0.1341 - accuracy: 0.3616 - val_loss: 0.1377 - val_accuracy: 0.3498 - 13s/epoch - 6ms/step\n",
            "Epoch 11/15\n",
            "2188/2188 - 11s - loss: 0.1321 - accuracy: 0.3659 - val_loss: 0.1365 - val_accuracy: 0.3518 - 11s/epoch - 5ms/step\n",
            "Epoch 12/15\n",
            "2188/2188 - 13s - loss: 0.1301 - accuracy: 0.3710 - val_loss: 0.1354 - val_accuracy: 0.3535 - 13s/epoch - 6ms/step\n",
            "Epoch 13/15\n",
            "2188/2188 - 11s - loss: 0.1281 - accuracy: 0.3774 - val_loss: 0.1343 - val_accuracy: 0.3563 - 11s/epoch - 5ms/step\n",
            "Epoch 14/15\n",
            "2188/2188 - 11s - loss: 0.1261 - accuracy: 0.3862 - val_loss: 0.1334 - val_accuracy: 0.3594 - 11s/epoch - 5ms/step\n",
            "Epoch 15/15\n",
            "2188/2188 - 11s - loss: 0.1244 - accuracy: 0.3930 - val_loss: 0.1325 - val_accuracy: 0.3642 - 11s/epoch - 5ms/step\n"
          ]
        }
      ],
      "source": [
        "num_epochs = 15\n",
        "history = model.fit(padded_train, labels_train, epochs=num_epochs, validation_data=(padded_val, labels_val), verbose=2)"
      ]
    },
    {
      "cell_type": "code",
      "execution_count": 16,
      "metadata": {
        "colab": {
          "base_uri": "https://localhost:8080/",
          "height": 545
        },
        "id": "2HYfBKXjkmU8",
        "outputId": "a4fba9b4-ce94-47ad-958b-36139d20d3ef"
      },
      "outputs": [
        {
          "output_type": "display_data",
          "data": {
            "text/plain": [
              "<Figure size 432x288 with 1 Axes>"
            ],
            "image/png": "[encoded data removed]"
          },
          "metadata": {
            "needs_background": "light"
          }
        },
        {
          "output_type": "display_data",
          "data": {
            "text/plain": [
              "<Figure size 432x288 with 1 Axes>"
            ],
            "image/png": "[encoded data removed]"
          },
          "metadata": {
            "needs_background": "light"
          }
        }
      ],
      "source": [
        "import matplotlib.pyplot as plt\n",
        "\n",
        "def plot_graphs(history, string):\n",
        "  plt.plot(history.history[string])\n",
        "  plt.plot(history.history['val_'+string])\n",
        "  plt.xlabel(\"Epochs\")\n",
        "  plt.ylabel(string)\n",
        "  plt.legend([string, 'val_'+string])\n",
        "  plt.show()\n",
        "  \n",
        "plot_graphs(history, \"accuracy\")\n",
        "plot_graphs(history, \"loss\")"
      ]
    },
    {
      "cell_type": "code",
      "execution_count": 17,
      "metadata": {
        "colab": {
          "base_uri": "https://localhost:8080/"
        },
        "id": "cG8-ArY-qDcz",
        "outputId": "70b2ea79-40a3-45d4-f174-4a4f58e7c407"
      },
      "outputs": [
        {
          "output_type": "stream",
          "name": "stdout",
          "text": [
            "1/1 [==============================] - 0s 86ms/step\n"
          ]
        }
      ],
      "source": [
        "sentence = [\"granny starting to fear spiders in the garden might be real\", \"game of thrones season finale showing this sunday night\"]\n",
        "sequences = tokenizer.texts_to_sequences(sentence)\n",
        "padded = pad_sequences(sequences, maxlen=max_length, padding=padding_type, truncating=trunc_type)\n",
        "prediction = model.predict(padded)"
      ]
    },
    {
      "cell_type": "code",
      "execution_count": 18,
      "metadata": {
        "colab": {
          "base_uri": "https://localhost:8080/"
        },
        "id": "RY9ioAp_5fU-",
        "outputId": "7c98a318-7ab4-4320-cfb9-8184f7ad3a09"
      },
      "outputs": [
        {
          "output_type": "execute_result",
          "data": {
            "text/plain": [
              "array([[False, False, False, False, False, False, False, False, False,\n",
              "        False, False, False, False, False, False, False, False, False,\n",
              "        False, False, False, False, False, False, False, False, False,\n",
              "        False],\n",
              "       [False, False, False, False, False, False, False, False, False,\n",
              "        False, False, False, False, False, False, False, False, False,\n",
              "        False, False, False, False, False, False, False, False, False,\n",
              "         True]])"
            ]
          },
          "metadata": {},
          "execution_count": 18
        }
      ],
      "source": [
        "prediction = prediction > 0.5 \n",
        "prediction"
      ]
    },
    {
      "cell_type": "code",
      "execution_count": 19,
      "metadata": {
        "colab": {
          "base_uri": "https://localhost:8080/"
        },
        "id": "DqucAE_rxKtr",
        "outputId": "cccd516e-8ae5-4d6f-91bf-60b842d08b9c"
      },
      "outputs": [
        {
          "output_type": "stream",
          "name": "stdout",
          "text": [
            "2188/2188 [==============================] - 3s 1ms/step\n"
          ]
        }
      ],
      "source": [
        "labels_output = model.predict(padded_test)\n"
      ]
    },
    {
      "cell_type": "code",
      "execution_count": 20,
      "metadata": {
        "colab": {
          "base_uri": "https://localhost:8080/"
        },
        "id": "t829C0WMl55y",
        "outputId": "2e6507b6-a0b9-4920-f8b4-3efbfed10bde"
      },
      "outputs": [
        {
          "output_type": "stream",
          "name": "stdout",
          "text": [
            "Evaluate model on test data\n",
            "547/547 [==============================] - 1s 2ms/step - loss: 0.1330 - accuracy: 0.3627\n",
            "test loss, test acc: [0.13300780951976776, 0.362671434879303]\n",
            "                precision    recall  f1-score   support\n",
            "\n",
            "    admiration       0.63      0.28      0.39      5773\n",
            "     amusement       0.62      0.35      0.44      3044\n",
            "         anger       0.62      0.01      0.02      2762\n",
            "     annoyance       0.00      0.00      0.00      4557\n",
            "      approval       0.00      0.00      0.00      5785\n",
            "        caring       0.00      0.00      0.00      1985\n",
            "     confusion       1.00      0.00      0.00      2388\n",
            "     curiosity       0.75      0.01      0.02      3190\n",
            "        desire       0.00      0.00      0.00      1245\n",
            "disappointment       0.00      0.00      0.00      2894\n",
            "   disapproval       0.00      0.00      0.00      3798\n",
            "       disgust       0.00      0.00      0.00      1753\n",
            " embarrassment       0.00      0.00      0.00       856\n",
            "    excitement       0.00      0.00      0.00      1879\n",
            "          fear       0.00      0.00      0.00      1067\n",
            "     gratitude       0.88      0.72      0.79      3841\n",
            "         grief       0.00      0.00      0.00       220\n",
            "           joy       0.00      0.00      0.00      2655\n",
            "          love       0.66      0.47      0.55      2697\n",
            "   nervousness       0.00      0.00      0.00       581\n",
            "      optimism       0.63      0.05      0.09      2956\n",
            "         pride       0.00      0.00      0.00       429\n",
            "   realization       0.00      0.00      0.00      2917\n",
            "        relief       0.00      0.00      0.00       440\n",
            "       remorse       0.50      0.00      0.01       839\n",
            "       sadness       0.89      0.00      0.01      2228\n",
            "      surprise       0.00      0.00      0.00      1805\n",
            "       neutral       0.45      0.43      0.44     18259\n",
            "\n",
            "     micro avg       0.54      0.18      0.27     82843\n",
            "     macro avg       0.27      0.08      0.10     82843\n",
            "  weighted avg       0.36      0.18      0.20     82843\n",
            "   samples avg       0.21      0.19      0.20     82843\n",
            "\n"
          ]
        },
        {
          "output_type": "stream",
          "name": "stderr",
          "text": [
            "/usr/local/lib/python3.8/dist-packages/sklearn/metrics/_classification.py:1318: UndefinedMetricWarning: Precision and F-score are ill-defined and being set to 0.0 in labels with no predicted samples. Use `zero_division` parameter to control this behavior.\n",
            "  _warn_prf(average, modifier, msg_start, len(result))\n",
            "/usr/local/lib/python3.8/dist-packages/sklearn/metrics/_classification.py:1318: UndefinedMetricWarning: Precision and F-score are ill-defined and being set to 0.0 in samples with no predicted labels. Use `zero_division` parameter to control this behavior.\n",
            "  _warn_prf(average, modifier, msg_start, len(result))\n",
            "/usr/local/lib/python3.8/dist-packages/sklearn/metrics/_classification.py:1318: UndefinedMetricWarning: Recall and F-score are ill-defined and being set to 0.0 in samples with no true labels. Use `zero_division` parameter to control this behavior.\n",
            "  _warn_prf(average, modifier, msg_start, len(result))\n"
          ]
        }
      ],
      "source": [
        "print(\"Evaluate model on test data\")\n",
        "results = model.evaluate(padded_test, labels_test, batch_size=128)\n",
        "print(\"test loss, test acc:\", results)\n",
        "\n",
        "labels_output = (labels_output > 0.5)\n",
        "\n",
        "print(classification_report(labels_test, y_pred=labels_output, target_names=test.columns[1:]))"
      ]
    },
    {
      "cell_type": "markdown",
      "metadata": {
        "id": "WJ1ncME7ilUt"
      },
      "source": [
        "## First conclusion\n",
        "\n",
        "We tried this simple model baseline. To improve it, We can already remove the \"neutral\" emotion, optimize hyperparameters, add some layers as LSTM, normalize, create some master catergories of emotions... Let's go deep in this way !"
      ]
    },
    {
      "cell_type": "markdown",
      "metadata": {
        "id": "djxnSrtajMXi"
      },
      "source": [
        "# Remove \"neutral\" emotion"
      ]
    },
    {
      "cell_type": "code",
      "execution_count": 21,
      "metadata": {
        "id": "qLb8pkiLjq6C"
      },
      "outputs": [],
      "source": [
        "# clean the dataset\n",
        "\n",
        "train = train.drop(['neutral'], axis = 1)\n",
        "test =test.drop(['neutral'], axis = 1)\n",
        "evaluate =evaluate.drop(['neutral'], axis = 1)"
      ]
    },
    {
      "cell_type": "code",
      "execution_count": 22,
      "metadata": {
        "colab": {
          "base_uri": "https://localhost:8080/"
        },
        "id": "ClMi8PqZj2pp",
        "outputId": "cc6735fd-b65d-4a4c-df84-212ba5aa5f5e"
      },
      "outputs": [
        {
          "output_type": "execute_result",
          "data": {
            "text/plain": [
              "(70000, 27)"
            ]
          },
          "metadata": {},
          "execution_count": 22
        }
      ],
      "source": [
        "# train\n",
        "labels_train = train.drop(['text'], axis = 1)\n",
        "labels_train = np.array(labels_train)\n",
        "# validation\n",
        "labels_val = evaluate.drop(['text'], axis = 1)\n",
        "labels_val = np.array(labels_val)\n",
        "# test\n",
        "labels_test = test.drop(['text'], axis = 1)\n",
        "labels_test = np.array(labels_test)\n",
        "labels_test.shape"
      ]
    },
    {
      "cell_type": "code",
      "execution_count": 23,
      "metadata": {
        "colab": {
          "base_uri": "https://localhost:8080/",
          "height": 676
        },
        "id": "VMbSx5hZl9dk",
        "outputId": "1bbb00c8-836a-4da9-a5a6-d2361e4893f4"
      },
      "outputs": [
        {
          "output_type": "display_data",
          "data": {
            "text/plain": [
              "<Figure size 1080x720 with 1 Axes>"
            ],
            "image/png": "[encoded data removed]"
          },
          "metadata": {
            "needs_background": "light"
          }
        }
      ],
      "source": [
        "fig, ax = plt.subplots(figsize=(15,10))\n",
        "emotions = train\n",
        "emotions = emotions.drop(['text'], axis = 1)\n",
        "emotions.sum(axis = 0, skipna = True).sort_values(ascending=False).plot(kind='bar', ax=ax)\n",
        "plt.title(\"train emotions without neutral\")\n",
        "plt.show()"
      ]
    },
    {
      "cell_type": "code",
      "execution_count": 24,
      "metadata": {
        "colab": {
          "base_uri": "https://localhost:8080/",
          "height": 676
        },
        "id": "MdUAPEkzmPh3",
        "outputId": "f1b9ef71-63ea-4528-8d9e-5a1e0156fa7d"
      },
      "outputs": [
        {
          "output_type": "display_data",
          "data": {
            "text/plain": [
              "<Figure size 1080x720 with 1 Axes>"
            ],
            "image/png": "[encoded data removed]"
          },
          "metadata": {
            "needs_background": "light"
          }
        }
      ],
      "source": [
        "fig, ax = plt.subplots(figsize=(15,10))\n",
        "emotions = test\n",
        "emotions = emotions.drop(['text'], axis = 1)\n",
        "emotions.sum(axis = 0, skipna = True).sort_values(ascending=False).plot(kind='bar', ax=ax)\n",
        "plt.title(\"test emotions without neutral\")\n",
        "plt.show()"
      ]
    },
    {
      "cell_type": "code",
      "execution_count": 25,
      "metadata": {
        "id": "a_1ZMmU_j7Oy"
      },
      "outputs": [],
      "source": [
        "# tokenize : breaking the sentences into word parts\n",
        "# create an element token\n",
        "tokenizer = Tokenizer(num_words = vocab_size, oov_token=oov_tok)\n",
        "# fit it on train data\n",
        "tokenizer.fit_on_texts(train[\"text\"])\n",
        "\n",
        "# tokenize the text with the same size\n",
        "sequences_training_words = tokenizer.texts_to_sequences(train[\"text\"])\n",
        "padded_train = pad_sequences(sequences_training_words,maxlen=max_length, truncating=trunc_type)\n",
        "padded_train = np.array(padded_train)\n",
        "\n",
        "# validation\n",
        "sequences_val_words = tokenizer.texts_to_sequences(evaluate[\"text\"])\n",
        "padded_val = pad_sequences(sequences_val_words,maxlen=max_length, truncating=trunc_type)\n",
        "padded_val = np.array(padded_val)\n",
        "\n",
        "# test\n",
        "sequences_testing_words = tokenizer.texts_to_sequences(test[\"text\"])\n",
        "padded_test = pad_sequences(sequences_testing_words,maxlen=max_length, truncating=trunc_type)\n",
        "padded_test = np.array(padded_test)"
      ]
    },
    {
      "cell_type": "code",
      "execution_count": 26,
      "metadata": {
        "id": "fwmzqc5IkNYJ"
      },
      "outputs": [],
      "source": [
        "model = tf.keras.Sequential([\n",
        "    tf.keras.layers.Embedding(vocab_size, embedding_dim, input_length=max_length),\n",
        "    tf.keras.layers.GlobalAveragePooling1D(),\n",
        "    tf.keras.layers.Dense(24, activation='relu'),\n",
        "    tf.keras.layers.Dense(27, activation='softmax') # remove one emotion\n",
        "])\n",
        "model.compile(loss='binary_crossentropy',optimizer='adam',metrics=['accuracy'])"
      ]
    },
    {
      "cell_type": "code",
      "execution_count": 27,
      "metadata": {
        "colab": {
          "base_uri": "https://localhost:8080/"
        },
        "id": "9nq8GZohkULD",
        "outputId": "c1f7da45-db97-4a1f-d1e9-24d605894456"
      },
      "outputs": [
        {
          "output_type": "stream",
          "name": "stdout",
          "text": [
            "Epoch 1/10\n",
            "2188/2188 - 11s - loss: 0.1651 - accuracy: 0.1679 - val_loss: 0.1409 - val_accuracy: 0.0730 - 11s/epoch - 5ms/step\n",
            "Epoch 2/10\n",
            "2188/2188 - 13s - loss: 0.1405 - accuracy: 0.1461 - val_loss: 0.1403 - val_accuracy: 0.3582 - 13s/epoch - 6ms/step\n",
            "Epoch 3/10\n",
            "2188/2188 - 13s - loss: 0.1394 - accuracy: 0.1434 - val_loss: 0.1384 - val_accuracy: 0.0948 - 13s/epoch - 6ms/step\n",
            "Epoch 4/10\n",
            "2188/2188 - 13s - loss: 0.1355 - accuracy: 0.1600 - val_loss: 0.1342 - val_accuracy: 0.1408 - 13s/epoch - 6ms/step\n",
            "Epoch 5/10\n",
            "2188/2188 - 13s - loss: 0.1322 - accuracy: 0.1666 - val_loss: 0.1322 - val_accuracy: 0.1378 - 13s/epoch - 6ms/step\n",
            "Epoch 6/10\n",
            "2188/2188 - 10s - loss: 0.1297 - accuracy: 0.1777 - val_loss: 0.1298 - val_accuracy: 0.1523 - 10s/epoch - 5ms/step\n",
            "Epoch 7/10\n",
            "2188/2188 - 11s - loss: 0.1270 - accuracy: 0.1895 - val_loss: 0.1277 - val_accuracy: 0.1967 - 11s/epoch - 5ms/step\n",
            "Epoch 8/10\n",
            "2188/2188 - 13s - loss: 0.1243 - accuracy: 0.2196 - val_loss: 0.1258 - val_accuracy: 0.1903 - 13s/epoch - 6ms/step\n",
            "Epoch 9/10\n",
            "2188/2188 - 13s - loss: 0.1217 - accuracy: 0.2355 - val_loss: 0.1238 - val_accuracy: 0.2166 - 13s/epoch - 6ms/step\n",
            "Epoch 10/10\n",
            "2188/2188 - 13s - loss: 0.1191 - accuracy: 0.2428 - val_loss: 0.1220 - val_accuracy: 0.2296 - 13s/epoch - 6ms/step\n"
          ]
        }
      ],
      "source": [
        "num_epochs = 10\n",
        "history = model.fit(padded_train, labels_train, epochs=num_epochs, validation_data=(padded_val, labels_val), verbose=2)"
      ]
    },
    {
      "cell_type": "code",
      "execution_count": 28,
      "metadata": {
        "id": "bMdXffuXSPkd",
        "colab": {
          "base_uri": "https://localhost:8080/",
          "height": 541
        },
        "outputId": "9507c5d6-f011-4f60-e10c-0cfbd1ddfddf"
      },
      "outputs": [
        {
          "output_type": "display_data",
          "data": {
            "text/plain": [
              "<Figure size 432x288 with 1 Axes>"
            ],
            "image/png": "[encoded data removed]"
          },
          "metadata": {
            "needs_background": "light"
          }
        },
        {
          "output_type": "display_data",
          "data": {
            "text/plain": [
              "<Figure size 432x288 with 1 Axes>"
            ],
            "image/png": "[encoded data removed]"
          },
          "metadata": {
            "needs_background": "light"
          }
        }
      ],
      "source": [
        "plot_graphs(history, \"accuracy\")\n",
        "plot_graphs(history, \"loss\")"
      ]
    },
    {
      "cell_type": "code",
      "execution_count": 29,
      "metadata": {
        "colab": {
          "base_uri": "https://localhost:8080/"
        },
        "id": "VQdObSnu5269",
        "outputId": "6d55f843-ce8e-46e6-bf98-5705943e4d45"
      },
      "outputs": [
        {
          "output_type": "stream",
          "name": "stdout",
          "text": [
            "Evaluate model on test data\n",
            "547/547 [==============================] - 1s 2ms/step - loss: 0.1223 - accuracy: 0.2332\n",
            "test loss, test acc: [0.12234294414520264, 0.23319999873638153]\n",
            "2188/2188 [==============================] - 3s 1ms/step\n",
            "                precision    recall  f1-score   support\n",
            "\n",
            "    admiration       0.67      0.19      0.30      5773\n",
            "     amusement       0.00      0.00      0.00      3044\n",
            "         anger       0.60      0.00      0.00      2762\n",
            "     annoyance       0.00      0.00      0.00      4557\n",
            "      approval       0.00      0.00      0.00      5785\n",
            "        caring       0.00      0.00      0.00      1985\n",
            "     confusion       0.00      0.00      0.00      2388\n",
            "     curiosity       0.00      0.00      0.00      3190\n",
            "        desire       0.00      0.00      0.00      1245\n",
            "disappointment       0.00      0.00      0.00      2894\n",
            "   disapproval       0.00      0.00      0.00      3798\n",
            "       disgust       0.00      0.00      0.00      1753\n",
            " embarrassment       0.00      0.00      0.00       856\n",
            "    excitement       0.00      0.00      0.00      1879\n",
            "          fear       0.00      0.00      0.00      1067\n",
            "     gratitude       0.88      0.71      0.78      3841\n",
            "         grief       0.00      0.00      0.00       220\n",
            "           joy       0.00      0.00      0.00      2655\n",
            "          love       0.66      0.45      0.54      2697\n",
            "   nervousness       0.00      0.00      0.00       581\n",
            "      optimism       0.61      0.02      0.03      2956\n",
            "         pride       0.00      0.00      0.00       429\n",
            "   realization       0.00      0.00      0.00      2917\n",
            "        relief       0.00      0.00      0.00       440\n",
            "       remorse       0.00      0.00      0.00       839\n",
            "       sadness       0.00      0.00      0.00      2228\n",
            "      surprise       0.00      0.00      0.00      1805\n",
            "\n",
            "     micro avg       0.76      0.08      0.14     64584\n",
            "     macro avg       0.13      0.05      0.06     64584\n",
            "  weighted avg       0.19      0.08      0.10     64584\n",
            "   samples avg       0.07      0.06      0.06     64584\n",
            "\n"
          ]
        },
        {
          "output_type": "stream",
          "name": "stderr",
          "text": [
            "/usr/local/lib/python3.8/dist-packages/sklearn/metrics/_classification.py:1318: UndefinedMetricWarning: Precision and F-score are ill-defined and being set to 0.0 in labels with no predicted samples. Use `zero_division` parameter to control this behavior.\n",
            "  _warn_prf(average, modifier, msg_start, len(result))\n",
            "/usr/local/lib/python3.8/dist-packages/sklearn/metrics/_classification.py:1318: UndefinedMetricWarning: Precision and F-score are ill-defined and being set to 0.0 in samples with no predicted labels. Use `zero_division` parameter to control this behavior.\n",
            "  _warn_prf(average, modifier, msg_start, len(result))\n",
            "/usr/local/lib/python3.8/dist-packages/sklearn/metrics/_classification.py:1318: UndefinedMetricWarning: Recall and F-score are ill-defined and being set to 0.0 in samples with no true labels. Use `zero_division` parameter to control this behavior.\n",
            "  _warn_prf(average, modifier, msg_start, len(result))\n"
          ]
        }
      ],
      "source": [
        "print(\"Evaluate model on test data\")\n",
        "results_neutral = model.evaluate(padded_test, labels_test, batch_size=128)\n",
        "print(\"test loss, test acc:\", results_neutral)\n",
        "\n",
        "labels_output = model.predict(padded_test)\n",
        "labels_output = labels_output > 0.5\n",
        "print(classification_report(labels_test, y_pred=labels_output, target_names=test.columns[1:]))"
      ]
    },
    {
      "cell_type": "markdown",
      "metadata": {
        "id": "XSQGyjMvpueA"
      },
      "source": [
        "# Add a LSTM layer"
      ]
    },
    {
      "cell_type": "code",
      "execution_count": 30,
      "metadata": {
        "id": "BgGMbdapp1MB"
      },
      "outputs": [],
      "source": [
        "model = tf.keras.Sequential([\n",
        "    tf.keras.layers.Embedding(vocab_size, embedding_dim, input_length=max_length),\n",
        "    tf.keras.layers.Dense(24, activation='relu'),\n",
        "    tf.keras.layers.LSTM(20),\n",
        "    tf.keras.layers.Dense(27, activation='softmax')\n",
        "])\n",
        "model.compile(loss='binary_crossentropy',optimizer='adam',metrics=['accuracy'])"
      ]
    },
    {
      "cell_type": "code",
      "execution_count": 31,
      "metadata": {
        "colab": {
          "base_uri": "https://localhost:8080/"
        },
        "id": "BY9f8xdX7waS",
        "outputId": "6e89f5df-5d79-42c9-e8ed-07172649dc7e"
      },
      "outputs": [
        {
          "output_type": "stream",
          "name": "stdout",
          "text": [
            "Model: \"sequential_2\"\n",
            "_________________________________________________________________\n",
            " Layer (type)                Output Shape              Param #   \n",
            "=================================================================\n",
            " embedding_2 (Embedding)     (None, 100, 16)           160000    \n",
            "                                                                 \n",
            " dense_4 (Dense)             (None, 100, 24)           408       \n",
            "                                                                 \n",
            " lstm (LSTM)                 (None, 20)                3600      \n",
            "                                                                 \n",
            " dense_5 (Dense)             (None, 27)                567       \n",
            "                                                                 \n",
            "=================================================================\n",
            "Total params: 164,575\n",
            "Trainable params: 164,575\n",
            "Non-trainable params: 0\n",
            "_________________________________________________________________\n"
          ]
        }
      ],
      "source": [
        "model.summary()"
      ]
    },
    {
      "cell_type": "code",
      "execution_count": 32,
      "metadata": {
        "colab": {
          "base_uri": "https://localhost:8080/"
        },
        "id": "zh-BzG5b1bAM",
        "outputId": "70c8b5a8-04e1-4422-b4a2-6331e836c8b0"
      },
      "outputs": [
        {
          "output_type": "stream",
          "name": "stdout",
          "text": [
            "Epoch 1/15\n",
            "2188/2188 - 110s - loss: 0.1542 - accuracy: 0.1663 - val_loss: 0.1412 - val_accuracy: 0.0779 - 110s/epoch - 50ms/step\n",
            "Epoch 2/15\n",
            "2188/2188 - 108s - loss: 0.1388 - accuracy: 0.1675 - val_loss: 0.1348 - val_accuracy: 0.1308 - 108s/epoch - 50ms/step\n",
            "Epoch 3/15\n",
            "2188/2188 - 108s - loss: 0.1299 - accuracy: 0.1907 - val_loss: 0.1287 - val_accuracy: 0.2158 - 108s/epoch - 49ms/step\n",
            "Epoch 4/15\n",
            "2188/2188 - 108s - loss: 0.1249 - accuracy: 0.2106 - val_loss: 0.1256 - val_accuracy: 0.2063 - 108s/epoch - 49ms/step\n",
            "Epoch 5/15\n",
            "2188/2188 - 109s - loss: 0.1206 - accuracy: 0.2248 - val_loss: 0.1230 - val_accuracy: 0.2196 - 109s/epoch - 50ms/step\n",
            "Epoch 6/15\n",
            "2188/2188 - 107s - loss: 0.1166 - accuracy: 0.2396 - val_loss: 0.1208 - val_accuracy: 0.2213 - 107s/epoch - 49ms/step\n",
            "Epoch 7/15\n",
            "2188/2188 - 108s - loss: 0.1131 - accuracy: 0.2543 - val_loss: 0.1196 - val_accuracy: 0.2268 - 108s/epoch - 49ms/step\n",
            "Epoch 8/15\n",
            "2188/2188 - 107s - loss: 0.1103 - accuracy: 0.2669 - val_loss: 0.1184 - val_accuracy: 0.2383 - 107s/epoch - 49ms/step\n",
            "Epoch 9/15\n",
            "2188/2188 - 109s - loss: 0.1080 - accuracy: 0.2774 - val_loss: 0.1180 - val_accuracy: 0.2458 - 109s/epoch - 50ms/step\n",
            "Epoch 10/15\n",
            "2188/2188 - 109s - loss: 0.1062 - accuracy: 0.2844 - val_loss: 0.1181 - val_accuracy: 0.2406 - 109s/epoch - 50ms/step\n",
            "Epoch 11/15\n",
            "2188/2188 - 107s - loss: 0.1046 - accuracy: 0.2923 - val_loss: 0.1178 - val_accuracy: 0.2416 - 107s/epoch - 49ms/step\n",
            "Epoch 12/15\n",
            "2188/2188 - 108s - loss: 0.1031 - accuracy: 0.3012 - val_loss: 0.1185 - val_accuracy: 0.2436 - 108s/epoch - 49ms/step\n",
            "Epoch 13/15\n",
            "2188/2188 - 107s - loss: 0.1019 - accuracy: 0.3052 - val_loss: 0.1185 - val_accuracy: 0.2448 - 107s/epoch - 49ms/step\n",
            "Epoch 14/15\n",
            "2188/2188 - 107s - loss: 0.1008 - accuracy: 0.3105 - val_loss: 0.1188 - val_accuracy: 0.2520 - 107s/epoch - 49ms/step\n",
            "Epoch 15/15\n",
            "2188/2188 - 106s - loss: 0.0997 - accuracy: 0.3154 - val_loss: 0.1194 - val_accuracy: 0.2420 - 106s/epoch - 49ms/step\n"
          ]
        }
      ],
      "source": [
        "num_epochs = 15\n",
        "history_lstm = model.fit(padded_train, labels_train, epochs=num_epochs, validation_data=(padded_val, labels_val), verbose=2)"
      ]
    },
    {
      "cell_type": "code",
      "execution_count": 33,
      "metadata": {
        "colab": {
          "base_uri": "https://localhost:8080/",
          "height": 541
        },
        "id": "58kRp4Kd1ha5",
        "outputId": "a515ab46-9d49-4115-8140-8d8609d1480f"
      },
      "outputs": [
        {
          "output_type": "display_data",
          "data": {
            "text/plain": [
              "<Figure size 432x288 with 1 Axes>"
            ],
            "image/png": "[encoded data removed]"
          },
          "metadata": {
            "needs_background": "light"
          }
        },
        {
          "output_type": "display_data",
          "data": {
            "text/plain": [
              "<Figure size 432x288 with 1 Axes>"
            ],
            "image/png": "[encoded data removed]"
          },
          "metadata": {
            "needs_background": "light"
          }
        }
      ],
      "source": [
        "plot_graphs(history_lstm, \"accuracy\")\n",
        "plot_graphs(history_lstm, \"loss\")"
      ]
    },
    {
      "cell_type": "code",
      "execution_count": 34,
      "metadata": {
        "colab": {
          "base_uri": "https://localhost:8080/"
        },
        "id": "065xC3Iy4tdx",
        "outputId": "4c26dbe4-5a8d-41ce-b536-f1b97da973eb"
      },
      "outputs": [
        {
          "output_type": "stream",
          "name": "stdout",
          "text": [
            "2188/2188 [==============================] - 22s 10ms/step\n"
          ]
        }
      ],
      "source": [
        "output_lstm = model.predict(padded_test)"
      ]
    },
    {
      "cell_type": "code",
      "execution_count": 35,
      "metadata": {
        "colab": {
          "base_uri": "https://localhost:8080/"
        },
        "id": "bTB-u91M415O",
        "outputId": "d7949cc0-a5d6-4b8b-fb78-2820669119c1"
      },
      "outputs": [
        {
          "output_type": "stream",
          "name": "stdout",
          "text": [
            "Evaluate model on test data\n",
            "547/547 [==============================] - 10s 19ms/step - loss: 0.1200 - accuracy: 0.2440\n",
            "test loss, test acc: [0.11996158212423325, 0.24397142231464386]\n",
            "2188/2188 [==============================] - 21s 10ms/step\n",
            "                precision    recall  f1-score   support\n",
            "\n",
            "    admiration       0.55      0.37      0.45      5773\n",
            "     amusement       0.55      0.56      0.56      3044\n",
            "         anger       0.48      0.07      0.12      2762\n",
            "     annoyance       0.50      0.00      0.00      4557\n",
            "      approval       0.19      0.07      0.10      5785\n",
            "        caring       0.50      0.00      0.00      1985\n",
            "     confusion       0.62      0.01      0.02      2388\n",
            "     curiosity       0.29      0.03      0.06      3190\n",
            "        desire       0.00      0.00      0.00      1245\n",
            "disappointment       0.00      0.00      0.00      2894\n",
            "   disapproval       0.30      0.00      0.00      3798\n",
            "       disgust       0.95      0.02      0.04      1753\n",
            " embarrassment       0.00      0.00      0.00       856\n",
            "    excitement       0.47      0.01      0.02      1879\n",
            "          fear       0.64      0.05      0.10      1067\n",
            "     gratitude       0.89      0.72      0.80      3841\n",
            "         grief       0.00      0.00      0.00       220\n",
            "           joy       0.51      0.06      0.10      2655\n",
            "          love       0.62      0.50      0.56      2697\n",
            "   nervousness       0.00      0.00      0.00       581\n",
            "      optimism       0.51      0.06      0.10      2956\n",
            "         pride       0.00      0.00      0.00       429\n",
            "   realization       0.00      0.00      0.00      2917\n",
            "        relief       0.00      0.00      0.00       440\n",
            "       remorse       0.47      0.04      0.07       839\n",
            "       sadness       0.65      0.04      0.07      2228\n",
            "      surprise       0.45      0.04      0.08      1805\n",
            "\n",
            "     micro avg       0.57      0.14      0.23     64584\n",
            "     macro avg       0.38      0.10      0.12     64584\n",
            "  weighted avg       0.43      0.14      0.17     64584\n",
            "   samples avg       0.13      0.11      0.12     64584\n",
            "\n"
          ]
        },
        {
          "output_type": "stream",
          "name": "stderr",
          "text": [
            "/usr/local/lib/python3.8/dist-packages/sklearn/metrics/_classification.py:1318: UndefinedMetricWarning: Precision and F-score are ill-defined and being set to 0.0 in labels with no predicted samples. Use `zero_division` parameter to control this behavior.\n",
            "  _warn_prf(average, modifier, msg_start, len(result))\n",
            "/usr/local/lib/python3.8/dist-packages/sklearn/metrics/_classification.py:1318: UndefinedMetricWarning: Precision and F-score are ill-defined and being set to 0.0 in samples with no predicted labels. Use `zero_division` parameter to control this behavior.\n",
            "  _warn_prf(average, modifier, msg_start, len(result))\n",
            "/usr/local/lib/python3.8/dist-packages/sklearn/metrics/_classification.py:1318: UndefinedMetricWarning: Recall and F-score are ill-defined and being set to 0.0 in samples with no true labels. Use `zero_division` parameter to control this behavior.\n",
            "  _warn_prf(average, modifier, msg_start, len(result))\n"
          ]
        }
      ],
      "source": [
        "print(\"Evaluate model on test data\")\n",
        "results_lstm = model.evaluate(padded_test, labels_test, batch_size=128)\n",
        "print(\"test loss, test acc:\", results_lstm)\n",
        "\n",
        "labels_output = model.predict(padded_test)\n",
        "labels_output = labels_output > 0.5\n",
        "print(classification_report(labels_test, y_pred=labels_output, target_names=test.columns[1:]))"
      ]
    },
    {
      "cell_type": "markdown",
      "metadata": {
        "id": "g-r2ZWfgnv9B"
      },
      "source": [
        "# Try with normalization the text"
      ]
    },
    {
      "cell_type": "code",
      "execution_count": 36,
      "metadata": {
        "id": "WeZ_YwDen1Ou"
      },
      "outputs": [],
      "source": [
        "# labels are already standardized\n",
        "padded_train_norm = preprocessing.normalize(padded_train)\n",
        "padded_val_norm = preprocessing.normalize(padded_val)\n",
        "padded_test_norm = preprocessing.normalize(padded_test)"
      ]
    },
    {
      "cell_type": "code",
      "execution_count": 37,
      "metadata": {
        "colab": {
          "base_uri": "https://localhost:8080/"
        },
        "id": "8s0Q2tftodKP",
        "outputId": "887475cf-2d8d-4a35-b4f1-15e26c1a1b0b"
      },
      "outputs": [
        {
          "output_type": "stream",
          "name": "stdout",
          "text": [
            "Epoch 1/15\n",
            "2188/2188 - 109s - loss: 0.1420 - accuracy: 0.1689 - val_loss: 0.1416 - val_accuracy: 0.0731 - 109s/epoch - 50ms/step\n",
            "Epoch 2/15\n",
            "2188/2188 - 107s - loss: 0.1415 - accuracy: 0.1578 - val_loss: 0.1416 - val_accuracy: 0.0730 - 107s/epoch - 49ms/step\n",
            "Epoch 3/15\n",
            "2188/2188 - 107s - loss: 0.1415 - accuracy: 0.1571 - val_loss: 0.1415 - val_accuracy: 0.3559 - 107s/epoch - 49ms/step\n",
            "Epoch 4/15\n",
            "2188/2188 - 106s - loss: 0.1415 - accuracy: 0.1416 - val_loss: 0.1416 - val_accuracy: 0.0730 - 106s/epoch - 49ms/step\n",
            "Epoch 5/15\n",
            "2188/2188 - 106s - loss: 0.1419 - accuracy: 0.1591 - val_loss: 0.1771 - val_accuracy: 0.0397 - 106s/epoch - 49ms/step\n",
            "Epoch 6/15\n",
            "2188/2188 - 107s - loss: 0.1417 - accuracy: 0.1693 - val_loss: 0.1416 - val_accuracy: 0.0731 - 107s/epoch - 49ms/step\n",
            "Epoch 7/15\n",
            "2188/2188 - 107s - loss: 0.1415 - accuracy: 0.1753 - val_loss: 0.1416 - val_accuracy: 0.0730 - 107s/epoch - 49ms/step\n",
            "Epoch 8/15\n",
            "2188/2188 - 107s - loss: 0.1414 - accuracy: 0.1600 - val_loss: 0.1415 - val_accuracy: 0.0730 - 107s/epoch - 49ms/step\n",
            "Epoch 9/15\n",
            "2188/2188 - 107s - loss: 0.1414 - accuracy: 0.1611 - val_loss: 0.1415 - val_accuracy: 0.0730 - 107s/epoch - 49ms/step\n",
            "Epoch 10/15\n",
            "2188/2188 - 107s - loss: 0.1414 - accuracy: 0.1363 - val_loss: 0.1416 - val_accuracy: 0.0730 - 107s/epoch - 49ms/step\n",
            "Epoch 11/15\n",
            "2188/2188 - 106s - loss: 0.1414 - accuracy: 0.1532 - val_loss: 0.1416 - val_accuracy: 0.0731 - 106s/epoch - 48ms/step\n",
            "Epoch 12/15\n",
            "2188/2188 - 106s - loss: 0.1414 - accuracy: 0.1490 - val_loss: 0.1415 - val_accuracy: 0.0730 - 106s/epoch - 48ms/step\n",
            "Epoch 13/15\n",
            "2188/2188 - 106s - loss: 0.1414 - accuracy: 0.1515 - val_loss: 0.1415 - val_accuracy: 0.0730 - 106s/epoch - 48ms/step\n",
            "Epoch 14/15\n",
            "2188/2188 - 106s - loss: 0.1414 - accuracy: 0.1598 - val_loss: 0.1415 - val_accuracy: 0.0730 - 106s/epoch - 49ms/step\n",
            "Epoch 15/15\n",
            "2188/2188 - 107s - loss: 0.1414 - accuracy: 0.1592 - val_loss: 0.1415 - val_accuracy: 0.0730 - 107s/epoch - 49ms/step\n"
          ]
        }
      ],
      "source": [
        "history = model.fit(padded_train_norm, labels_train, epochs=num_epochs, validation_data=(padded_val_norm, labels_val), verbose=2)"
      ]
    },
    {
      "cell_type": "code",
      "execution_count": 38,
      "metadata": {
        "colab": {
          "base_uri": "https://localhost:8080/",
          "height": 541
        },
        "id": "Da0UvfhfSVzJ",
        "outputId": "7575fdf1-7812-4955-82cc-860f100a9a8f"
      },
      "outputs": [
        {
          "output_type": "display_data",
          "data": {
            "text/plain": [
              "<Figure size 432x288 with 1 Axes>"
            ],
            "image/png": "[encoded data removed]"
          },
          "metadata": {
            "needs_background": "light"
          }
        },
        {
          "output_type": "display_data",
          "data": {
            "text/plain": [
              "<Figure size 432x288 with 1 Axes>"
            ],
            "image/png": "[encoded data removed]"
          },
          "metadata": {
            "needs_background": "light"
          }
        }
      ],
      "source": [
        "plot_graphs(history, \"accuracy\")\n",
        "plot_graphs(history, \"loss\")"
      ]
    },
    {
      "cell_type": "code",
      "execution_count": 39,
      "metadata": {
        "colab": {
          "base_uri": "https://localhost:8080/"
        },
        "id": "gZWevf_mox_q",
        "outputId": "7f5eb7d7-6be1-4734-9e53-6d927779751f"
      },
      "outputs": [
        {
          "output_type": "stream",
          "name": "stdout",
          "text": [
            "Evaluate model on test data\n",
            "547/547 [==============================] - 10s 18ms/step - loss: 0.1420 - accuracy: 0.0731\n",
            "test loss, test acc: [0.14197227358818054, 0.0731000006198883]\n",
            "2188/2188 [==============================] - 21s 9ms/step\n",
            "                precision    recall  f1-score   support\n",
            "\n",
            "    admiration       0.64      0.09      0.16      5773\n",
            "     amusement       0.59      0.21      0.31      3044\n",
            "         anger       0.00      0.00      0.00      2762\n",
            "     annoyance       0.00      0.00      0.00      4557\n",
            "      approval       0.00      0.00      0.00      5785\n",
            "        caring       0.00      0.00      0.00      1985\n",
            "     confusion       0.00      0.00      0.00      2388\n",
            "     curiosity       0.00      0.00      0.00      3190\n",
            "        desire       0.00      0.00      0.00      1245\n",
            "disappointment       0.00      0.00      0.00      2894\n",
            "   disapproval       0.00      0.00      0.00      3798\n",
            "       disgust       0.00      0.00      0.00      1753\n",
            " embarrassment       0.00      0.00      0.00       856\n",
            "    excitement       0.00      0.00      0.00      1879\n",
            "          fear       0.00      0.00      0.00      1067\n",
            "     gratitude       0.29      0.01      0.02      3841\n",
            "         grief       0.00      0.00      0.00       220\n",
            "           joy       0.00      0.00      0.00      2655\n",
            "          love       0.00      0.00      0.00      2697\n",
            "   nervousness       0.00      0.00      0.00       581\n",
            "      optimism       0.00      0.00      0.00      2956\n",
            "         pride       0.00      0.00      0.00       429\n",
            "   realization       0.00      0.00      0.00      2917\n",
            "        relief       0.00      0.00      0.00       440\n",
            "       remorse       0.00      0.00      0.00       839\n",
            "       sadness       0.00      0.00      0.00      2228\n",
            "      surprise       0.00      0.00      0.00      1805\n",
            "\n",
            "     micro avg       0.59      0.02      0.04     64584\n",
            "     macro avg       0.06      0.01      0.02     64584\n",
            "  weighted avg       0.10      0.02      0.03     64584\n",
            "   samples avg       0.02      0.01      0.02     64584\n",
            "\n"
          ]
        },
        {
          "output_type": "stream",
          "name": "stderr",
          "text": [
            "/usr/local/lib/python3.8/dist-packages/sklearn/metrics/_classification.py:1318: UndefinedMetricWarning: Precision and F-score are ill-defined and being set to 0.0 in labels with no predicted samples. Use `zero_division` parameter to control this behavior.\n",
            "  _warn_prf(average, modifier, msg_start, len(result))\n",
            "/usr/local/lib/python3.8/dist-packages/sklearn/metrics/_classification.py:1318: UndefinedMetricWarning: Precision and F-score are ill-defined and being set to 0.0 in samples with no predicted labels. Use `zero_division` parameter to control this behavior.\n",
            "  _warn_prf(average, modifier, msg_start, len(result))\n",
            "/usr/local/lib/python3.8/dist-packages/sklearn/metrics/_classification.py:1318: UndefinedMetricWarning: Recall and F-score are ill-defined and being set to 0.0 in samples with no true labels. Use `zero_division` parameter to control this behavior.\n",
            "  _warn_prf(average, modifier, msg_start, len(result))\n"
          ]
        }
      ],
      "source": [
        "print(\"Evaluate model on test data\")\n",
        "results_norm = model.evaluate(padded_test_norm, labels_test, batch_size=128)\n",
        "print(\"test loss, test acc:\", results_norm)\n",
        "\n",
        "labels_output = model.predict(padded_test)\n",
        "labels_output = labels_output > 0.5\n",
        "print(classification_report(labels_test, y_pred=labels_output, target_names=test.columns[1:]))"
      ]
    },
    {
      "cell_type": "markdown",
      "metadata": {
        "id": "u8Zx5qYapvYL"
      },
      "source": [
        "It was expected to win in accuracy with normalization, however we lost a lot !!"
      ]
    },
    {
      "cell_type": "markdown",
      "metadata": {
        "id": "6RuXnZFRMT5W"
      },
      "source": [
        "## Merge columns in master category"
      ]
    },
    {
      "cell_type": "code",
      "execution_count": 40,
      "metadata": {
        "id": "aOmpksppMXV3"
      },
      "outputs": [],
      "source": [
        "emotions_list = train.columns[1:]\n",
        "emotions_list\n",
        "\n",
        "cat_emotions_list = ['anger', 'disgust', 'fear', 'joy', 'sadness', 'surprise']"
      ]
    },
    {
      "cell_type": "code",
      "execution_count": 41,
      "metadata": {
        "id": "nPYzDTtDv8WS"
      },
      "outputs": [],
      "source": [
        "\n",
        "# function that creates categories of emotions\n",
        "def emotions_to_cat(emotions_labels):\n",
        "    \n",
        "    # create a dataframe of emotions labels\n",
        "    df_emotions = pd.DataFrame(emotions_labels, columns=emotions_list)\n",
        "\n",
        "    # create a dataframe of categories labels\n",
        "    df_cat  = pd.DataFrame(np.zeros((len(emotions_labels), len(cat_emotions_list))), columns=cat_emotions_list)\n",
        "\n",
        "    for i in range(len(df_emotions)): # for each line of the emotions dataframe\n",
        "\n",
        "        if df_emotions.loc[i,['anger', 'annoyance', 'disapproval']].sum() >= 1:\n",
        "            df_cat.loc[i,'anger'] = 1 # if we find at least one of this emotions we fill the categorie df with the correponding category\n",
        "\n",
        "        if df_emotions.loc[i,'disgust'].sum() >= 1:\n",
        "            df_cat.loc[i,'disgust'] = 1\n",
        "\n",
        "        if df_emotions.loc[i,['fear', 'nervousness']].sum() >= 1:\n",
        "            df_cat.loc[i,'fear'] = 1\n",
        "\n",
        "        if df_emotions.loc[i,['joy', 'amusement', 'approval', 'excitement', 'gratitude',\n",
        "                        'love', 'optimism', 'relief', 'pride', 'admiration', 'desire','caring']].sum() >= 1:\n",
        "            df_cat.loc[i,'joy'] = 1 \n",
        "\n",
        "        if df_emotions.loc[i,['sadness', 'disappointment', 'embarrassment', 'grief', 'remorse']].sum() >= 1:\n",
        "            df_cat.loc[i,'sadness'] = 1\n",
        "\n",
        "        if df_emotions.loc[i,['surprise', 'realization', 'confusion', 'curiosity']].sum() >= 1:\n",
        "            df_cat.loc[i,'surprise'] = 1\n",
        "\n",
        "    return df_cat.values"
      ]
    },
    {
      "cell_type": "code",
      "execution_count": 42,
      "metadata": {
        "id": "4kPPcQbvwB4Q"
      },
      "outputs": [],
      "source": [
        "# Mapping GoEmotion labels to Ekman labels (true and predictions)\n",
        "labels_test_cat = emotions_to_cat(labels_test)\n",
        "labels_output_cat = emotions_to_cat(labels_output)\n",
        "    "
      ]
    },
    {
      "cell_type": "code",
      "execution_count": 43,
      "metadata": {
        "colab": {
          "base_uri": "https://localhost:8080/"
        },
        "id": "KP742ceJXtLu",
        "outputId": "c796eafd-0f34-42f7-ccfd-f2916b474e21"
      },
      "outputs": [
        {
          "output_type": "execute_result",
          "data": {
            "text/plain": [
              "array([[0., 0., 0., 1., 0., 0.],\n",
              "       [1., 0., 0., 0., 0., 0.],\n",
              "       [0., 0., 0., 1., 0., 0.],\n",
              "       ...,\n",
              "       [0., 1., 0., 0., 0., 0.],\n",
              "       [1., 0., 0., 0., 0., 0.],\n",
              "       [0., 0., 0., 1., 0., 0.]])"
            ]
          },
          "metadata": {},
          "execution_count": 43
        }
      ],
      "source": [
        "labels_test_cat"
      ]
    },
    {
      "cell_type": "code",
      "execution_count": 44,
      "metadata": {
        "colab": {
          "base_uri": "https://localhost:8080/"
        },
        "id": "VYGVYj6FX3Zi",
        "outputId": "b5a8e443-0084-4651-895f-3edb4a17425e"
      },
      "outputs": [
        {
          "output_type": "execute_result",
          "data": {
            "text/plain": [
              "array([[0., 0., 0., 0., 0., 0.],\n",
              "       [0., 0., 0., 0., 0., 0.],\n",
              "       [0., 0., 0., 0., 0., 0.],\n",
              "       ...,\n",
              "       [0., 0., 0., 0., 0., 0.],\n",
              "       [0., 0., 0., 0., 0., 0.],\n",
              "       [0., 0., 0., 0., 0., 0.]])"
            ]
          },
          "metadata": {},
          "execution_count": 44
        }
      ],
      "source": [
        "labels_output_cat"
      ]
    },
    {
      "cell_type": "code",
      "execution_count": 46,
      "metadata": {
        "id": "ENLgUqOkx09e"
      },
      "outputs": [],
      "source": [
        "# retrain with new categories\n",
        "labels_train_cat = emotions_to_cat(labels_train)\n",
        "labels_val_cat = emotions_to_cat(labels_val)"
      ]
    },
    {
      "cell_type": "code",
      "source": [
        "# updated model\n",
        "model = tf.keras.Sequential([\n",
        "    tf.keras.layers.Embedding(vocab_size, embedding_dim, input_length=max_length),\n",
        "    tf.keras.layers.Dense(24, activation='relu'),\n",
        "    tf.keras.layers.LSTM(20),\n",
        "    tf.keras.layers.Dense(6, activation='softmax') # change number of outputs\n",
        "])\n",
        "model.compile(loss='binary_crossentropy',optimizer='adam',metrics=['accuracy'])"
      ],
      "metadata": {
        "id": "cbbpASPc565r"
      },
      "execution_count": 47,
      "outputs": []
    },
    {
      "cell_type": "code",
      "execution_count": 48,
      "metadata": {
        "id": "GsAL5_ah18PA"
      },
      "outputs": [],
      "source": [
        "# baseline model\n",
        "model_cat = tf.keras.Sequential([\n",
        "    tf.keras.layers.Embedding(vocab_size, embedding_dim, input_length=max_length),\n",
        "    tf.keras.layers.GlobalAveragePooling1D(),\n",
        "    tf.keras.layers.Dense(24, activation='relu'),\n",
        "    tf.keras.layers.Dense(6, activation='softmax') # change number of outputs\n",
        "])\n",
        "model_cat.compile(loss='binary_crossentropy',optimizer='adam',metrics=['accuracy'])"
      ]
    },
    {
      "cell_type": "code",
      "execution_count": 49,
      "metadata": {
        "colab": {
          "base_uri": "https://localhost:8080/"
        },
        "id": "Xsl9rtN2zfhu",
        "outputId": "b25f9c96-f350-4076-b5e0-6cef8cfcb6a0"
      },
      "outputs": [
        {
          "output_type": "stream",
          "name": "stdout",
          "text": [
            "Epoch 1/15\n",
            "2188/2188 - 115s - loss: 0.3184 - accuracy: 0.4299 - val_loss: 0.2915 - val_accuracy: 0.5002 - 115s/epoch - 53ms/step\n",
            "Epoch 2/15\n",
            "2188/2188 - 112s - loss: 0.2726 - accuracy: 0.5210 - val_loss: 0.2742 - val_accuracy: 0.5039 - 112s/epoch - 51ms/step\n",
            "Epoch 3/15\n",
            "2188/2188 - 112s - loss: 0.2541 - accuracy: 0.5504 - val_loss: 0.2676 - val_accuracy: 0.5259 - 112s/epoch - 51ms/step\n",
            "Epoch 4/15\n",
            "2188/2188 - 111s - loss: 0.2439 - accuracy: 0.5610 - val_loss: 0.2678 - val_accuracy: 0.5159 - 111s/epoch - 51ms/step\n",
            "Epoch 5/15\n",
            "2188/2188 - 108s - loss: 0.2363 - accuracy: 0.5702 - val_loss: 0.2675 - val_accuracy: 0.5170 - 108s/epoch - 49ms/step\n",
            "Epoch 6/15\n",
            "2188/2188 - 109s - loss: 0.2300 - accuracy: 0.5758 - val_loss: 0.2677 - val_accuracy: 0.5477 - 109s/epoch - 50ms/step\n",
            "Epoch 7/15\n",
            "2188/2188 - 108s - loss: 0.2248 - accuracy: 0.5825 - val_loss: 0.2719 - val_accuracy: 0.5421 - 108s/epoch - 49ms/step\n",
            "Epoch 8/15\n",
            "2188/2188 - 108s - loss: 0.2198 - accuracy: 0.5859 - val_loss: 0.2737 - val_accuracy: 0.5247 - 108s/epoch - 49ms/step\n",
            "Epoch 9/15\n",
            "2188/2188 - 107s - loss: 0.2152 - accuracy: 0.5906 - val_loss: 0.2762 - val_accuracy: 0.5211 - 107s/epoch - 49ms/step\n",
            "Epoch 10/15\n",
            "2188/2188 - 107s - loss: 0.2112 - accuracy: 0.5939 - val_loss: 0.2791 - val_accuracy: 0.5283 - 107s/epoch - 49ms/step\n",
            "Epoch 11/15\n",
            "2188/2188 - 107s - loss: 0.2076 - accuracy: 0.5970 - val_loss: 0.2821 - val_accuracy: 0.5112 - 107s/epoch - 49ms/step\n",
            "Epoch 12/15\n",
            "2188/2188 - 109s - loss: 0.2043 - accuracy: 0.5993 - val_loss: 0.2837 - val_accuracy: 0.5263 - 109s/epoch - 50ms/step\n",
            "Epoch 13/15\n",
            "2188/2188 - 108s - loss: 0.2012 - accuracy: 0.6015 - val_loss: 0.2869 - val_accuracy: 0.5261 - 108s/epoch - 49ms/step\n",
            "Epoch 14/15\n",
            "2188/2188 - 109s - loss: 0.1982 - accuracy: 0.6050 - val_loss: 0.2921 - val_accuracy: 0.5124 - 109s/epoch - 50ms/step\n",
            "Epoch 15/15\n",
            "2188/2188 - 109s - loss: 0.1952 - accuracy: 0.6067 - val_loss: 0.2936 - val_accuracy: 0.5261 - 109s/epoch - 50ms/step\n"
          ]
        }
      ],
      "source": [
        "num_epochs = 15\n",
        "history_cat = model.fit(padded_train, labels_train_cat, epochs=num_epochs, validation_data=(padded_val, labels_val_cat), verbose=2)"
      ]
    },
    {
      "cell_type": "code",
      "execution_count": 50,
      "metadata": {
        "colab": {
          "base_uri": "https://localhost:8080/",
          "height": 541
        },
        "id": "Bg9fLlXt28uu",
        "outputId": "15f94a6d-c8bd-4855-ec8c-dcfa0c9785d9"
      },
      "outputs": [
        {
          "output_type": "display_data",
          "data": {
            "text/plain": [
              "<Figure size 432x288 with 1 Axes>"
            ],
            "image/png": "[encoded data removed]"
          },
          "metadata": {
            "needs_background": "light"
          }
        },
        {
          "output_type": "display_data",
          "data": {
            "text/plain": [
              "<Figure size 432x288 with 1 Axes>"
            ],
            "image/png": "[encoded data removed]"
          },
          "metadata": {
            "needs_background": "light"
          }
        }
      ],
      "source": [
        "plot_graphs(history_cat, \"accuracy\")\n",
        "plot_graphs(history_cat, \"loss\")"
      ]
    },
    {
      "cell_type": "code",
      "execution_count": 51,
      "metadata": {
        "colab": {
          "base_uri": "https://localhost:8080/"
        },
        "id": "-uyuK3Ds7iEY",
        "outputId": "a702f1bb-5a3e-4303-929b-89d5537020d1"
      },
      "outputs": [
        {
          "output_type": "stream",
          "name": "stdout",
          "text": [
            "2188/2188 [==============================] - 21s 9ms/step\n"
          ]
        }
      ],
      "source": [
        "labels_output_cat = model.predict(padded_test)"
      ]
    },
    {
      "cell_type": "code",
      "execution_count": 54,
      "metadata": {
        "colab": {
          "base_uri": "https://localhost:8080/"
        },
        "id": "wWXRXP862xf4",
        "outputId": "3b979fce-ed28-4e98-e113-bfda30d5d028"
      },
      "outputs": [
        {
          "output_type": "stream",
          "name": "stdout",
          "text": [
            "Evaluate model_cat on test data\n",
            "547/547 [==============================] - 15s 28ms/step - loss: 0.2948 - accuracy: 0.5220\n",
            "test loss, test acc: [0.29481691122055054, 0.5219714045524597]\n",
            "              precision    recall  f1-score   support\n",
            "\n",
            "       anger       0.36      0.43      0.39     10221\n",
            "     disgust       0.40      0.09      0.14      1753\n",
            "        fear       0.43      0.29      0.35      1501\n",
            "         joy       0.63      0.75      0.68     27479\n",
            "     sadness       0.49      0.33      0.39      6433\n",
            "    surprise       0.36      0.36      0.36      9635\n",
            "\n",
            "   micro avg       0.52      0.54      0.53     57022\n",
            "   macro avg       0.45      0.37      0.39     57022\n",
            "weighted avg       0.51      0.54      0.52     57022\n",
            " samples avg       0.44      0.41      0.42     57022\n",
            "\n"
          ]
        },
        {
          "output_type": "stream",
          "name": "stderr",
          "text": [
            "/usr/local/lib/python3.8/dist-packages/sklearn/metrics/_classification.py:1318: UndefinedMetricWarning: Precision and F-score are ill-defined and being set to 0.0 in samples with no predicted labels. Use `zero_division` parameter to control this behavior.\n",
            "  _warn_prf(average, modifier, msg_start, len(result))\n",
            "/usr/local/lib/python3.8/dist-packages/sklearn/metrics/_classification.py:1318: UndefinedMetricWarning: Recall and F-score are ill-defined and being set to 0.0 in samples with no true labels. Use `zero_division` parameter to control this behavior.\n",
            "  _warn_prf(average, modifier, msg_start, len(result))\n"
          ]
        }
      ],
      "source": [
        "print(\"Evaluate model_cat on test data\")\n",
        "results_cat = model.evaluate(padded_test, labels_test_cat, batch_size=128)\n",
        "print(\"test loss, test acc:\", results_cat)\n",
        "\n",
        "labels_output_cat = (labels_output_cat > 0.5)\n",
        "labels_output_cat\n",
        "print(classification_report(labels_test_cat, y_pred=labels_output_cat, target_names=cat_emotions_list))"
      ]
    }
  ],
  "metadata": {
    "accelerator": "GPU",
    "colab": {
      "provenance": []
    },
    "gpuClass": "standard",
    "kernelspec": {
      "display_name": "Python 3.10.8 64-bit (microsoft store)",
      "language": "python",
      "name": "python3"
    },
    "language_info": {
      "codemirror_mode": {
        "name": "ipython",
        "version": 3
      },
      "file_extension": ".py",
      "mimetype": "text/x-python",
      "name": "python",
      "nbconvert_exporter": "python",
      "pygments_lexer": "ipython3",
      "version": "3.10.9"
    },
    "vscode": {
      "interpreter": {
        "hash": "97cba5719d159acad27bb7f37d182d27b1d38df28115fbd0d331121e7aca3605"
      }
    },
    "widgets": {
      "application/vnd.jupyter.widget-state+json": {
        "556c0bbafa66422680037c2a444df7f4": {
          "model_module": "@jupyter-widgets/controls",
          "model_name": "HBoxModel",
          "model_module_version": "1.5.0",
          "state": {
            "_dom_classes": [],
            "_model_module": "@jupyter-widgets/controls",
            "_model_module_version": "1.5.0",
            "_model_name": "HBoxModel",
            "_view_count": null,
            "_view_module": "@jupyter-widgets/controls",
            "_view_module_version": "1.5.0",
            "_view_name": "HBoxView",
            "box_style": "",
            "children": [
              "IPY_MODEL_13aa6174dab046c88602c9a78c8ee2fd",
              "IPY_MODEL_c995adb01bd049d4850c2be77864bb70",
              "IPY_MODEL_9d7da238cfb4474bbab9f54a33dc9535"
            ],
            "layout": "IPY_MODEL_2c72032890a14b6d8c8fb01a479fbf18"
          }
        },
        "13aa6174dab046c88602c9a78c8ee2fd": {
          "model_module": "@jupyter-widgets/controls",
          "model_name": "HTMLModel",
          "model_module_version": "1.5.0",
          "state": {
            "_dom_classes": [],
            "_model_module": "@jupyter-widgets/controls",
            "_model_module_version": "1.5.0",
            "_model_name": "HTMLModel",
            "_view_count": null,
            "_view_module": "@jupyter-widgets/controls",
            "_view_module_version": "1.5.0",
            "_view_name": "HTMLView",
            "description": "",
            "description_tooltip": null,
            "layout": "IPY_MODEL_62fd29f290f64db7b6c635f0a316d936",
            "placeholder": "​",
            "style": "IPY_MODEL_753abba7922940ff80cf80895ead4ebd",
            "value": "Dl Completed...: 100%"
          }
        },
        "c995adb01bd049d4850c2be77864bb70": {
          "model_module": "@jupyter-widgets/controls",
          "model_name": "FloatProgressModel",
          "model_module_version": "1.5.0",
          "state": {
            "_dom_classes": [],
            "_model_module": "@jupyter-widgets/controls",
            "_model_module_version": "1.5.0",
            "_model_name": "FloatProgressModel",
            "_view_count": null,
            "_view_module": "@jupyter-widgets/controls",
            "_view_module_version": "1.5.0",
            "_view_name": "ProgressView",
            "bar_style": "success",
            "description": "",
            "description_tooltip": null,
            "layout": "IPY_MODEL_0249d987e42e44f4a4ac5a183035553a",
            "max": 1,
            "min": 0,
            "orientation": "horizontal",
            "style": "IPY_MODEL_12cd6f0594f247239ed622bf3d5ba4b5",
            "value": 1
          }
        },
        "9d7da238cfb4474bbab9f54a33dc9535": {
          "model_module": "@jupyter-widgets/controls",
          "model_name": "HTMLModel",
          "model_module_version": "1.5.0",
          "state": {
            "_dom_classes": [],
            "_model_module": "@jupyter-widgets/controls",
            "_model_module_version": "1.5.0",
            "_model_name": "HTMLModel",
            "_view_count": null,
            "_view_module": "@jupyter-widgets/controls",
            "_view_module_version": "1.5.0",
            "_view_name": "HTMLView",
            "description": "",
            "description_tooltip": null,
            "layout": "IPY_MODEL_b82a8cde5469441ba85c5e3c86674372",
            "placeholder": "​",
            "style": "IPY_MODEL_0f895adaf4b541028c933cb548302d11",
            "value": " 3/3 [00:04&lt;00:00,  1.53s/ url]"
          }
        },
        "2c72032890a14b6d8c8fb01a479fbf18": {
          "model_module": "@jupyter-widgets/base",
          "model_name": "LayoutModel",
          "model_module_version": "1.2.0",
          "state": {
            "_model_module": "@jupyter-widgets/base",
            "_model_module_version": "1.2.0",
            "_model_name": "LayoutModel",
            "_view_count": null,
            "_view_module": "@jupyter-widgets/base",
            "_view_module_version": "1.2.0",
            "_view_name": "LayoutView",
            "align_content": null,
            "align_items": null,
            "align_self": null,
            "border": null,
            "bottom": null,
            "display": null,
            "flex": null,
            "flex_flow": null,
            "grid_area": null,
            "grid_auto_columns": null,
            "grid_auto_flow": null,
            "grid_auto_rows": null,
            "grid_column": null,
            "grid_gap": null,
            "grid_row": null,
            "grid_template_areas": null,
            "grid_template_columns": null,
            "grid_template_rows": null,
            "height": null,
            "justify_content": null,
            "justify_items": null,
            "left": null,
            "margin": null,
            "max_height": null,
            "max_width": null,
            "min_height": null,
            "min_width": null,
            "object_fit": null,
            "object_position": null,
            "order": null,
            "overflow": null,
            "overflow_x": null,
            "overflow_y": null,
            "padding": null,
            "right": null,
            "top": null,
            "visibility": null,
            "width": null
          }
        },
        "62fd29f290f64db7b6c635f0a316d936": {
          "model_module": "@jupyter-widgets/base",
          "model_name": "LayoutModel",
          "model_module_version": "1.2.0",
          "state": {
            "_model_module": "@jupyter-widgets/base",
            "_model_module_version": "1.2.0",
            "_model_name": "LayoutModel",
            "_view_count": null,
            "_view_module": "@jupyter-widgets/base",
            "_view_module_version": "1.2.0",
            "_view_name": "LayoutView",
            "align_content": null,
            "align_items": null,
            "align_self": null,
            "border": null,
            "bottom": null,
            "display": null,
            "flex": null,
            "flex_flow": null,
            "grid_area": null,
            "grid_auto_columns": null,
            "grid_auto_flow": null,
            "grid_auto_rows": null,
            "grid_column": null,
            "grid_gap": null,
            "grid_row": null,
            "grid_template_areas": null,
            "grid_template_columns": null,
            "grid_template_rows": null,
            "height": null,
            "justify_content": null,
            "justify_items": null,
            "left": null,
            "margin": null,
            "max_height": null,
            "max_width": null,
            "min_height": null,
            "min_width": null,
            "object_fit": null,
            "object_position": null,
            "order": null,
            "overflow": null,
            "overflow_x": null,
            "overflow_y": null,
            "padding": null,
            "right": null,
            "top": null,
            "visibility": null,
            "width": null
          }
        },
        "753abba7922940ff80cf80895ead4ebd": {
          "model_module": "@jupyter-widgets/controls",
          "model_name": "DescriptionStyleModel",
          "model_module_version": "1.5.0",
          "state": {
            "_model_module": "@jupyter-widgets/controls",
            "_model_module_version": "1.5.0",
            "_model_name": "DescriptionStyleModel",
            "_view_count": null,
            "_view_module": "@jupyter-widgets/base",
            "_view_module_version": "1.2.0",
            "_view_name": "StyleView",
            "description_width": ""
          }
        },
        "0249d987e42e44f4a4ac5a183035553a": {
          "model_module": "@jupyter-widgets/base",
          "model_name": "LayoutModel",
          "model_module_version": "1.2.0",
          "state": {
            "_model_module": "@jupyter-widgets/base",
            "_model_module_version": "1.2.0",
            "_model_name": "LayoutModel",
            "_view_count": null,
            "_view_module": "@jupyter-widgets/base",
            "_view_module_version": "1.2.0",
            "_view_name": "LayoutView",
            "align_content": null,
            "align_items": null,
            "align_self": null,
            "border": null,
            "bottom": null,
            "display": null,
            "flex": null,
            "flex_flow": null,
            "grid_area": null,
            "grid_auto_columns": null,
            "grid_auto_flow": null,
            "grid_auto_rows": null,
            "grid_column": null,
            "grid_gap": null,
            "grid_row": null,
            "grid_template_areas": null,
            "grid_template_columns": null,
            "grid_template_rows": null,
            "height": null,
            "justify_content": null,
            "justify_items": null,
            "left": null,
            "margin": null,
            "max_height": null,
            "max_width": null,
            "min_height": null,
            "min_width": null,
            "object_fit": null,
            "object_position": null,
            "order": null,
            "overflow": null,
            "overflow_x": null,
            "overflow_y": null,
            "padding": null,
            "right": null,
            "top": null,
            "visibility": null,
            "width": "20px"
          }
        },
        "12cd6f0594f247239ed622bf3d5ba4b5": {
          "model_module": "@jupyter-widgets/controls",
          "model_name": "ProgressStyleModel",
          "model_module_version": "1.5.0",
          "state": {
            "_model_module": "@jupyter-widgets/controls",
            "_model_module_version": "1.5.0",
            "_model_name": "ProgressStyleModel",
            "_view_count": null,
            "_view_module": "@jupyter-widgets/base",
            "_view_module_version": "1.2.0",
            "_view_name": "StyleView",
            "bar_color": null,
            "description_width": ""
          }
        },
        "b82a8cde5469441ba85c5e3c86674372": {
          "model_module": "@jupyter-widgets/base",
          "model_name": "LayoutModel",
          "model_module_version": "1.2.0",
          "state": {
            "_model_module": "@jupyter-widgets/base",
            "_model_module_version": "1.2.0",
            "_model_name": "LayoutModel",
            "_view_count": null,
            "_view_module": "@jupyter-widgets/base",
            "_view_module_version": "1.2.0",
            "_view_name": "LayoutView",
            "align_content": null,
            "align_items": null,
            "align_self": null,
            "border": null,
            "bottom": null,
            "display": null,
            "flex": null,
            "flex_flow": null,
            "grid_area": null,
            "grid_auto_columns": null,
            "grid_auto_flow": null,
            "grid_auto_rows": null,
            "grid_column": null,
            "grid_gap": null,
            "grid_row": null,
            "grid_template_areas": null,
            "grid_template_columns": null,
            "grid_template_rows": null,
            "height": null,
            "justify_content": null,
            "justify_items": null,
            "left": null,
            "margin": null,
            "max_height": null,
            "max_width": null,
            "min_height": null,
            "min_width": null,
            "object_fit": null,
            "object_position": null,
            "order": null,
            "overflow": null,
            "overflow_x": null,
            "overflow_y": null,
            "padding": null,
            "right": null,
            "top": null,
            "visibility": null,
            "width": null
          }
        },
        "0f895adaf4b541028c933cb548302d11": {
          "model_module": "@jupyter-widgets/controls",
          "model_name": "DescriptionStyleModel",
          "model_module_version": "1.5.0",
          "state": {
            "_model_module": "@jupyter-widgets/controls",
            "_model_module_version": "1.5.0",
            "_model_name": "DescriptionStyleModel",
            "_view_count": null,
            "_view_module": "@jupyter-widgets/base",
            "_view_module_version": "1.2.0",
            "_view_name": "StyleView",
            "description_width": ""
          }
        },
        "ddfe07b1fe334412876ae07ea5300780": {
          "model_module": "@jupyter-widgets/controls",
          "model_name": "HBoxModel",
          "model_module_version": "1.5.0",
          "state": {
            "_dom_classes": [],
            "_model_module": "@jupyter-widgets/controls",
            "_model_module_version": "1.5.0",
            "_model_name": "HBoxModel",
            "_view_count": null,
            "_view_module": "@jupyter-widgets/controls",
            "_view_module_version": "1.5.0",
            "_view_name": "HBoxView",
            "box_style": "",
            "children": [
              "IPY_MODEL_76113aa5976746928a96d80ccf2e0b56",
              "IPY_MODEL_371b74c244954004be23a7a6106a0852",
              "IPY_MODEL_dfef5278e69c43bcb905aa431df84efa"
            ],
            "layout": "IPY_MODEL_43d8baf797cc4fe9bb6dddb4faa79b4e"
          }
        },
        "76113aa5976746928a96d80ccf2e0b56": {
          "model_module": "@jupyter-widgets/controls",
          "model_name": "HTMLModel",
          "model_module_version": "1.5.0",
          "state": {
            "_dom_classes": [],
            "_model_module": "@jupyter-widgets/controls",
            "_model_module_version": "1.5.0",
            "_model_name": "HTMLModel",
            "_view_count": null,
            "_view_module": "@jupyter-widgets/controls",
            "_view_module_version": "1.5.0",
            "_view_name": "HTMLView",
            "description": "",
            "description_tooltip": null,
            "layout": "IPY_MODEL_edde077bafc84ed284afb4b3d859dfdb",
            "placeholder": "​",
            "style": "IPY_MODEL_29b0a8b894084476bf670f40489ce12f",
            "value": "Dl Size...: "
          }
        },
        "371b74c244954004be23a7a6106a0852": {
          "model_module": "@jupyter-widgets/controls",
          "model_name": "FloatProgressModel",
          "model_module_version": "1.5.0",
          "state": {
            "_dom_classes": [],
            "_model_module": "@jupyter-widgets/controls",
            "_model_module_version": "1.5.0",
            "_model_name": "FloatProgressModel",
            "_view_count": null,
            "_view_module": "@jupyter-widgets/controls",
            "_view_module_version": "1.5.0",
            "_view_name": "ProgressView",
            "bar_style": "success",
            "description": "",
            "description_tooltip": null,
            "layout": "IPY_MODEL_91a7db96574249c49ec7fe1271d21e89",
            "max": 1,
            "min": 0,
            "orientation": "horizontal",
            "style": "IPY_MODEL_aae005b928a64a678e3f53722b6e6bba",
            "value": 1
          }
        },
        "dfef5278e69c43bcb905aa431df84efa": {
          "model_module": "@jupyter-widgets/controls",
          "model_name": "HTMLModel",
          "model_module_version": "1.5.0",
          "state": {
            "_dom_classes": [],
            "_model_module": "@jupyter-widgets/controls",
            "_model_module_version": "1.5.0",
            "_model_name": "HTMLModel",
            "_view_count": null,
            "_view_module": "@jupyter-widgets/controls",
            "_view_module_version": "1.5.0",
            "_view_name": "HTMLView",
            "description": "",
            "description_tooltip": null,
            "layout": "IPY_MODEL_432420a25c8e46378c8278f700194226",
            "placeholder": "​",
            "style": "IPY_MODEL_bef7f99b8d284573a41b58a5d55e147a",
            "value": " 3/? [00:04&lt;00:00,  1.09s/ MiB]"
          }
        },
        "43d8baf797cc4fe9bb6dddb4faa79b4e": {
          "model_module": "@jupyter-widgets/base",
          "model_name": "LayoutModel",
          "model_module_version": "1.2.0",
          "state": {
            "_model_module": "@jupyter-widgets/base",
            "_model_module_version": "1.2.0",
            "_model_name": "LayoutModel",
            "_view_count": null,
            "_view_module": "@jupyter-widgets/base",
            "_view_module_version": "1.2.0",
            "_view_name": "LayoutView",
            "align_content": null,
            "align_items": null,
            "align_self": null,
            "border": null,
            "bottom": null,
            "display": null,
            "flex": null,
            "flex_flow": null,
            "grid_area": null,
            "grid_auto_columns": null,
            "grid_auto_flow": null,
            "grid_auto_rows": null,
            "grid_column": null,
            "grid_gap": null,
            "grid_row": null,
            "grid_template_areas": null,
            "grid_template_columns": null,
            "grid_template_rows": null,
            "height": null,
            "justify_content": null,
            "justify_items": null,
            "left": null,
            "margin": null,
            "max_height": null,
            "max_width": null,
            "min_height": null,
            "min_width": null,
            "object_fit": null,
            "object_position": null,
            "order": null,
            "overflow": null,
            "overflow_x": null,
            "overflow_y": null,
            "padding": null,
            "right": null,
            "top": null,
            "visibility": null,
            "width": null
          }
        },
        "edde077bafc84ed284afb4b3d859dfdb": {
          "model_module": "@jupyter-widgets/base",
          "model_name": "LayoutModel",
          "model_module_version": "1.2.0",
          "state": {
            "_model_module": "@jupyter-widgets/base",
            "_model_module_version": "1.2.0",
            "_model_name": "LayoutModel",
            "_view_count": null,
            "_view_module": "@jupyter-widgets/base",
            "_view_module_version": "1.2.0",
            "_view_name": "LayoutView",
            "align_content": null,
            "align_items": null,
            "align_self": null,
            "border": null,
            "bottom": null,
            "display": null,
            "flex": null,
            "flex_flow": null,
            "grid_area": null,
            "grid_auto_columns": null,
            "grid_auto_flow": null,
            "grid_auto_rows": null,
            "grid_column": null,
            "grid_gap": null,
            "grid_row": null,
            "grid_template_areas": null,
            "grid_template_columns": null,
            "grid_template_rows": null,
            "height": null,
            "justify_content": null,
            "justify_items": null,
            "left": null,
            "margin": null,
            "max_height": null,
            "max_width": null,
            "min_height": null,
            "min_width": null,
            "object_fit": null,
            "object_position": null,
            "order": null,
            "overflow": null,
            "overflow_x": null,
            "overflow_y": null,
            "padding": null,
            "right": null,
            "top": null,
            "visibility": null,
            "width": null
          }
        },
        "29b0a8b894084476bf670f40489ce12f": {
          "model_module": "@jupyter-widgets/controls",
          "model_name": "DescriptionStyleModel",
          "model_module_version": "1.5.0",
          "state": {
            "_model_module": "@jupyter-widgets/controls",
            "_model_module_version": "1.5.0",
            "_model_name": "DescriptionStyleModel",
            "_view_count": null,
            "_view_module": "@jupyter-widgets/base",
            "_view_module_version": "1.2.0",
            "_view_name": "StyleView",
            "description_width": ""
          }
        },
        "91a7db96574249c49ec7fe1271d21e89": {
          "model_module": "@jupyter-widgets/base",
          "model_name": "LayoutModel",
          "model_module_version": "1.2.0",
          "state": {
            "_model_module": "@jupyter-widgets/base",
            "_model_module_version": "1.2.0",
            "_model_name": "LayoutModel",
            "_view_count": null,
            "_view_module": "@jupyter-widgets/base",
            "_view_module_version": "1.2.0",
            "_view_name": "LayoutView",
            "align_content": null,
            "align_items": null,
            "align_self": null,
            "border": null,
            "bottom": null,
            "display": null,
            "flex": null,
            "flex_flow": null,
            "grid_area": null,
            "grid_auto_columns": null,
            "grid_auto_flow": null,
            "grid_auto_rows": null,
            "grid_column": null,
            "grid_gap": null,
            "grid_row": null,
            "grid_template_areas": null,
            "grid_template_columns": null,
            "grid_template_rows": null,
            "height": null,
            "justify_content": null,
            "justify_items": null,
            "left": null,
            "margin": null,
            "max_height": null,
            "max_width": null,
            "min_height": null,
            "min_width": null,
            "object_fit": null,
            "object_position": null,
            "order": null,
            "overflow": null,
            "overflow_x": null,
            "overflow_y": null,
            "padding": null,
            "right": null,
            "top": null,
            "visibility": null,
            "width": "20px"
          }
        },
        "aae005b928a64a678e3f53722b6e6bba": {
          "model_module": "@jupyter-widgets/controls",
          "model_name": "ProgressStyleModel",
          "model_module_version": "1.5.0",
          "state": {
            "_model_module": "@jupyter-widgets/controls",
            "_model_module_version": "1.5.0",
            "_model_name": "ProgressStyleModel",
            "_view_count": null,
            "_view_module": "@jupyter-widgets/base",
            "_view_module_version": "1.2.0",
            "_view_name": "StyleView",
            "bar_color": null,
            "description_width": ""
          }
        },
        "432420a25c8e46378c8278f700194226": {
          "model_module": "@jupyter-widgets/base",
          "model_name": "LayoutModel",
          "model_module_version": "1.2.0",
          "state": {
            "_model_module": "@jupyter-widgets/base",
            "_model_module_version": "1.2.0",
            "_model_name": "LayoutModel",
            "_view_count": null,
            "_view_module": "@jupyter-widgets/base",
            "_view_module_version": "1.2.0",
            "_view_name": "LayoutView",
            "align_content": null,
            "align_items": null,
            "align_self": null,
            "border": null,
            "bottom": null,
            "display": null,
            "flex": null,
            "flex_flow": null,
            "grid_area": null,
            "grid_auto_columns": null,
            "grid_auto_flow": null,
            "grid_auto_rows": null,
            "grid_column": null,
            "grid_gap": null,
            "grid_row": null,
            "grid_template_areas": null,
            "grid_template_columns": null,
            "grid_template_rows": null,
            "height": null,
            "justify_content": null,
            "justify_items": null,
            "left": null,
            "margin": null,
            "max_height": null,
            "max_width": null,
            "min_height": null,
            "min_width": null,
            "object_fit": null,
            "object_position": null,
            "order": null,
            "overflow": null,
            "overflow_x": null,
            "overflow_y": null,
            "padding": null,
            "right": null,
            "top": null,
            "visibility": null,
            "width": null
          }
        },
        "bef7f99b8d284573a41b58a5d55e147a": {
          "model_module": "@jupyter-widgets/controls",
          "model_name": "DescriptionStyleModel",
          "model_module_version": "1.5.0",
          "state": {
            "_model_module": "@jupyter-widgets/controls",
            "_model_module_version": "1.5.0",
            "_model_name": "DescriptionStyleModel",
            "_view_count": null,
            "_view_module": "@jupyter-widgets/base",
            "_view_module_version": "1.2.0",
            "_view_name": "StyleView",
            "description_width": ""
          }
        },
        "37fdfae872624b9e86356e783b7d870a": {
          "model_module": "@jupyter-widgets/controls",
          "model_name": "HBoxModel",
          "model_module_version": "1.5.0",
          "state": {
            "_dom_classes": [],
            "_model_module": "@jupyter-widgets/controls",
            "_model_module_version": "1.5.0",
            "_model_name": "HBoxModel",
            "_view_count": null,
            "_view_module": "@jupyter-widgets/controls",
            "_view_module_version": "1.5.0",
            "_view_name": "HBoxView",
            "box_style": "",
            "children": [
              "IPY_MODEL_a5921056cdbf440f8650682321769a04",
              "IPY_MODEL_f283b424847348788e5d0dbe6f4a2dba",
              "IPY_MODEL_ff42806cc2f14b6caf469ec2b37058a0"
            ],
            "layout": "IPY_MODEL_dff61e001dd1458db1164c0e6d7a3b09"
          }
        },
        "a5921056cdbf440f8650682321769a04": {
          "model_module": "@jupyter-widgets/controls",
          "model_name": "HTMLModel",
          "model_module_version": "1.5.0",
          "state": {
            "_dom_classes": [],
            "_model_module": "@jupyter-widgets/controls",
            "_model_module_version": "1.5.0",
            "_model_name": "HTMLModel",
            "_view_count": null,
            "_view_module": "@jupyter-widgets/controls",
            "_view_module_version": "1.5.0",
            "_view_name": "HTMLView",
            "description": "",
            "description_tooltip": null,
            "layout": "IPY_MODEL_598e6953db32454088eb323577e0be34",
            "placeholder": "​",
            "style": "IPY_MODEL_8b8df7367c5c4739a5e7ed45cc3f38f6",
            "value": "Generating splits...: 100%"
          }
        },
        "f283b424847348788e5d0dbe6f4a2dba": {
          "model_module": "@jupyter-widgets/controls",
          "model_name": "FloatProgressModel",
          "model_module_version": "1.5.0",
          "state": {
            "_dom_classes": [],
            "_model_module": "@jupyter-widgets/controls",
            "_model_module_version": "1.5.0",
            "_model_name": "FloatProgressModel",
            "_view_count": null,
            "_view_module": "@jupyter-widgets/controls",
            "_view_module_version": "1.5.0",
            "_view_name": "ProgressView",
            "bar_style": "",
            "description": "",
            "description_tooltip": null,
            "layout": "IPY_MODEL_314d19e493a84a7b9e3313d52905ffeb",
            "max": 3,
            "min": 0,
            "orientation": "horizontal",
            "style": "IPY_MODEL_070788fc62cc4e3d9e5ab9fa234f705b",
            "value": 3
          }
        },
        "ff42806cc2f14b6caf469ec2b37058a0": {
          "model_module": "@jupyter-widgets/controls",
          "model_name": "HTMLModel",
          "model_module_version": "1.5.0",
          "state": {
            "_dom_classes": [],
            "_model_module": "@jupyter-widgets/controls",
            "_model_module_version": "1.5.0",
            "_model_name": "HTMLModel",
            "_view_count": null,
            "_view_module": "@jupyter-widgets/controls",
            "_view_module_version": "1.5.0",
            "_view_name": "HTMLView",
            "description": "",
            "description_tooltip": null,
            "layout": "IPY_MODEL_26ef59b3ed38471687698e772fe99a6d",
            "placeholder": "​",
            "style": "IPY_MODEL_389416c7a358483d8e34ebe406a0e62a",
            "value": " 3/3 [00:53&lt;00:00, 13.39s/ splits]"
          }
        },
        "dff61e001dd1458db1164c0e6d7a3b09": {
          "model_module": "@jupyter-widgets/base",
          "model_name": "LayoutModel",
          "model_module_version": "1.2.0",
          "state": {
            "_model_module": "@jupyter-widgets/base",
            "_model_module_version": "1.2.0",
            "_model_name": "LayoutModel",
            "_view_count": null,
            "_view_module": "@jupyter-widgets/base",
            "_view_module_version": "1.2.0",
            "_view_name": "LayoutView",
            "align_content": null,
            "align_items": null,
            "align_self": null,
            "border": null,
            "bottom": null,
            "display": null,
            "flex": null,
            "flex_flow": null,
            "grid_area": null,
            "grid_auto_columns": null,
            "grid_auto_flow": null,
            "grid_auto_rows": null,
            "grid_column": null,
            "grid_gap": null,
            "grid_row": null,
            "grid_template_areas": null,
            "grid_template_columns": null,
            "grid_template_rows": null,
            "height": null,
            "justify_content": null,
            "justify_items": null,
            "left": null,
            "margin": null,
            "max_height": null,
            "max_width": null,
            "min_height": null,
            "min_width": null,
            "object_fit": null,
            "object_position": null,
            "order": null,
            "overflow": null,
            "overflow_x": null,
            "overflow_y": null,
            "padding": null,
            "right": null,
            "top": null,
            "visibility": "hidden",
            "width": null
          }
        },
        "598e6953db32454088eb323577e0be34": {
          "model_module": "@jupyter-widgets/base",
          "model_name": "LayoutModel",
          "model_module_version": "1.2.0",
          "state": {
            "_model_module": "@jupyter-widgets/base",
            "_model_module_version": "1.2.0",
            "_model_name": "LayoutModel",
            "_view_count": null,
            "_view_module": "@jupyter-widgets/base",
            "_view_module_version": "1.2.0",
            "_view_name": "LayoutView",
            "align_content": null,
            "align_items": null,
            "align_self": null,
            "border": null,
            "bottom": null,
            "display": null,
            "flex": null,
            "flex_flow": null,
            "grid_area": null,
            "grid_auto_columns": null,
            "grid_auto_flow": null,
            "grid_auto_rows": null,
            "grid_column": null,
            "grid_gap": null,
            "grid_row": null,
            "grid_template_areas": null,
            "grid_template_columns": null,
            "grid_template_rows": null,
            "height": null,
            "justify_content": null,
            "justify_items": null,
            "left": null,
            "margin": null,
            "max_height": null,
            "max_width": null,
            "min_height": null,
            "min_width": null,
            "object_fit": null,
            "object_position": null,
            "order": null,
            "overflow": null,
            "overflow_x": null,
            "overflow_y": null,
            "padding": null,
            "right": null,
            "top": null,
            "visibility": null,
            "width": null
          }
        },
        "8b8df7367c5c4739a5e7ed45cc3f38f6": {
          "model_module": "@jupyter-widgets/controls",
          "model_name": "DescriptionStyleModel",
          "model_module_version": "1.5.0",
          "state": {
            "_model_module": "@jupyter-widgets/controls",
            "_model_module_version": "1.5.0",
            "_model_name": "DescriptionStyleModel",
            "_view_count": null,
            "_view_module": "@jupyter-widgets/base",
            "_view_module_version": "1.2.0",
            "_view_name": "StyleView",
            "description_width": ""
          }
        },
        "314d19e493a84a7b9e3313d52905ffeb": {
          "model_module": "@jupyter-widgets/base",
          "model_name": "LayoutModel",
          "model_module_version": "1.2.0",
          "state": {
            "_model_module": "@jupyter-widgets/base",
            "_model_module_version": "1.2.0",
            "_model_name": "LayoutModel",
            "_view_count": null,
            "_view_module": "@jupyter-widgets/base",
            "_view_module_version": "1.2.0",
            "_view_name": "LayoutView",
            "align_content": null,
            "align_items": null,
            "align_self": null,
            "border": null,
            "bottom": null,
            "display": null,
            "flex": null,
            "flex_flow": null,
            "grid_area": null,
            "grid_auto_columns": null,
            "grid_auto_flow": null,
            "grid_auto_rows": null,
            "grid_column": null,
            "grid_gap": null,
            "grid_row": null,
            "grid_template_areas": null,
            "grid_template_columns": null,
            "grid_template_rows": null,
            "height": null,
            "justify_content": null,
            "justify_items": null,
            "left": null,
            "margin": null,
            "max_height": null,
            "max_width": null,
            "min_height": null,
            "min_width": null,
            "object_fit": null,
            "object_position": null,
            "order": null,
            "overflow": null,
            "overflow_x": null,
            "overflow_y": null,
            "padding": null,
            "right": null,
            "top": null,
            "visibility": null,
            "width": null
          }
        },
        "070788fc62cc4e3d9e5ab9fa234f705b": {
          "model_module": "@jupyter-widgets/controls",
          "model_name": "ProgressStyleModel",
          "model_module_version": "1.5.0",
          "state": {
            "_model_module": "@jupyter-widgets/controls",
            "_model_module_version": "1.5.0",
            "_model_name": "ProgressStyleModel",
            "_view_count": null,
            "_view_module": "@jupyter-widgets/base",
            "_view_module_version": "1.2.0",
            "_view_name": "StyleView",
            "bar_color": null,
            "description_width": ""
          }
        },
        "26ef59b3ed38471687698e772fe99a6d": {
          "model_module": "@jupyter-widgets/base",
          "model_name": "LayoutModel",
          "model_module_version": "1.2.0",
          "state": {
            "_model_module": "@jupyter-widgets/base",
            "_model_module_version": "1.2.0",
            "_model_name": "LayoutModel",
            "_view_count": null,
            "_view_module": "@jupyter-widgets/base",
            "_view_module_version": "1.2.0",
            "_view_name": "LayoutView",
            "align_content": null,
            "align_items": null,
            "align_self": null,
            "border": null,
            "bottom": null,
            "display": null,
            "flex": null,
            "flex_flow": null,
            "grid_area": null,
            "grid_auto_columns": null,
            "grid_auto_flow": null,
            "grid_auto_rows": null,
            "grid_column": null,
            "grid_gap": null,
            "grid_row": null,
            "grid_template_areas": null,
            "grid_template_columns": null,
            "grid_template_rows": null,
            "height": null,
            "justify_content": null,
            "justify_items": null,
            "left": null,
            "margin": null,
            "max_height": null,
            "max_width": null,
            "min_height": null,
            "min_width": null,
            "object_fit": null,
            "object_position": null,
            "order": null,
            "overflow": null,
            "overflow_x": null,
            "overflow_y": null,
            "padding": null,
            "right": null,
            "top": null,
            "visibility": null,
            "width": null
          }
        },
        "389416c7a358483d8e34ebe406a0e62a": {
          "model_module": "@jupyter-widgets/controls",
          "model_name": "DescriptionStyleModel",
          "model_module_version": "1.5.0",
          "state": {
            "_model_module": "@jupyter-widgets/controls",
            "_model_module_version": "1.5.0",
            "_model_name": "DescriptionStyleModel",
            "_view_count": null,
            "_view_module": "@jupyter-widgets/base",
            "_view_module_version": "1.2.0",
            "_view_name": "StyleView",
            "description_width": ""
          }
        },
        "9209c5b835cf4e54b07cb38f9dc5880a": {
          "model_module": "@jupyter-widgets/controls",
          "model_name": "HBoxModel",
          "model_module_version": "1.5.0",
          "state": {
            "_dom_classes": [],
            "_model_module": "@jupyter-widgets/controls",
            "_model_module_version": "1.5.0",
            "_model_name": "HBoxModel",
            "_view_count": null,
            "_view_module": "@jupyter-widgets/controls",
            "_view_module_version": "1.5.0",
            "_view_name": "HBoxView",
            "box_style": "",
            "children": [
              "IPY_MODEL_1763b2d208044ad1b3b47c42ebbaa79d",
              "IPY_MODEL_12e98d45a14a472db1b6ac9c351219c3",
              "IPY_MODEL_2a4c70e4d41c41f6940d7ea7a07131cb"
            ],
            "layout": "IPY_MODEL_e41f2e9f4bc34891867e9a606e0b9cf2"
          }
        },
        "1763b2d208044ad1b3b47c42ebbaa79d": {
          "model_module": "@jupyter-widgets/controls",
          "model_name": "HTMLModel",
          "model_module_version": "1.5.0",
          "state": {
            "_dom_classes": [],
            "_model_module": "@jupyter-widgets/controls",
            "_model_module_version": "1.5.0",
            "_model_name": "HTMLModel",
            "_view_count": null,
            "_view_module": "@jupyter-widgets/controls",
            "_view_module_version": "1.5.0",
            "_view_name": "HTMLView",
            "description": "",
            "description_tooltip": null,
            "layout": "IPY_MODEL_58073851168b47ab96268ca997266ffb",
            "placeholder": "​",
            "style": "IPY_MODEL_ee3f555953d542678f5479c356b1244d",
            "value": "Generating train examples...: 100%"
          }
        },
        "12e98d45a14a472db1b6ac9c351219c3": {
          "model_module": "@jupyter-widgets/controls",
          "model_name": "FloatProgressModel",
          "model_module_version": "1.5.0",
          "state": {
            "_dom_classes": [],
            "_model_module": "@jupyter-widgets/controls",
            "_model_module_version": "1.5.0",
            "_model_name": "FloatProgressModel",
            "_view_count": null,
            "_view_module": "@jupyter-widgets/controls",
            "_view_module_version": "1.5.0",
            "_view_name": "ProgressView",
            "bar_style": "",
            "description": "",
            "description_tooltip": null,
            "layout": "IPY_MODEL_69cc65f2f1cf474e8e3327eb06f31618",
            "max": 43410,
            "min": 0,
            "orientation": "horizontal",
            "style": "IPY_MODEL_21aaff8123cc44359b6ad09597861da5",
            "value": 43410
          }
        },
        "2a4c70e4d41c41f6940d7ea7a07131cb": {
          "model_module": "@jupyter-widgets/controls",
          "model_name": "HTMLModel",
          "model_module_version": "1.5.0",
          "state": {
            "_dom_classes": [],
            "_model_module": "@jupyter-widgets/controls",
            "_model_module_version": "1.5.0",
            "_model_name": "HTMLModel",
            "_view_count": null,
            "_view_module": "@jupyter-widgets/controls",
            "_view_module_version": "1.5.0",
            "_view_name": "HTMLView",
            "description": "",
            "description_tooltip": null,
            "layout": "IPY_MODEL_460570f8f03143e3a4c42d0452382f0a",
            "placeholder": "​",
            "style": "IPY_MODEL_06b6f79ebeaf4064bd07b4debf148536",
            "value": " 43301/43410 [00:44&lt;00:00, 1381.89 examples/s]"
          }
        },
        "e41f2e9f4bc34891867e9a606e0b9cf2": {
          "model_module": "@jupyter-widgets/base",
          "model_name": "LayoutModel",
          "model_module_version": "1.2.0",
          "state": {
            "_model_module": "@jupyter-widgets/base",
            "_model_module_version": "1.2.0",
            "_model_name": "LayoutModel",
            "_view_count": null,
            "_view_module": "@jupyter-widgets/base",
            "_view_module_version": "1.2.0",
            "_view_name": "LayoutView",
            "align_content": null,
            "align_items": null,
            "align_self": null,
            "border": null,
            "bottom": null,
            "display": null,
            "flex": null,
            "flex_flow": null,
            "grid_area": null,
            "grid_auto_columns": null,
            "grid_auto_flow": null,
            "grid_auto_rows": null,
            "grid_column": null,
            "grid_gap": null,
            "grid_row": null,
            "grid_template_areas": null,
            "grid_template_columns": null,
            "grid_template_rows": null,
            "height": null,
            "justify_content": null,
            "justify_items": null,
            "left": null,
            "margin": null,
            "max_height": null,
            "max_width": null,
            "min_height": null,
            "min_width": null,
            "object_fit": null,
            "object_position": null,
            "order": null,
            "overflow": null,
            "overflow_x": null,
            "overflow_y": null,
            "padding": null,
            "right": null,
            "top": null,
            "visibility": "hidden",
            "width": null
          }
        },
        "58073851168b47ab96268ca997266ffb": {
          "model_module": "@jupyter-widgets/base",
          "model_name": "LayoutModel",
          "model_module_version": "1.2.0",
          "state": {
            "_model_module": "@jupyter-widgets/base",
            "_model_module_version": "1.2.0",
            "_model_name": "LayoutModel",
            "_view_count": null,
            "_view_module": "@jupyter-widgets/base",
            "_view_module_version": "1.2.0",
            "_view_name": "LayoutView",
            "align_content": null,
            "align_items": null,
            "align_self": null,
            "border": null,
            "bottom": null,
            "display": null,
            "flex": null,
            "flex_flow": null,
            "grid_area": null,
            "grid_auto_columns": null,
            "grid_auto_flow": null,
            "grid_auto_rows": null,
            "grid_column": null,
            "grid_gap": null,
            "grid_row": null,
            "grid_template_areas": null,
            "grid_template_columns": null,
            "grid_template_rows": null,
            "height": null,
            "justify_content": null,
            "justify_items": null,
            "left": null,
            "margin": null,
            "max_height": null,
            "max_width": null,
            "min_height": null,
            "min_width": null,
            "object_fit": null,
            "object_position": null,
            "order": null,
            "overflow": null,
            "overflow_x": null,
            "overflow_y": null,
            "padding": null,
            "right": null,
            "top": null,
            "visibility": null,
            "width": null
          }
        },
        "ee3f555953d542678f5479c356b1244d": {
          "model_module": "@jupyter-widgets/controls",
          "model_name": "DescriptionStyleModel",
          "model_module_version": "1.5.0",
          "state": {
            "_model_module": "@jupyter-widgets/controls",
            "_model_module_version": "1.5.0",
            "_model_name": "DescriptionStyleModel",
            "_view_count": null,
            "_view_module": "@jupyter-widgets/base",
            "_view_module_version": "1.2.0",
            "_view_name": "StyleView",
            "description_width": ""
          }
        },
        "69cc65f2f1cf474e8e3327eb06f31618": {
          "model_module": "@jupyter-widgets/base",
          "model_name": "LayoutModel",
          "model_module_version": "1.2.0",
          "state": {
            "_model_module": "@jupyter-widgets/base",
            "_model_module_version": "1.2.0",
            "_model_name": "LayoutModel",
            "_view_count": null,
            "_view_module": "@jupyter-widgets/base",
            "_view_module_version": "1.2.0",
            "_view_name": "LayoutView",
            "align_content": null,
            "align_items": null,
            "align_self": null,
            "border": null,
            "bottom": null,
            "display": null,
            "flex": null,
            "flex_flow": null,
            "grid_area": null,
            "grid_auto_columns": null,
            "grid_auto_flow": null,
            "grid_auto_rows": null,
            "grid_column": null,
            "grid_gap": null,
            "grid_row": null,
            "grid_template_areas": null,
            "grid_template_columns": null,
            "grid_template_rows": null,
            "height": null,
            "justify_content": null,
            "justify_items": null,
            "left": null,
            "margin": null,
            "max_height": null,
            "max_width": null,
            "min_height": null,
            "min_width": null,
            "object_fit": null,
            "object_position": null,
            "order": null,
            "overflow": null,
            "overflow_x": null,
            "overflow_y": null,
            "padding": null,
            "right": null,
            "top": null,
            "visibility": null,
            "width": null
          }
        },
        "21aaff8123cc44359b6ad09597861da5": {
          "model_module": "@jupyter-widgets/controls",
          "model_name": "ProgressStyleModel",
          "model_module_version": "1.5.0",
          "state": {
            "_model_module": "@jupyter-widgets/controls",
            "_model_module_version": "1.5.0",
            "_model_name": "ProgressStyleModel",
            "_view_count": null,
            "_view_module": "@jupyter-widgets/base",
            "_view_module_version": "1.2.0",
            "_view_name": "StyleView",
            "bar_color": null,
            "description_width": ""
          }
        },
        "460570f8f03143e3a4c42d0452382f0a": {
          "model_module": "@jupyter-widgets/base",
          "model_name": "LayoutModel",
          "model_module_version": "1.2.0",
          "state": {
            "_model_module": "@jupyter-widgets/base",
            "_model_module_version": "1.2.0",
            "_model_name": "LayoutModel",
            "_view_count": null,
            "_view_module": "@jupyter-widgets/base",
            "_view_module_version": "1.2.0",
            "_view_name": "LayoutView",
            "align_content": null,
            "align_items": null,
            "align_self": null,
            "border": null,
            "bottom": null,
            "display": null,
            "flex": null,
            "flex_flow": null,
            "grid_area": null,
            "grid_auto_columns": null,
            "grid_auto_flow": null,
            "grid_auto_rows": null,
            "grid_column": null,
            "grid_gap": null,
            "grid_row": null,
            "grid_template_areas": null,
            "grid_template_columns": null,
            "grid_template_rows": null,
            "height": null,
            "justify_content": null,
            "justify_items": null,
            "left": null,
            "margin": null,
            "max_height": null,
            "max_width": null,
            "min_height": null,
            "min_width": null,
            "object_fit": null,
            "object_position": null,
            "order": null,
            "overflow": null,
            "overflow_x": null,
            "overflow_y": null,
            "padding": null,
            "right": null,
            "top": null,
            "visibility": null,
            "width": null
          }
        },
        "06b6f79ebeaf4064bd07b4debf148536": {
          "model_module": "@jupyter-widgets/controls",
          "model_name": "DescriptionStyleModel",
          "model_module_version": "1.5.0",
          "state": {
            "_model_module": "@jupyter-widgets/controls",
            "_model_module_version": "1.5.0",
            "_model_name": "DescriptionStyleModel",
            "_view_count": null,
            "_view_module": "@jupyter-widgets/base",
            "_view_module_version": "1.2.0",
            "_view_name": "StyleView",
            "description_width": ""
          }
        },
        "908423ab25124fcb8ef1dbe233fe4c65": {
          "model_module": "@jupyter-widgets/controls",
          "model_name": "HBoxModel",
          "model_module_version": "1.5.0",
          "state": {
            "_dom_classes": [],
            "_model_module": "@jupyter-widgets/controls",
            "_model_module_version": "1.5.0",
            "_model_name": "HBoxModel",
            "_view_count": null,
            "_view_module": "@jupyter-widgets/controls",
            "_view_module_version": "1.5.0",
            "_view_name": "HBoxView",
            "box_style": "",
            "children": [
              "IPY_MODEL_7284e4c0523a450a9480d2725a66e4b3",
              "IPY_MODEL_32d854aa121a4c65ba49554183f409e1",
              "IPY_MODEL_2cfbefa4f29648f1885a6bf8e16e6cd0"
            ],
            "layout": "IPY_MODEL_324657f0fb03480f962e156b65f41db9"
          }
        },
        "7284e4c0523a450a9480d2725a66e4b3": {
          "model_module": "@jupyter-widgets/controls",
          "model_name": "HTMLModel",
          "model_module_version": "1.5.0",
          "state": {
            "_dom_classes": [],
            "_model_module": "@jupyter-widgets/controls",
            "_model_module_version": "1.5.0",
            "_model_name": "HTMLModel",
            "_view_count": null,
            "_view_module": "@jupyter-widgets/controls",
            "_view_module_version": "1.5.0",
            "_view_name": "HTMLView",
            "description": "",
            "description_tooltip": null,
            "layout": "IPY_MODEL_680c35bed98d48c499babe974b1b5c9e",
            "placeholder": "​",
            "style": "IPY_MODEL_386f8495436c4d6197e3c60158e249cf",
            "value": "Shuffling ~/tensorflow_datasets/goemotions/0.1.0.incompleteSTNS1S/goemotions-train.tfrecord*...:  60%"
          }
        },
        "32d854aa121a4c65ba49554183f409e1": {
          "model_module": "@jupyter-widgets/controls",
          "model_name": "FloatProgressModel",
          "model_module_version": "1.5.0",
          "state": {
            "_dom_classes": [],
            "_model_module": "@jupyter-widgets/controls",
            "_model_module_version": "1.5.0",
            "_model_name": "FloatProgressModel",
            "_view_count": null,
            "_view_module": "@jupyter-widgets/controls",
            "_view_module_version": "1.5.0",
            "_view_name": "ProgressView",
            "bar_style": "",
            "description": "",
            "description_tooltip": null,
            "layout": "IPY_MODEL_8812f1dc42da48c2bdd4864c5b0c5ccf",
            "max": 43410,
            "min": 0,
            "orientation": "horizontal",
            "style": "IPY_MODEL_caca00f9e09746b8a88eca609c601f09",
            "value": 43410
          }
        },
        "2cfbefa4f29648f1885a6bf8e16e6cd0": {
          "model_module": "@jupyter-widgets/controls",
          "model_name": "HTMLModel",
          "model_module_version": "1.5.0",
          "state": {
            "_dom_classes": [],
            "_model_module": "@jupyter-widgets/controls",
            "_model_module_version": "1.5.0",
            "_model_name": "HTMLModel",
            "_view_count": null,
            "_view_module": "@jupyter-widgets/controls",
            "_view_module_version": "1.5.0",
            "_view_name": "HTMLView",
            "description": "",
            "description_tooltip": null,
            "layout": "IPY_MODEL_eddc1bfccefb465ead605def0409428c",
            "placeholder": "​",
            "style": "IPY_MODEL_027c9a9ef8224377bee7ede39313085a",
            "value": " 26014/43410 [00:00&lt;00:00, 144882.93 examples/s]"
          }
        },
        "324657f0fb03480f962e156b65f41db9": {
          "model_module": "@jupyter-widgets/base",
          "model_name": "LayoutModel",
          "model_module_version": "1.2.0",
          "state": {
            "_model_module": "@jupyter-widgets/base",
            "_model_module_version": "1.2.0",
            "_model_name": "LayoutModel",
            "_view_count": null,
            "_view_module": "@jupyter-widgets/base",
            "_view_module_version": "1.2.0",
            "_view_name": "LayoutView",
            "align_content": null,
            "align_items": null,
            "align_self": null,
            "border": null,
            "bottom": null,
            "display": null,
            "flex": null,
            "flex_flow": null,
            "grid_area": null,
            "grid_auto_columns": null,
            "grid_auto_flow": null,
            "grid_auto_rows": null,
            "grid_column": null,
            "grid_gap": null,
            "grid_row": null,
            "grid_template_areas": null,
            "grid_template_columns": null,
            "grid_template_rows": null,
            "height": null,
            "justify_content": null,
            "justify_items": null,
            "left": null,
            "margin": null,
            "max_height": null,
            "max_width": null,
            "min_height": null,
            "min_width": null,
            "object_fit": null,
            "object_position": null,
            "order": null,
            "overflow": null,
            "overflow_x": null,
            "overflow_y": null,
            "padding": null,
            "right": null,
            "top": null,
            "visibility": "hidden",
            "width": null
          }
        },
        "680c35bed98d48c499babe974b1b5c9e": {
          "model_module": "@jupyter-widgets/base",
          "model_name": "LayoutModel",
          "model_module_version": "1.2.0",
          "state": {
            "_model_module": "@jupyter-widgets/base",
            "_model_module_version": "1.2.0",
            "_model_name": "LayoutModel",
            "_view_count": null,
            "_view_module": "@jupyter-widgets/base",
            "_view_module_version": "1.2.0",
            "_view_name": "LayoutView",
            "align_content": null,
            "align_items": null,
            "align_self": null,
            "border": null,
            "bottom": null,
            "display": null,
            "flex": null,
            "flex_flow": null,
            "grid_area": null,
            "grid_auto_columns": null,
            "grid_auto_flow": null,
            "grid_auto_rows": null,
            "grid_column": null,
            "grid_gap": null,
            "grid_row": null,
            "grid_template_areas": null,
            "grid_template_columns": null,
            "grid_template_rows": null,
            "height": null,
            "justify_content": null,
            "justify_items": null,
            "left": null,
            "margin": null,
            "max_height": null,
            "max_width": null,
            "min_height": null,
            "min_width": null,
            "object_fit": null,
            "object_position": null,
            "order": null,
            "overflow": null,
            "overflow_x": null,
            "overflow_y": null,
            "padding": null,
            "right": null,
            "top": null,
            "visibility": null,
            "width": null
          }
        },
        "386f8495436c4d6197e3c60158e249cf": {
          "model_module": "@jupyter-widgets/controls",
          "model_name": "DescriptionStyleModel",
          "model_module_version": "1.5.0",
          "state": {
            "_model_module": "@jupyter-widgets/controls",
            "_model_module_version": "1.5.0",
            "_model_name": "DescriptionStyleModel",
            "_view_count": null,
            "_view_module": "@jupyter-widgets/base",
            "_view_module_version": "1.2.0",
            "_view_name": "StyleView",
            "description_width": ""
          }
        },
        "8812f1dc42da48c2bdd4864c5b0c5ccf": {
          "model_module": "@jupyter-widgets/base",
          "model_name": "LayoutModel",
          "model_module_version": "1.2.0",
          "state": {
            "_model_module": "@jupyter-widgets/base",
            "_model_module_version": "1.2.0",
            "_model_name": "LayoutModel",
            "_view_count": null,
            "_view_module": "@jupyter-widgets/base",
            "_view_module_version": "1.2.0",
            "_view_name": "LayoutView",
            "align_content": null,
            "align_items": null,
            "align_self": null,
            "border": null,
            "bottom": null,
            "display": null,
            "flex": null,
            "flex_flow": null,
            "grid_area": null,
            "grid_auto_columns": null,
            "grid_auto_flow": null,
            "grid_auto_rows": null,
            "grid_column": null,
            "grid_gap": null,
            "grid_row": null,
            "grid_template_areas": null,
            "grid_template_columns": null,
            "grid_template_rows": null,
            "height": null,
            "justify_content": null,
            "justify_items": null,
            "left": null,
            "margin": null,
            "max_height": null,
            "max_width": null,
            "min_height": null,
            "min_width": null,
            "object_fit": null,
            "object_position": null,
            "order": null,
            "overflow": null,
            "overflow_x": null,
            "overflow_y": null,
            "padding": null,
            "right": null,
            "top": null,
            "visibility": null,
            "width": null
          }
        },
        "caca00f9e09746b8a88eca609c601f09": {
          "model_module": "@jupyter-widgets/controls",
          "model_name": "ProgressStyleModel",
          "model_module_version": "1.5.0",
          "state": {
            "_model_module": "@jupyter-widgets/controls",
            "_model_module_version": "1.5.0",
            "_model_name": "ProgressStyleModel",
            "_view_count": null,
            "_view_module": "@jupyter-widgets/base",
            "_view_module_version": "1.2.0",
            "_view_name": "StyleView",
            "bar_color": null,
            "description_width": ""
          }
        },
        "eddc1bfccefb465ead605def0409428c": {
          "model_module": "@jupyter-widgets/base",
          "model_name": "LayoutModel",
          "model_module_version": "1.2.0",
          "state": {
            "_model_module": "@jupyter-widgets/base",
            "_model_module_version": "1.2.0",
            "_model_name": "LayoutModel",
            "_view_count": null,
            "_view_module": "@jupyter-widgets/base",
            "_view_module_version": "1.2.0",
            "_view_name": "LayoutView",
            "align_content": null,
            "align_items": null,
            "align_self": null,
            "border": null,
            "bottom": null,
            "display": null,
            "flex": null,
            "flex_flow": null,
            "grid_area": null,
            "grid_auto_columns": null,
            "grid_auto_flow": null,
            "grid_auto_rows": null,
            "grid_column": null,
            "grid_gap": null,
            "grid_row": null,
            "grid_template_areas": null,
            "grid_template_columns": null,
            "grid_template_rows": null,
            "height": null,
            "justify_content": null,
            "justify_items": null,
            "left": null,
            "margin": null,
            "max_height": null,
            "max_width": null,
            "min_height": null,
            "min_width": null,
            "object_fit": null,
            "object_position": null,
            "order": null,
            "overflow": null,
            "overflow_x": null,
            "overflow_y": null,
            "padding": null,
            "right": null,
            "top": null,
            "visibility": null,
            "width": null
          }
        },
        "027c9a9ef8224377bee7ede39313085a": {
          "model_module": "@jupyter-widgets/controls",
          "model_name": "DescriptionStyleModel",
          "model_module_version": "1.5.0",
          "state": {
            "_model_module": "@jupyter-widgets/controls",
            "_model_module_version": "1.5.0",
            "_model_name": "DescriptionStyleModel",
            "_view_count": null,
            "_view_module": "@jupyter-widgets/base",
            "_view_module_version": "1.2.0",
            "_view_name": "StyleView",
            "description_width": ""
          }
        },
        "0ca2cd1d1b40411c9da02465b0e7877c": {
          "model_module": "@jupyter-widgets/controls",
          "model_name": "HBoxModel",
          "model_module_version": "1.5.0",
          "state": {
            "_dom_classes": [],
            "_model_module": "@jupyter-widgets/controls",
            "_model_module_version": "1.5.0",
            "_model_name": "HBoxModel",
            "_view_count": null,
            "_view_module": "@jupyter-widgets/controls",
            "_view_module_version": "1.5.0",
            "_view_name": "HBoxView",
            "box_style": "",
            "children": [
              "IPY_MODEL_172e7db0d18f483194f48e1ef482e783",
              "IPY_MODEL_d74e191f93354a169380b948f5425c77",
              "IPY_MODEL_9976a3b660384cb39ba9b5ffb6ef7045"
            ],
            "layout": "IPY_MODEL_5c08e1a42ad64f5990a3db66007d371e"
          }
        },
        "172e7db0d18f483194f48e1ef482e783": {
          "model_module": "@jupyter-widgets/controls",
          "model_name": "HTMLModel",
          "model_module_version": "1.5.0",
          "state": {
            "_dom_classes": [],
            "_model_module": "@jupyter-widgets/controls",
            "_model_module_version": "1.5.0",
            "_model_name": "HTMLModel",
            "_view_count": null,
            "_view_module": "@jupyter-widgets/controls",
            "_view_module_version": "1.5.0",
            "_view_name": "HTMLView",
            "description": "",
            "description_tooltip": null,
            "layout": "IPY_MODEL_e1052e3b3dec48468b7d0704a027fca5",
            "placeholder": "​",
            "style": "IPY_MODEL_282592f8468749588eb4e91299b52abe",
            "value": "Generating validation examples...:  98%"
          }
        },
        "d74e191f93354a169380b948f5425c77": {
          "model_module": "@jupyter-widgets/controls",
          "model_name": "FloatProgressModel",
          "model_module_version": "1.5.0",
          "state": {
            "_dom_classes": [],
            "_model_module": "@jupyter-widgets/controls",
            "_model_module_version": "1.5.0",
            "_model_name": "FloatProgressModel",
            "_view_count": null,
            "_view_module": "@jupyter-widgets/controls",
            "_view_module_version": "1.5.0",
            "_view_name": "ProgressView",
            "bar_style": "",
            "description": "",
            "description_tooltip": null,
            "layout": "IPY_MODEL_fa83252aff0c4a86b8dc8220a30dffa1",
            "max": 5426,
            "min": 0,
            "orientation": "horizontal",
            "style": "IPY_MODEL_b316439f1117443a864046ce087b0cbb",
            "value": 5426
          }
        },
        "9976a3b660384cb39ba9b5ffb6ef7045": {
          "model_module": "@jupyter-widgets/controls",
          "model_name": "HTMLModel",
          "model_module_version": "1.5.0",
          "state": {
            "_dom_classes": [],
            "_model_module": "@jupyter-widgets/controls",
            "_model_module_version": "1.5.0",
            "_model_name": "HTMLModel",
            "_view_count": null,
            "_view_module": "@jupyter-widgets/controls",
            "_view_module_version": "1.5.0",
            "_view_name": "HTMLView",
            "description": "",
            "description_tooltip": null,
            "layout": "IPY_MODEL_4ee6fbb7c5e5419a8db1f5af6faa387c",
            "placeholder": "​",
            "style": "IPY_MODEL_6c303a53140e4f9797ad5734f128d7c3",
            "value": " 5322/5426 [00:04&lt;00:00, 1367.92 examples/s]"
          }
        },
        "5c08e1a42ad64f5990a3db66007d371e": {
          "model_module": "@jupyter-widgets/base",
          "model_name": "LayoutModel",
          "model_module_version": "1.2.0",
          "state": {
            "_model_module": "@jupyter-widgets/base",
            "_model_module_version": "1.2.0",
            "_model_name": "LayoutModel",
            "_view_count": null,
            "_view_module": "@jupyter-widgets/base",
            "_view_module_version": "1.2.0",
            "_view_name": "LayoutView",
            "align_content": null,
            "align_items": null,
            "align_self": null,
            "border": null,
            "bottom": null,
            "display": null,
            "flex": null,
            "flex_flow": null,
            "grid_area": null,
            "grid_auto_columns": null,
            "grid_auto_flow": null,
            "grid_auto_rows": null,
            "grid_column": null,
            "grid_gap": null,
            "grid_row": null,
            "grid_template_areas": null,
            "grid_template_columns": null,
            "grid_template_rows": null,
            "height": null,
            "justify_content": null,
            "justify_items": null,
            "left": null,
            "margin": null,
            "max_height": null,
            "max_width": null,
            "min_height": null,
            "min_width": null,
            "object_fit": null,
            "object_position": null,
            "order": null,
            "overflow": null,
            "overflow_x": null,
            "overflow_y": null,
            "padding": null,
            "right": null,
            "top": null,
            "visibility": "hidden",
            "width": null
          }
        },
        "e1052e3b3dec48468b7d0704a027fca5": {
          "model_module": "@jupyter-widgets/base",
          "model_name": "LayoutModel",
          "model_module_version": "1.2.0",
          "state": {
            "_model_module": "@jupyter-widgets/base",
            "_model_module_version": "1.2.0",
            "_model_name": "LayoutModel",
            "_view_count": null,
            "_view_module": "@jupyter-widgets/base",
            "_view_module_version": "1.2.0",
            "_view_name": "LayoutView",
            "align_content": null,
            "align_items": null,
            "align_self": null,
            "border": null,
            "bottom": null,
            "display": null,
            "flex": null,
            "flex_flow": null,
            "grid_area": null,
            "grid_auto_columns": null,
            "grid_auto_flow": null,
            "grid_auto_rows": null,
            "grid_column": null,
            "grid_gap": null,
            "grid_row": null,
            "grid_template_areas": null,
            "grid_template_columns": null,
            "grid_template_rows": null,
            "height": null,
            "justify_content": null,
            "justify_items": null,
            "left": null,
            "margin": null,
            "max_height": null,
            "max_width": null,
            "min_height": null,
            "min_width": null,
            "object_fit": null,
            "object_position": null,
            "order": null,
            "overflow": null,
            "overflow_x": null,
            "overflow_y": null,
            "padding": null,
            "right": null,
            "top": null,
            "visibility": null,
            "width": null
          }
        },
        "282592f8468749588eb4e91299b52abe": {
          "model_module": "@jupyter-widgets/controls",
          "model_name": "DescriptionStyleModel",
          "model_module_version": "1.5.0",
          "state": {
            "_model_module": "@jupyter-widgets/controls",
            "_model_module_version": "1.5.0",
            "_model_name": "DescriptionStyleModel",
            "_view_count": null,
            "_view_module": "@jupyter-widgets/base",
            "_view_module_version": "1.2.0",
            "_view_name": "StyleView",
            "description_width": ""
          }
        },
        "fa83252aff0c4a86b8dc8220a30dffa1": {
          "model_module": "@jupyter-widgets/base",
          "model_name": "LayoutModel",
          "model_module_version": "1.2.0",
          "state": {
            "_model_module": "@jupyter-widgets/base",
            "_model_module_version": "1.2.0",
            "_model_name": "LayoutModel",
            "_view_count": null,
            "_view_module": "@jupyter-widgets/base",
            "_view_module_version": "1.2.0",
            "_view_name": "LayoutView",
            "align_content": null,
            "align_items": null,
            "align_self": null,
            "border": null,
            "bottom": null,
            "display": null,
            "flex": null,
            "flex_flow": null,
            "grid_area": null,
            "grid_auto_columns": null,
            "grid_auto_flow": null,
            "grid_auto_rows": null,
            "grid_column": null,
            "grid_gap": null,
            "grid_row": null,
            "grid_template_areas": null,
            "grid_template_columns": null,
            "grid_template_rows": null,
            "height": null,
            "justify_content": null,
            "justify_items": null,
            "left": null,
            "margin": null,
            "max_height": null,
            "max_width": null,
            "min_height": null,
            "min_width": null,
            "object_fit": null,
            "object_position": null,
            "order": null,
            "overflow": null,
            "overflow_x": null,
            "overflow_y": null,
            "padding": null,
            "right": null,
            "top": null,
            "visibility": null,
            "width": null
          }
        },
        "b316439f1117443a864046ce087b0cbb": {
          "model_module": "@jupyter-widgets/controls",
          "model_name": "ProgressStyleModel",
          "model_module_version": "1.5.0",
          "state": {
            "_model_module": "@jupyter-widgets/controls",
            "_model_module_version": "1.5.0",
            "_model_name": "ProgressStyleModel",
            "_view_count": null,
            "_view_module": "@jupyter-widgets/base",
            "_view_module_version": "1.2.0",
            "_view_name": "StyleView",
            "bar_color": null,
            "description_width": ""
          }
        },
        "4ee6fbb7c5e5419a8db1f5af6faa387c": {
          "model_module": "@jupyter-widgets/base",
          "model_name": "LayoutModel",
          "model_module_version": "1.2.0",
          "state": {
            "_model_module": "@jupyter-widgets/base",
            "_model_module_version": "1.2.0",
            "_model_name": "LayoutModel",
            "_view_count": null,
            "_view_module": "@jupyter-widgets/base",
            "_view_module_version": "1.2.0",
            "_view_name": "LayoutView",
            "align_content": null,
            "align_items": null,
            "align_self": null,
            "border": null,
            "bottom": null,
            "display": null,
            "flex": null,
            "flex_flow": null,
            "grid_area": null,
            "grid_auto_columns": null,
            "grid_auto_flow": null,
            "grid_auto_rows": null,
            "grid_column": null,
            "grid_gap": null,
            "grid_row": null,
            "grid_template_areas": null,
            "grid_template_columns": null,
            "grid_template_rows": null,
            "height": null,
            "justify_content": null,
            "justify_items": null,
            "left": null,
            "margin": null,
            "max_height": null,
            "max_width": null,
            "min_height": null,
            "min_width": null,
            "object_fit": null,
            "object_position": null,
            "order": null,
            "overflow": null,
            "overflow_x": null,
            "overflow_y": null,
            "padding": null,
            "right": null,
            "top": null,
            "visibility": null,
            "width": null
          }
        },
        "6c303a53140e4f9797ad5734f128d7c3": {
          "model_module": "@jupyter-widgets/controls",
          "model_name": "DescriptionStyleModel",
          "model_module_version": "1.5.0",
          "state": {
            "_model_module": "@jupyter-widgets/controls",
            "_model_module_version": "1.5.0",
            "_model_name": "DescriptionStyleModel",
            "_view_count": null,
            "_view_module": "@jupyter-widgets/base",
            "_view_module_version": "1.2.0",
            "_view_name": "StyleView",
            "description_width": ""
          }
        },
        "ffbbb5ece0684262aa71e37dc8a65ea2": {
          "model_module": "@jupyter-widgets/controls",
          "model_name": "HBoxModel",
          "model_module_version": "1.5.0",
          "state": {
            "_dom_classes": [],
            "_model_module": "@jupyter-widgets/controls",
            "_model_module_version": "1.5.0",
            "_model_name": "HBoxModel",
            "_view_count": null,
            "_view_module": "@jupyter-widgets/controls",
            "_view_module_version": "1.5.0",
            "_view_name": "HBoxView",
            "box_style": "",
            "children": [
              "IPY_MODEL_5cf6d0c2f84c42babce0e3dff9d6ac4c",
              "IPY_MODEL_159c8067ada24b5ebb875c9dc03977ea",
              "IPY_MODEL_ede70d0f391742b3a0ff6481b3854fe5"
            ],
            "layout": "IPY_MODEL_779a579d4849405e8fad6c4063e716f5"
          }
        },
        "5cf6d0c2f84c42babce0e3dff9d6ac4c": {
          "model_module": "@jupyter-widgets/controls",
          "model_name": "HTMLModel",
          "model_module_version": "1.5.0",
          "state": {
            "_dom_classes": [],
            "_model_module": "@jupyter-widgets/controls",
            "_model_module_version": "1.5.0",
            "_model_name": "HTMLModel",
            "_view_count": null,
            "_view_module": "@jupyter-widgets/controls",
            "_view_module_version": "1.5.0",
            "_view_name": "HTMLView",
            "description": "",
            "description_tooltip": null,
            "layout": "IPY_MODEL_3aa19b6459f94d349cb9d9a78b8d9e3c",
            "placeholder": "​",
            "style": "IPY_MODEL_ff4d9cb3c0244e77bb81a0ba2264005c",
            "value": "Shuffling ~/tensorflow_datasets/goemotions/0.1.0.incompleteSTNS1S/goemotions-validation.tfrecord*...:   0%"
          }
        },
        "159c8067ada24b5ebb875c9dc03977ea": {
          "model_module": "@jupyter-widgets/controls",
          "model_name": "FloatProgressModel",
          "model_module_version": "1.5.0",
          "state": {
            "_dom_classes": [],
            "_model_module": "@jupyter-widgets/controls",
            "_model_module_version": "1.5.0",
            "_model_name": "FloatProgressModel",
            "_view_count": null,
            "_view_module": "@jupyter-widgets/controls",
            "_view_module_version": "1.5.0",
            "_view_name": "ProgressView",
            "bar_style": "",
            "description": "",
            "description_tooltip": null,
            "layout": "IPY_MODEL_df33f4917eb64b2999e4d32d79311959",
            "max": 5426,
            "min": 0,
            "orientation": "horizontal",
            "style": "IPY_MODEL_399ca1463a87455e8a7692b839b250be",
            "value": 5426
          }
        },
        "ede70d0f391742b3a0ff6481b3854fe5": {
          "model_module": "@jupyter-widgets/controls",
          "model_name": "HTMLModel",
          "model_module_version": "1.5.0",
          "state": {
            "_dom_classes": [],
            "_model_module": "@jupyter-widgets/controls",
            "_model_module_version": "1.5.0",
            "_model_name": "HTMLModel",
            "_view_count": null,
            "_view_module": "@jupyter-widgets/controls",
            "_view_module_version": "1.5.0",
            "_view_name": "HTMLView",
            "description": "",
            "description_tooltip": null,
            "layout": "IPY_MODEL_b6bb9dbfe8ae498e884eae4778f8abbb",
            "placeholder": "​",
            "style": "IPY_MODEL_de7e4c8f46e545789469f6ae68d0c9b4",
            "value": " 0/5426 [00:00&lt;?, ? examples/s]"
          }
        },
        "779a579d4849405e8fad6c4063e716f5": {
          "model_module": "@jupyter-widgets/base",
          "model_name": "LayoutModel",
          "model_module_version": "1.2.0",
          "state": {
            "_model_module": "@jupyter-widgets/base",
            "_model_module_version": "1.2.0",
            "_model_name": "LayoutModel",
            "_view_count": null,
            "_view_module": "@jupyter-widgets/base",
            "_view_module_version": "1.2.0",
            "_view_name": "LayoutView",
            "align_content": null,
            "align_items": null,
            "align_self": null,
            "border": null,
            "bottom": null,
            "display": null,
            "flex": null,
            "flex_flow": null,
            "grid_area": null,
            "grid_auto_columns": null,
            "grid_auto_flow": null,
            "grid_auto_rows": null,
            "grid_column": null,
            "grid_gap": null,
            "grid_row": null,
            "grid_template_areas": null,
            "grid_template_columns": null,
            "grid_template_rows": null,
            "height": null,
            "justify_content": null,
            "justify_items": null,
            "left": null,
            "margin": null,
            "max_height": null,
            "max_width": null,
            "min_height": null,
            "min_width": null,
            "object_fit": null,
            "object_position": null,
            "order": null,
            "overflow": null,
            "overflow_x": null,
            "overflow_y": null,
            "padding": null,
            "right": null,
            "top": null,
            "visibility": "hidden",
            "width": null
          }
        },
        "3aa19b6459f94d349cb9d9a78b8d9e3c": {
          "model_module": "@jupyter-widgets/base",
          "model_name": "LayoutModel",
          "model_module_version": "1.2.0",
          "state": {
            "_model_module": "@jupyter-widgets/base",
            "_model_module_version": "1.2.0",
            "_model_name": "LayoutModel",
            "_view_count": null,
            "_view_module": "@jupyter-widgets/base",
            "_view_module_version": "1.2.0",
            "_view_name": "LayoutView",
            "align_content": null,
            "align_items": null,
            "align_self": null,
            "border": null,
            "bottom": null,
            "display": null,
            "flex": null,
            "flex_flow": null,
            "grid_area": null,
            "grid_auto_columns": null,
            "grid_auto_flow": null,
            "grid_auto_rows": null,
            "grid_column": null,
            "grid_gap": null,
            "grid_row": null,
            "grid_template_areas": null,
            "grid_template_columns": null,
            "grid_template_rows": null,
            "height": null,
            "justify_content": null,
            "justify_items": null,
            "left": null,
            "margin": null,
            "max_height": null,
            "max_width": null,
            "min_height": null,
            "min_width": null,
            "object_fit": null,
            "object_position": null,
            "order": null,
            "overflow": null,
            "overflow_x": null,
            "overflow_y": null,
            "padding": null,
            "right": null,
            "top": null,
            "visibility": null,
            "width": null
          }
        },
        "ff4d9cb3c0244e77bb81a0ba2264005c": {
          "model_module": "@jupyter-widgets/controls",
          "model_name": "DescriptionStyleModel",
          "model_module_version": "1.5.0",
          "state": {
            "_model_module": "@jupyter-widgets/controls",
            "_model_module_version": "1.5.0",
            "_model_name": "DescriptionStyleModel",
            "_view_count": null,
            "_view_module": "@jupyter-widgets/base",
            "_view_module_version": "1.2.0",
            "_view_name": "StyleView",
            "description_width": ""
          }
        },
        "df33f4917eb64b2999e4d32d79311959": {
          "model_module": "@jupyter-widgets/base",
          "model_name": "LayoutModel",
          "model_module_version": "1.2.0",
          "state": {
            "_model_module": "@jupyter-widgets/base",
            "_model_module_version": "1.2.0",
            "_model_name": "LayoutModel",
            "_view_count": null,
            "_view_module": "@jupyter-widgets/base",
            "_view_module_version": "1.2.0",
            "_view_name": "LayoutView",
            "align_content": null,
            "align_items": null,
            "align_self": null,
            "border": null,
            "bottom": null,
            "display": null,
            "flex": null,
            "flex_flow": null,
            "grid_area": null,
            "grid_auto_columns": null,
            "grid_auto_flow": null,
            "grid_auto_rows": null,
            "grid_column": null,
            "grid_gap": null,
            "grid_row": null,
            "grid_template_areas": null,
            "grid_template_columns": null,
            "grid_template_rows": null,
            "height": null,
            "justify_content": null,
            "justify_items": null,
            "left": null,
            "margin": null,
            "max_height": null,
            "max_width": null,
            "min_height": null,
            "min_width": null,
            "object_fit": null,
            "object_position": null,
            "order": null,
            "overflow": null,
            "overflow_x": null,
            "overflow_y": null,
            "padding": null,
            "right": null,
            "top": null,
            "visibility": null,
            "width": null
          }
        },
        "399ca1463a87455e8a7692b839b250be": {
          "model_module": "@jupyter-widgets/controls",
          "model_name": "ProgressStyleModel",
          "model_module_version": "1.5.0",
          "state": {
            "_model_module": "@jupyter-widgets/controls",
            "_model_module_version": "1.5.0",
            "_model_name": "ProgressStyleModel",
            "_view_count": null,
            "_view_module": "@jupyter-widgets/base",
            "_view_module_version": "1.2.0",
            "_view_name": "StyleView",
            "bar_color": null,
            "description_width": ""
          }
        },
        "b6bb9dbfe8ae498e884eae4778f8abbb": {
          "model_module": "@jupyter-widgets/base",
          "model_name": "LayoutModel",
          "model_module_version": "1.2.0",
          "state": {
            "_model_module": "@jupyter-widgets/base",
            "_model_module_version": "1.2.0",
            "_model_name": "LayoutModel",
            "_view_count": null,
            "_view_module": "@jupyter-widgets/base",
            "_view_module_version": "1.2.0",
            "_view_name": "LayoutView",
            "align_content": null,
            "align_items": null,
            "align_self": null,
            "border": null,
            "bottom": null,
            "display": null,
            "flex": null,
            "flex_flow": null,
            "grid_area": null,
            "grid_auto_columns": null,
            "grid_auto_flow": null,
            "grid_auto_rows": null,
            "grid_column": null,
            "grid_gap": null,
            "grid_row": null,
            "grid_template_areas": null,
            "grid_template_columns": null,
            "grid_template_rows": null,
            "height": null,
            "justify_content": null,
            "justify_items": null,
            "left": null,
            "margin": null,
            "max_height": null,
            "max_width": null,
            "min_height": null,
            "min_width": null,
            "object_fit": null,
            "object_position": null,
            "order": null,
            "overflow": null,
            "overflow_x": null,
            "overflow_y": null,
            "padding": null,
            "right": null,
            "top": null,
            "visibility": null,
            "width": null
          }
        },
        "de7e4c8f46e545789469f6ae68d0c9b4": {
          "model_module": "@jupyter-widgets/controls",
          "model_name": "DescriptionStyleModel",
          "model_module_version": "1.5.0",
          "state": {
            "_model_module": "@jupyter-widgets/controls",
            "_model_module_version": "1.5.0",
            "_model_name": "DescriptionStyleModel",
            "_view_count": null,
            "_view_module": "@jupyter-widgets/base",
            "_view_module_version": "1.2.0",
            "_view_name": "StyleView",
            "description_width": ""
          }
        },
        "571717ed6ebe477cacdaac50f41a9f15": {
          "model_module": "@jupyter-widgets/controls",
          "model_name": "HBoxModel",
          "model_module_version": "1.5.0",
          "state": {
            "_dom_classes": [],
            "_model_module": "@jupyter-widgets/controls",
            "_model_module_version": "1.5.0",
            "_model_name": "HBoxModel",
            "_view_count": null,
            "_view_module": "@jupyter-widgets/controls",
            "_view_module_version": "1.5.0",
            "_view_name": "HBoxView",
            "box_style": "",
            "children": [
              "IPY_MODEL_77806461808043e89dcc1425d1439164",
              "IPY_MODEL_a2e79bf5cb5a4289bfe9ccc06fb8e700",
              "IPY_MODEL_abcc3a80fa14482187c3944cf414bb52"
            ],
            "layout": "IPY_MODEL_ab86f0ec344c47f8a3151032b652ddc9"
          }
        },
        "77806461808043e89dcc1425d1439164": {
          "model_module": "@jupyter-widgets/controls",
          "model_name": "HTMLModel",
          "model_module_version": "1.5.0",
          "state": {
            "_dom_classes": [],
            "_model_module": "@jupyter-widgets/controls",
            "_model_module_version": "1.5.0",
            "_model_name": "HTMLModel",
            "_view_count": null,
            "_view_module": "@jupyter-widgets/controls",
            "_view_module_version": "1.5.0",
            "_view_name": "HTMLView",
            "description": "",
            "description_tooltip": null,
            "layout": "IPY_MODEL_1998155a3f2e4deca0fc50c994f330b4",
            "placeholder": "​",
            "style": "IPY_MODEL_babf545a3505439d934a7990d4503cf9",
            "value": "Generating test examples...: 100%"
          }
        },
        "a2e79bf5cb5a4289bfe9ccc06fb8e700": {
          "model_module": "@jupyter-widgets/controls",
          "model_name": "FloatProgressModel",
          "model_module_version": "1.5.0",
          "state": {
            "_dom_classes": [],
            "_model_module": "@jupyter-widgets/controls",
            "_model_module_version": "1.5.0",
            "_model_name": "FloatProgressModel",
            "_view_count": null,
            "_view_module": "@jupyter-widgets/controls",
            "_view_module_version": "1.5.0",
            "_view_name": "ProgressView",
            "bar_style": "",
            "description": "",
            "description_tooltip": null,
            "layout": "IPY_MODEL_7b750ab66c1f4f288a8205fb70328101",
            "max": 5427,
            "min": 0,
            "orientation": "horizontal",
            "style": "IPY_MODEL_aa3293888c55415d8db11592785d3b50",
            "value": 5427
          }
        },
        "abcc3a80fa14482187c3944cf414bb52": {
          "model_module": "@jupyter-widgets/controls",
          "model_name": "HTMLModel",
          "model_module_version": "1.5.0",
          "state": {
            "_dom_classes": [],
            "_model_module": "@jupyter-widgets/controls",
            "_model_module_version": "1.5.0",
            "_model_name": "HTMLModel",
            "_view_count": null,
            "_view_module": "@jupyter-widgets/controls",
            "_view_module_version": "1.5.0",
            "_view_name": "HTMLView",
            "description": "",
            "description_tooltip": null,
            "layout": "IPY_MODEL_01c2d855748644a98f17bc34dba103b6",
            "placeholder": "​",
            "style": "IPY_MODEL_8a3acd44889a4e43a354a9de6e49b5ff",
            "value": " 5402/5427 [00:04&lt;00:00, 1251.31 examples/s]"
          }
        },
        "ab86f0ec344c47f8a3151032b652ddc9": {
          "model_module": "@jupyter-widgets/base",
          "model_name": "LayoutModel",
          "model_module_version": "1.2.0",
          "state": {
            "_model_module": "@jupyter-widgets/base",
            "_model_module_version": "1.2.0",
            "_model_name": "LayoutModel",
            "_view_count": null,
            "_view_module": "@jupyter-widgets/base",
            "_view_module_version": "1.2.0",
            "_view_name": "LayoutView",
            "align_content": null,
            "align_items": null,
            "align_self": null,
            "border": null,
            "bottom": null,
            "display": null,
            "flex": null,
            "flex_flow": null,
            "grid_area": null,
            "grid_auto_columns": null,
            "grid_auto_flow": null,
            "grid_auto_rows": null,
            "grid_column": null,
            "grid_gap": null,
            "grid_row": null,
            "grid_template_areas": null,
            "grid_template_columns": null,
            "grid_template_rows": null,
            "height": null,
            "justify_content": null,
            "justify_items": null,
            "left": null,
            "margin": null,
            "max_height": null,
            "max_width": null,
            "min_height": null,
            "min_width": null,
            "object_fit": null,
            "object_position": null,
            "order": null,
            "overflow": null,
            "overflow_x": null,
            "overflow_y": null,
            "padding": null,
            "right": null,
            "top": null,
            "visibility": "hidden",
            "width": null
          }
        },
        "1998155a3f2e4deca0fc50c994f330b4": {
          "model_module": "@jupyter-widgets/base",
          "model_name": "LayoutModel",
          "model_module_version": "1.2.0",
          "state": {
            "_model_module": "@jupyter-widgets/base",
            "_model_module_version": "1.2.0",
            "_model_name": "LayoutModel",
            "_view_count": null,
            "_view_module": "@jupyter-widgets/base",
            "_view_module_version": "1.2.0",
            "_view_name": "LayoutView",
            "align_content": null,
            "align_items": null,
            "align_self": null,
            "border": null,
            "bottom": null,
            "display": null,
            "flex": null,
            "flex_flow": null,
            "grid_area": null,
            "grid_auto_columns": null,
            "grid_auto_flow": null,
            "grid_auto_rows": null,
            "grid_column": null,
            "grid_gap": null,
            "grid_row": null,
            "grid_template_areas": null,
            "grid_template_columns": null,
            "grid_template_rows": null,
            "height": null,
            "justify_content": null,
            "justify_items": null,
            "left": null,
            "margin": null,
            "max_height": null,
            "max_width": null,
            "min_height": null,
            "min_width": null,
            "object_fit": null,
            "object_position": null,
            "order": null,
            "overflow": null,
            "overflow_x": null,
            "overflow_y": null,
            "padding": null,
            "right": null,
            "top": null,
            "visibility": null,
            "width": null
          }
        },
        "babf545a3505439d934a7990d4503cf9": {
          "model_module": "@jupyter-widgets/controls",
          "model_name": "DescriptionStyleModel",
          "model_module_version": "1.5.0",
          "state": {
            "_model_module": "@jupyter-widgets/controls",
            "_model_module_version": "1.5.0",
            "_model_name": "DescriptionStyleModel",
            "_view_count": null,
            "_view_module": "@jupyter-widgets/base",
            "_view_module_version": "1.2.0",
            "_view_name": "StyleView",
            "description_width": ""
          }
        },
        "7b750ab66c1f4f288a8205fb70328101": {
          "model_module": "@jupyter-widgets/base",
          "model_name": "LayoutModel",
          "model_module_version": "1.2.0",
          "state": {
            "_model_module": "@jupyter-widgets/base",
            "_model_module_version": "1.2.0",
            "_model_name": "LayoutModel",
            "_view_count": null,
            "_view_module": "@jupyter-widgets/base",
            "_view_module_version": "1.2.0",
            "_view_name": "LayoutView",
            "align_content": null,
            "align_items": null,
            "align_self": null,
            "border": null,
            "bottom": null,
            "display": null,
            "flex": null,
            "flex_flow": null,
            "grid_area": null,
            "grid_auto_columns": null,
            "grid_auto_flow": null,
            "grid_auto_rows": null,
            "grid_column": null,
            "grid_gap": null,
            "grid_row": null,
            "grid_template_areas": null,
            "grid_template_columns": null,
            "grid_template_rows": null,
            "height": null,
            "justify_content": null,
            "justify_items": null,
            "left": null,
            "margin": null,
            "max_height": null,
            "max_width": null,
            "min_height": null,
            "min_width": null,
            "object_fit": null,
            "object_position": null,
            "order": null,
            "overflow": null,
            "overflow_x": null,
            "overflow_y": null,
            "padding": null,
            "right": null,
            "top": null,
            "visibility": null,
            "width": null
          }
        },
        "aa3293888c55415d8db11592785d3b50": {
          "model_module": "@jupyter-widgets/controls",
          "model_name": "ProgressStyleModel",
          "model_module_version": "1.5.0",
          "state": {
            "_model_module": "@jupyter-widgets/controls",
            "_model_module_version": "1.5.0",
            "_model_name": "ProgressStyleModel",
            "_view_count": null,
            "_view_module": "@jupyter-widgets/base",
            "_view_module_version": "1.2.0",
            "_view_name": "StyleView",
            "bar_color": null,
            "description_width": ""
          }
        },
        "01c2d855748644a98f17bc34dba103b6": {
          "model_module": "@jupyter-widgets/base",
          "model_name": "LayoutModel",
          "model_module_version": "1.2.0",
          "state": {
            "_model_module": "@jupyter-widgets/base",
            "_model_module_version": "1.2.0",
            "_model_name": "LayoutModel",
            "_view_count": null,
            "_view_module": "@jupyter-widgets/base",
            "_view_module_version": "1.2.0",
            "_view_name": "LayoutView",
            "align_content": null,
            "align_items": null,
            "align_self": null,
            "border": null,
            "bottom": null,
            "display": null,
            "flex": null,
            "flex_flow": null,
            "grid_area": null,
            "grid_auto_columns": null,
            "grid_auto_flow": null,
            "grid_auto_rows": null,
            "grid_column": null,
            "grid_gap": null,
            "grid_row": null,
            "grid_template_areas": null,
            "grid_template_columns": null,
            "grid_template_rows": null,
            "height": null,
            "justify_content": null,
            "justify_items": null,
            "left": null,
            "margin": null,
            "max_height": null,
            "max_width": null,
            "min_height": null,
            "min_width": null,
            "object_fit": null,
            "object_position": null,
            "order": null,
            "overflow": null,
            "overflow_x": null,
            "overflow_y": null,
            "padding": null,
            "right": null,
            "top": null,
            "visibility": null,
            "width": null
          }
        },
        "8a3acd44889a4e43a354a9de6e49b5ff": {
          "model_module": "@jupyter-widgets/controls",
          "model_name": "DescriptionStyleModel",
          "model_module_version": "1.5.0",
          "state": {
            "_model_module": "@jupyter-widgets/controls",
            "_model_module_version": "1.5.0",
            "_model_name": "DescriptionStyleModel",
            "_view_count": null,
            "_view_module": "@jupyter-widgets/base",
            "_view_module_version": "1.2.0",
            "_view_name": "StyleView",
            "description_width": ""
          }
        },
        "7d2abe08d73b493ebd27066fc1ba51f5": {
          "model_module": "@jupyter-widgets/controls",
          "model_name": "HBoxModel",
          "model_module_version": "1.5.0",
          "state": {
            "_dom_classes": [],
            "_model_module": "@jupyter-widgets/controls",
            "_model_module_version": "1.5.0",
            "_model_name": "HBoxModel",
            "_view_count": null,
            "_view_module": "@jupyter-widgets/controls",
            "_view_module_version": "1.5.0",
            "_view_name": "HBoxView",
            "box_style": "",
            "children": [
              "IPY_MODEL_a6edd46736b54d6bb1c9875e738f772c",
              "IPY_MODEL_5f565c8988ae4901b154552a54b3cc5f",
              "IPY_MODEL_970e1d04acdd4ef79efd82f73f7dbb4f"
            ],
            "layout": "IPY_MODEL_a9c741ebed6349fba723b3a60b3fece2"
          }
        },
        "a6edd46736b54d6bb1c9875e738f772c": {
          "model_module": "@jupyter-widgets/controls",
          "model_name": "HTMLModel",
          "model_module_version": "1.5.0",
          "state": {
            "_dom_classes": [],
            "_model_module": "@jupyter-widgets/controls",
            "_model_module_version": "1.5.0",
            "_model_name": "HTMLModel",
            "_view_count": null,
            "_view_module": "@jupyter-widgets/controls",
            "_view_module_version": "1.5.0",
            "_view_name": "HTMLView",
            "description": "",
            "description_tooltip": null,
            "layout": "IPY_MODEL_a14b8a1aaf0e4ca0a57cb28cc9d77ba0",
            "placeholder": "​",
            "style": "IPY_MODEL_bc3c4264a6fb4d5798b653fab9951482",
            "value": "Shuffling ~/tensorflow_datasets/goemotions/0.1.0.incompleteSTNS1S/goemotions-test.tfrecord*...:   0%"
          }
        },
        "5f565c8988ae4901b154552a54b3cc5f": {
          "model_module": "@jupyter-widgets/controls",
          "model_name": "FloatProgressModel",
          "model_module_version": "1.5.0",
          "state": {
            "_dom_classes": [],
            "_model_module": "@jupyter-widgets/controls",
            "_model_module_version": "1.5.0",
            "_model_name": "FloatProgressModel",
            "_view_count": null,
            "_view_module": "@jupyter-widgets/controls",
            "_view_module_version": "1.5.0",
            "_view_name": "ProgressView",
            "bar_style": "",
            "description": "",
            "description_tooltip": null,
            "layout": "IPY_MODEL_5bb8c2902e71418d88da67e0b16552cd",
            "max": 5427,
            "min": 0,
            "orientation": "horizontal",
            "style": "IPY_MODEL_b06ea633f6c643a3905d87c31033b028",
            "value": 5427
          }
        },
        "970e1d04acdd4ef79efd82f73f7dbb4f": {
          "model_module": "@jupyter-widgets/controls",
          "model_name": "HTMLModel",
          "model_module_version": "1.5.0",
          "state": {
            "_dom_classes": [],
            "_model_module": "@jupyter-widgets/controls",
            "_model_module_version": "1.5.0",
            "_model_name": "HTMLModel",
            "_view_count": null,
            "_view_module": "@jupyter-widgets/controls",
            "_view_module_version": "1.5.0",
            "_view_name": "HTMLView",
            "description": "",
            "description_tooltip": null,
            "layout": "IPY_MODEL_50cf20c698324ee6b5f907aaf7fc3f5d",
            "placeholder": "​",
            "style": "IPY_MODEL_ad2ae63242ec410d8de97f160d891ec9",
            "value": " 0/5427 [00:00&lt;?, ? examples/s]"
          }
        },
        "a9c741ebed6349fba723b3a60b3fece2": {
          "model_module": "@jupyter-widgets/base",
          "model_name": "LayoutModel",
          "model_module_version": "1.2.0",
          "state": {
            "_model_module": "@jupyter-widgets/base",
            "_model_module_version": "1.2.0",
            "_model_name": "LayoutModel",
            "_view_count": null,
            "_view_module": "@jupyter-widgets/base",
            "_view_module_version": "1.2.0",
            "_view_name": "LayoutView",
            "align_content": null,
            "align_items": null,
            "align_self": null,
            "border": null,
            "bottom": null,
            "display": null,
            "flex": null,
            "flex_flow": null,
            "grid_area": null,
            "grid_auto_columns": null,
            "grid_auto_flow": null,
            "grid_auto_rows": null,
            "grid_column": null,
            "grid_gap": null,
            "grid_row": null,
            "grid_template_areas": null,
            "grid_template_columns": null,
            "grid_template_rows": null,
            "height": null,
            "justify_content": null,
            "justify_items": null,
            "left": null,
            "margin": null,
            "max_height": null,
            "max_width": null,
            "min_height": null,
            "min_width": null,
            "object_fit": null,
            "object_position": null,
            "order": null,
            "overflow": null,
            "overflow_x": null,
            "overflow_y": null,
            "padding": null,
            "right": null,
            "top": null,
            "visibility": "hidden",
            "width": null
          }
        },
        "a14b8a1aaf0e4ca0a57cb28cc9d77ba0": {
          "model_module": "@jupyter-widgets/base",
          "model_name": "LayoutModel",
          "model_module_version": "1.2.0",
          "state": {
            "_model_module": "@jupyter-widgets/base",
            "_model_module_version": "1.2.0",
            "_model_name": "LayoutModel",
            "_view_count": null,
            "_view_module": "@jupyter-widgets/base",
            "_view_module_version": "1.2.0",
            "_view_name": "LayoutView",
            "align_content": null,
            "align_items": null,
            "align_self": null,
            "border": null,
            "bottom": null,
            "display": null,
            "flex": null,
            "flex_flow": null,
            "grid_area": null,
            "grid_auto_columns": null,
            "grid_auto_flow": null,
            "grid_auto_rows": null,
            "grid_column": null,
            "grid_gap": null,
            "grid_row": null,
            "grid_template_areas": null,
            "grid_template_columns": null,
            "grid_template_rows": null,
            "height": null,
            "justify_content": null,
            "justify_items": null,
            "left": null,
            "margin": null,
            "max_height": null,
            "max_width": null,
            "min_height": null,
            "min_width": null,
            "object_fit": null,
            "object_position": null,
            "order": null,
            "overflow": null,
            "overflow_x": null,
            "overflow_y": null,
            "padding": null,
            "right": null,
            "top": null,
            "visibility": null,
            "width": null
          }
        },
        "bc3c4264a6fb4d5798b653fab9951482": {
          "model_module": "@jupyter-widgets/controls",
          "model_name": "DescriptionStyleModel",
          "model_module_version": "1.5.0",
          "state": {
            "_model_module": "@jupyter-widgets/controls",
            "_model_module_version": "1.5.0",
            "_model_name": "DescriptionStyleModel",
            "_view_count": null,
            "_view_module": "@jupyter-widgets/base",
            "_view_module_version": "1.2.0",
            "_view_name": "StyleView",
            "description_width": ""
          }
        },
        "5bb8c2902e71418d88da67e0b16552cd": {
          "model_module": "@jupyter-widgets/base",
          "model_name": "LayoutModel",
          "model_module_version": "1.2.0",
          "state": {
            "_model_module": "@jupyter-widgets/base",
            "_model_module_version": "1.2.0",
            "_model_name": "LayoutModel",
            "_view_count": null,
            "_view_module": "@jupyter-widgets/base",
            "_view_module_version": "1.2.0",
            "_view_name": "LayoutView",
            "align_content": null,
            "align_items": null,
            "align_self": null,
            "border": null,
            "bottom": null,
            "display": null,
            "flex": null,
            "flex_flow": null,
            "grid_area": null,
            "grid_auto_columns": null,
            "grid_auto_flow": null,
            "grid_auto_rows": null,
            "grid_column": null,
            "grid_gap": null,
            "grid_row": null,
            "grid_template_areas": null,
            "grid_template_columns": null,
            "grid_template_rows": null,
            "height": null,
            "justify_content": null,
            "justify_items": null,
            "left": null,
            "margin": null,
            "max_height": null,
            "max_width": null,
            "min_height": null,
            "min_width": null,
            "object_fit": null,
            "object_position": null,
            "order": null,
            "overflow": null,
            "overflow_x": null,
            "overflow_y": null,
            "padding": null,
            "right": null,
            "top": null,
            "visibility": null,
            "width": null
          }
        },
        "b06ea633f6c643a3905d87c31033b028": {
          "model_module": "@jupyter-widgets/controls",
          "model_name": "ProgressStyleModel",
          "model_module_version": "1.5.0",
          "state": {
            "_model_module": "@jupyter-widgets/controls",
            "_model_module_version": "1.5.0",
            "_model_name": "ProgressStyleModel",
            "_view_count": null,
            "_view_module": "@jupyter-widgets/base",
            "_view_module_version": "1.2.0",
            "_view_name": "StyleView",
            "bar_color": null,
            "description_width": ""
          }
        },
        "50cf20c698324ee6b5f907aaf7fc3f5d": {
          "model_module": "@jupyter-widgets/base",
          "model_name": "LayoutModel",
          "model_module_version": "1.2.0",
          "state": {
            "_model_module": "@jupyter-widgets/base",
            "_model_module_version": "1.2.0",
            "_model_name": "LayoutModel",
            "_view_count": null,
            "_view_module": "@jupyter-widgets/base",
            "_view_module_version": "1.2.0",
            "_view_name": "LayoutView",
            "align_content": null,
            "align_items": null,
            "align_self": null,
            "border": null,
            "bottom": null,
            "display": null,
            "flex": null,
            "flex_flow": null,
            "grid_area": null,
            "grid_auto_columns": null,
            "grid_auto_flow": null,
            "grid_auto_rows": null,
            "grid_column": null,
            "grid_gap": null,
            "grid_row": null,
            "grid_template_areas": null,
            "grid_template_columns": null,
            "grid_template_rows": null,
            "height": null,
            "justify_content": null,
            "justify_items": null,
            "left": null,
            "margin": null,
            "max_height": null,
            "max_width": null,
            "min_height": null,
            "min_width": null,
            "object_fit": null,
            "object_position": null,
            "order": null,
            "overflow": null,
            "overflow_x": null,
            "overflow_y": null,
            "padding": null,
            "right": null,
            "top": null,
            "visibility": null,
            "width": null
          }
        },
        "ad2ae63242ec410d8de97f160d891ec9": {
          "model_module": "@jupyter-widgets/controls",
          "model_name": "DescriptionStyleModel",
          "model_module_version": "1.5.0",
          "state": {
            "_model_module": "@jupyter-widgets/controls",
            "_model_module_version": "1.5.0",
            "_model_name": "DescriptionStyleModel",
            "_view_count": null,
            "_view_module": "@jupyter-widgets/base",
            "_view_module_version": "1.2.0",
            "_view_name": "StyleView",
            "description_width": ""
          }
        }
      }
    }
  },
  "nbformat": 4,
  "nbformat_minor": 0
}