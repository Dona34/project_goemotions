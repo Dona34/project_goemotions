{
  "cells": [
    {
      "cell_type": "markdown",
      "source": [
        "# Mini-project\n",
        "Alexandra Mille-Egea\n",
        "\n",
        "Goemotions dataset"
      ],
      "metadata": {
        "id": "XFRKMdQ6Mx_K"
      }
    },
    {
      "cell_type": "markdown",
      "metadata": {
        "id": "BPvidksKMG-q"
      },
      "source": [
        "https://www.tensorflow.org/datasets/catalog/goemotions"
      ]
    },
    {
      "cell_type": "markdown",
      "metadata": {
        "id": "zX4Kg8DUTKWO"
      },
      "source": [
        "# Imports"
      ]
    },
    {
      "cell_type": "code",
      "execution_count": 1,
      "metadata": {
        "id": "XYYDvoskkE61"
      },
      "outputs": [],
      "source": [
        "%matplotlib inline\n",
        "#!pip install tensorflow\n",
        "import json\n",
        "import tensorflow as tf\n",
        "import tensorflow_datasets as tfds\n",
        "from tensorflow import keras\n",
        "import pandas as pd \n",
        "import numpy as np\n",
        "import matplotlib.pyplot as plt\n",
        "import seaborn as sns\n",
        "from sklearn import preprocessing\n",
        "from sklearn.metrics import f1_score\n",
        "from sklearn.metrics import classification_report\n",
        "\n",
        "from tensorflow.keras.preprocessing.text import Tokenizer\n",
        "from tensorflow.keras.preprocessing.sequence import pad_sequences"
      ]
    },
    {
      "cell_type": "markdown",
      "metadata": {
        "id": "I8D3K2NBbfIo"
      },
      "source": [
        "# Hyperparameters"
      ]
    },
    {
      "cell_type": "code",
      "execution_count": 2,
      "metadata": {
        "id": "0eJSTTYnkJQd"
      },
      "outputs": [],
      "source": [
        "vocab_size = 10000\n",
        "embedding_dim = 16\n",
        "max_length = 100\n",
        "trunc_type='post'\n",
        "padding_type='post'\n",
        "oov_tok = \"<OOV>\"\n",
        "training_size = 20000"
      ]
    },
    {
      "cell_type": "markdown",
      "metadata": {
        "id": "Rj1x9yIrbfIr"
      },
      "source": [
        "# Load data"
      ]
    },
    {
      "cell_type": "code",
      "execution_count": 3,
      "metadata": {
        "colab": {
          "base_uri": "https://localhost:8080/"
        },
        "id": "oaLaaqhNkUPd",
        "outputId": "7e702842-0a3e-4356-f016-083ccba22b8f"
      },
      "outputs": [
        {
          "output_type": "stream",
          "name": "stdout",
          "text": [
            "tfds.core.DatasetInfo(\n",
            "    name='goemotions',\n",
            "    full_name='goemotions/0.1.0',\n",
            "    description=\"\"\"\n",
            "    The GoEmotions dataset contains 58k carefully curated Reddit comments labeled\n",
            "    for 27 emotion categories or Neutral. The emotion categories are admiration,\n",
            "    amusement, anger, annoyance, approval, caring, confusion, curiosity, desire,\n",
            "    disappointment, disapproval, disgust, embarrassment, excitement, fear,\n",
            "    gratitude, grief, joy, love, nervousness, optimism, pride, realization, relief,\n",
            "    remorse, sadness, surprise.\n",
            "    \"\"\",\n",
            "    homepage='https://github.com/google-research/google-research/tree/master/goemotions',\n",
            "    data_path='~/tensorflow_datasets/goemotions/0.1.0',\n",
            "    file_format=tfrecord,\n",
            "    download_size=4.19 MiB,\n",
            "    dataset_size=32.25 MiB,\n",
            "    features=FeaturesDict({\n",
            "        'admiration': tf.bool,\n",
            "        'amusement': tf.bool,\n",
            "        'anger': tf.bool,\n",
            "        'annoyance': tf.bool,\n",
            "        'approval': tf.bool,\n",
            "        'caring': tf.bool,\n",
            "        'comment_text': Text(shape=(), dtype=tf.string),\n",
            "        'confusion': tf.bool,\n",
            "        'curiosity': tf.bool,\n",
            "        'desire': tf.bool,\n",
            "        'disappointment': tf.bool,\n",
            "        'disapproval': tf.bool,\n",
            "        'disgust': tf.bool,\n",
            "        'embarrassment': tf.bool,\n",
            "        'excitement': tf.bool,\n",
            "        'fear': tf.bool,\n",
            "        'gratitude': tf.bool,\n",
            "        'grief': tf.bool,\n",
            "        'joy': tf.bool,\n",
            "        'love': tf.bool,\n",
            "        'nervousness': tf.bool,\n",
            "        'neutral': tf.bool,\n",
            "        'optimism': tf.bool,\n",
            "        'pride': tf.bool,\n",
            "        'realization': tf.bool,\n",
            "        'relief': tf.bool,\n",
            "        'remorse': tf.bool,\n",
            "        'sadness': tf.bool,\n",
            "        'surprise': tf.bool,\n",
            "    }),\n",
            "    supervised_keys=None,\n",
            "    disable_shuffling=False,\n",
            "    splits={\n",
            "        'test': <SplitInfo num_examples=5427, num_shards=1>,\n",
            "        'train': <SplitInfo num_examples=43410, num_shards=1>,\n",
            "        'validation': <SplitInfo num_examples=5426, num_shards=1>,\n",
            "    },\n",
            "    citation=\"\"\"@inproceedings{demszky-2020-goemotions,\n",
            "        title = \"{G}o{E}motions: A Dataset of Fine-Grained Emotions\",\n",
            "        author = \"Demszky, Dorottya  and\n",
            "          Movshovitz-Attias, Dana  and\n",
            "          Ko, Jeongwoo  and\n",
            "          Cowen, Alan  and\n",
            "          Nemade, Gaurav  and\n",
            "          Ravi, Sujith\",\n",
            "        booktitle = \"Proceedings of the 58th Annual Meeting of the Association for Computational Linguistics\",\n",
            "        month = jul,\n",
            "        year = \"2020\",\n",
            "        address = \"Online\",\n",
            "        publisher = \"Association for Computational Linguistics\",\n",
            "        url = \"https://www.aclweb.org/anthology/2020.acl-main.372\",\n",
            "        pages = \"4040--4054\",\n",
            "    }\"\"\",\n",
            ")\n"
          ]
        }
      ],
      "source": [
        "data, info = tfds.load(\"goemotions\", with_info=True, split='train')\n",
        "print(info)"
      ]
    },
    {
      "cell_type": "code",
      "execution_count": 4,
      "metadata": {
        "id": "XxVGPq-FixlW"
      },
      "outputs": [],
      "source": [
        "train = !wget -P data/full_dataset/ https://storage.googleapis.com/gresearch/goemotions/data/full_dataset/goemotions_1.csv\n",
        "test = !wget -P data/full_dataset/ https://storage.googleapis.com/gresearch/goemotions/data/full_dataset/goemotions_2.csv\n",
        "evaluate = !wget -P data/full_dataset/ https://storage.googleapis.com/gresearch/goemotions/data/full_dataset/goemotions_3.csv"
      ]
    },
    {
      "cell_type": "code",
      "execution_count": 5,
      "metadata": {
        "id": "45iPDUDNjW8T"
      },
      "outputs": [],
      "source": [
        "train = pd.read_csv(\"https://storage.googleapis.com/gresearch/goemotions/data/full_dataset/goemotions_1.csv\")\n",
        "test = pd.read_csv(\"https://storage.googleapis.com/gresearch/goemotions/data/full_dataset/goemotions_2.csv\")\n",
        "evaluate = pd.read_csv(\"https://storage.googleapis.com/gresearch/goemotions/data/full_dataset/goemotions_3.csv\")"
      ]
    },
    {
      "cell_type": "code",
      "execution_count": 6,
      "metadata": {
        "colab": {
          "base_uri": "https://localhost:8080/",
          "height": 456
        },
        "id": "XSi4Niqjk6_N",
        "outputId": "3db43dd3-5951-4140-a2b9-7f4a83d12f1f"
      },
      "outputs": [
        {
          "output_type": "execute_result",
          "data": {
            "text/plain": [
              "                                                text       id  \\\n",
              "0  Worst ending ever! I won't spoil it but this o...  eee021b   \n",
              "1                     Happy cake day u/sneakpeekbot!  ed00f1z   \n",
              "2  Was he rejected because of his methodology or ...  ee1h5v1   \n",
              "3                                    thanks, I agree  eemi935   \n",
              "4                    Why would you doubt it dumbass?  eduun99   \n",
              "\n",
              "            author    subreddit    link_id   parent_id   created_utc  \\\n",
              "0       tribaltrak       movies  t3_agxbsx   t3_agxbsx  1.547847e+09   \n",
              "1     InfernicFuse  danganronpa  t3_abajdo  t1_eczoocj  1.546328e+09   \n",
              "2  OssToYouGoodSir     medicine  t3_aflo7s  t1_ee0v0vv  1.547464e+09   \n",
              "3   PMOFreeForever        NoFap  t3_ai7h09  t1_eelu54r  1.548088e+09   \n",
              "4      ugliestman1       Tinder  t3_aejwne  t1_edumeal  1.547255e+09   \n",
              "\n",
              "   rater_id  example_very_unclear  admiration  ...  love  nervousness  \\\n",
              "0        42                 False           0  ...     0            0   \n",
              "1        24                 False           0  ...     0            0   \n",
              "2        77                 False           0  ...     0            0   \n",
              "3        46                 False           0  ...     0            0   \n",
              "4        36                 False           0  ...     0            0   \n",
              "\n",
              "   optimism  pride  realization  relief  remorse  sadness  surprise  neutral  \n",
              "0         0      0            0       0        0        0         0        0  \n",
              "1         0      0            0       0        0        0         0        0  \n",
              "2         0      0            0       0        0        0         0        0  \n",
              "3         0      0            0       0        0        0         0        0  \n",
              "4         0      0            0       0        0        0         0        0  \n",
              "\n",
              "[5 rows x 37 columns]"
            ],
            "text/html": [
              "\n",
              "  <div id=\"df-d3ada136-cc00-4525-a3b1-72eb947196dd\">\n",
              "    <div class=\"colab-df-container\">\n",
              "      <div>\n",
              "<style scoped>\n",
              "    .dataframe tbody tr th:only-of-type {\n",
              "        vertical-align: middle;\n",
              "    }\n",
              "\n",
              "    .dataframe tbody tr th {\n",
              "        vertical-align: top;\n",
              "    }\n",
              "\n",
              "    .dataframe thead th {\n",
              "        text-align: right;\n",
              "    }\n",
              "</style>\n",
              "<table border=\"1\" class=\"dataframe\">\n",
              "  <thead>\n",
              "    <tr style=\"text-align: right;\">\n",
              "      <th></th>\n",
              "      <th>text</th>\n",
              "      <th>id</th>\n",
              "      <th>author</th>\n",
              "      <th>subreddit</th>\n",
              "      <th>link_id</th>\n",
              "      <th>parent_id</th>\n",
              "      <th>created_utc</th>\n",
              "      <th>rater_id</th>\n",
              "      <th>example_very_unclear</th>\n",
              "      <th>admiration</th>\n",
              "      <th>...</th>\n",
              "      <th>love</th>\n",
              "      <th>nervousness</th>\n",
              "      <th>optimism</th>\n",
              "      <th>pride</th>\n",
              "      <th>realization</th>\n",
              "      <th>relief</th>\n",
              "      <th>remorse</th>\n",
              "      <th>sadness</th>\n",
              "      <th>surprise</th>\n",
              "      <th>neutral</th>\n",
              "    </tr>\n",
              "  </thead>\n",
              "  <tbody>\n",
              "    <tr>\n",
              "      <th>0</th>\n",
              "      <td>Worst ending ever! I won't spoil it but this o...</td>\n",
              "      <td>eee021b</td>\n",
              "      <td>tribaltrak</td>\n",
              "      <td>movies</td>\n",
              "      <td>t3_agxbsx</td>\n",
              "      <td>t3_agxbsx</td>\n",
              "      <td>1.547847e+09</td>\n",
              "      <td>42</td>\n",
              "      <td>False</td>\n",
              "      <td>0</td>\n",
              "      <td>...</td>\n",
              "      <td>0</td>\n",
              "      <td>0</td>\n",
              "      <td>0</td>\n",
              "      <td>0</td>\n",
              "      <td>0</td>\n",
              "      <td>0</td>\n",
              "      <td>0</td>\n",
              "      <td>0</td>\n",
              "      <td>0</td>\n",
              "      <td>0</td>\n",
              "    </tr>\n",
              "    <tr>\n",
              "      <th>1</th>\n",
              "      <td>Happy cake day u/sneakpeekbot!</td>\n",
              "      <td>ed00f1z</td>\n",
              "      <td>InfernicFuse</td>\n",
              "      <td>danganronpa</td>\n",
              "      <td>t3_abajdo</td>\n",
              "      <td>t1_eczoocj</td>\n",
              "      <td>1.546328e+09</td>\n",
              "      <td>24</td>\n",
              "      <td>False</td>\n",
              "      <td>0</td>\n",
              "      <td>...</td>\n",
              "      <td>0</td>\n",
              "      <td>0</td>\n",
              "      <td>0</td>\n",
              "      <td>0</td>\n",
              "      <td>0</td>\n",
              "      <td>0</td>\n",
              "      <td>0</td>\n",
              "      <td>0</td>\n",
              "      <td>0</td>\n",
              "      <td>0</td>\n",
              "    </tr>\n",
              "    <tr>\n",
              "      <th>2</th>\n",
              "      <td>Was he rejected because of his methodology or ...</td>\n",
              "      <td>ee1h5v1</td>\n",
              "      <td>OssToYouGoodSir</td>\n",
              "      <td>medicine</td>\n",
              "      <td>t3_aflo7s</td>\n",
              "      <td>t1_ee0v0vv</td>\n",
              "      <td>1.547464e+09</td>\n",
              "      <td>77</td>\n",
              "      <td>False</td>\n",
              "      <td>0</td>\n",
              "      <td>...</td>\n",
              "      <td>0</td>\n",
              "      <td>0</td>\n",
              "      <td>0</td>\n",
              "      <td>0</td>\n",
              "      <td>0</td>\n",
              "      <td>0</td>\n",
              "      <td>0</td>\n",
              "      <td>0</td>\n",
              "      <td>0</td>\n",
              "      <td>0</td>\n",
              "    </tr>\n",
              "    <tr>\n",
              "      <th>3</th>\n",
              "      <td>thanks, I agree</td>\n",
              "      <td>eemi935</td>\n",
              "      <td>PMOFreeForever</td>\n",
              "      <td>NoFap</td>\n",
              "      <td>t3_ai7h09</td>\n",
              "      <td>t1_eelu54r</td>\n",
              "      <td>1.548088e+09</td>\n",
              "      <td>46</td>\n",
              "      <td>False</td>\n",
              "      <td>0</td>\n",
              "      <td>...</td>\n",
              "      <td>0</td>\n",
              "      <td>0</td>\n",
              "      <td>0</td>\n",
              "      <td>0</td>\n",
              "      <td>0</td>\n",
              "      <td>0</td>\n",
              "      <td>0</td>\n",
              "      <td>0</td>\n",
              "      <td>0</td>\n",
              "      <td>0</td>\n",
              "    </tr>\n",
              "    <tr>\n",
              "      <th>4</th>\n",
              "      <td>Why would you doubt it dumbass?</td>\n",
              "      <td>eduun99</td>\n",
              "      <td>ugliestman1</td>\n",
              "      <td>Tinder</td>\n",
              "      <td>t3_aejwne</td>\n",
              "      <td>t1_edumeal</td>\n",
              "      <td>1.547255e+09</td>\n",
              "      <td>36</td>\n",
              "      <td>False</td>\n",
              "      <td>0</td>\n",
              "      <td>...</td>\n",
              "      <td>0</td>\n",
              "      <td>0</td>\n",
              "      <td>0</td>\n",
              "      <td>0</td>\n",
              "      <td>0</td>\n",
              "      <td>0</td>\n",
              "      <td>0</td>\n",
              "      <td>0</td>\n",
              "      <td>0</td>\n",
              "      <td>0</td>\n",
              "    </tr>\n",
              "  </tbody>\n",
              "</table>\n",
              "<p>5 rows × 37 columns</p>\n",
              "</div>\n",
              "      <button class=\"colab-df-convert\" onclick=\"convertToInteractive('df-d3ada136-cc00-4525-a3b1-72eb947196dd')\"\n",
              "              title=\"Convert this dataframe to an interactive table.\"\n",
              "              style=\"display:none;\">\n",
              "        \n",
              "  <svg xmlns=\"http://www.w3.org/2000/svg\" height=\"24px\"viewBox=\"0 0 24 24\"\n",
              "       width=\"24px\">\n",
              "    <path d=\"M0 0h24v24H0V0z\" fill=\"none\"/>\n",
              "    <path d=\"M18.56 5.44l.94 2.06.94-2.06 2.06-.94-2.06-.94-.94-2.06-.94 2.06-2.06.94zm-11 1L8.5 8.5l.94-2.06 2.06-.94-2.06-.94L8.5 2.5l-.94 2.06-2.06.94zm10 10l.94 2.06.94-2.06 2.06-.94-2.06-.94-.94-2.06-.94 2.06-2.06.94z\"/><path d=\"M17.41 7.96l-1.37-1.37c-.4-.4-.92-.59-1.43-.59-.52 0-1.04.2-1.43.59L10.3 9.45l-7.72 7.72c-.78.78-.78 2.05 0 2.83L4 21.41c.39.39.9.59 1.41.59.51 0 1.02-.2 1.41-.59l7.78-7.78 2.81-2.81c.8-.78.8-2.07 0-2.86zM5.41 20L4 18.59l7.72-7.72 1.47 1.35L5.41 20z\"/>\n",
              "  </svg>\n",
              "      </button>\n",
              "      \n",
              "  <style>\n",
              "    .colab-df-container {\n",
              "      display:flex;\n",
              "      flex-wrap:wrap;\n",
              "      gap: 12px;\n",
              "    }\n",
              "\n",
              "    .colab-df-convert {\n",
              "      background-color: #E8F0FE;\n",
              "      border: none;\n",
              "      border-radius: 50%;\n",
              "      cursor: pointer;\n",
              "      display: none;\n",
              "      fill: #1967D2;\n",
              "      height: 32px;\n",
              "      padding: 0 0 0 0;\n",
              "      width: 32px;\n",
              "    }\n",
              "\n",
              "    .colab-df-convert:hover {\n",
              "      background-color: #E2EBFA;\n",
              "      box-shadow: 0px 1px 2px rgba(60, 64, 67, 0.3), 0px 1px 3px 1px rgba(60, 64, 67, 0.15);\n",
              "      fill: #174EA6;\n",
              "    }\n",
              "\n",
              "    [theme=dark] .colab-df-convert {\n",
              "      background-color: #3B4455;\n",
              "      fill: #D2E3FC;\n",
              "    }\n",
              "\n",
              "    [theme=dark] .colab-df-convert:hover {\n",
              "      background-color: #434B5C;\n",
              "      box-shadow: 0px 1px 3px 1px rgba(0, 0, 0, 0.15);\n",
              "      filter: drop-shadow(0px 1px 2px rgba(0, 0, 0, 0.3));\n",
              "      fill: #FFFFFF;\n",
              "    }\n",
              "  </style>\n",
              "\n",
              "      <script>\n",
              "        const buttonEl =\n",
              "          document.querySelector('#df-d3ada136-cc00-4525-a3b1-72eb947196dd button.colab-df-convert');\n",
              "        buttonEl.style.display =\n",
              "          google.colab.kernel.accessAllowed ? 'block' : 'none';\n",
              "\n",
              "        async function convertToInteractive(key) {\n",
              "          const element = document.querySelector('#df-d3ada136-cc00-4525-a3b1-72eb947196dd');\n",
              "          const dataTable =\n",
              "            await google.colab.kernel.invokeFunction('convertToInteractive',\n",
              "                                                     [key], {});\n",
              "          if (!dataTable) return;\n",
              "\n",
              "          const docLinkHtml = 'Like what you see? Visit the ' +\n",
              "            '<a target=\"_blank\" href=https://colab.research.google.com/notebooks/data_table.ipynb>data table notebook</a>'\n",
              "            + ' to learn more about interactive tables.';\n",
              "          element.innerHTML = '';\n",
              "          dataTable['output_type'] = 'display_data';\n",
              "          await google.colab.output.renderOutput(dataTable, element);\n",
              "          const docLink = document.createElement('div');\n",
              "          docLink.innerHTML = docLinkHtml;\n",
              "          element.appendChild(docLink);\n",
              "        }\n",
              "      </script>\n",
              "    </div>\n",
              "  </div>\n",
              "  "
            ]
          },
          "metadata": {},
          "execution_count": 6
        }
      ],
      "source": [
        "train.head(5)\n",
        "test.head()\n",
        "evaluate.head()"
      ]
    },
    {
      "cell_type": "markdown",
      "source": [
        "# Visualisation and cleaning"
      ],
      "metadata": {
        "id": "-JcZt0tUMSfG"
      }
    },
    {
      "cell_type": "code",
      "execution_count": 7,
      "metadata": {
        "id": "I4K2huItvu0V"
      },
      "outputs": [],
      "source": [
        "# clean the dataset\n",
        "\n",
        "train = train.drop(['id','author','subreddit', 'link_id', 'parent_id', 'created_utc','rater_id','example_very_unclear'], axis = 1)\n",
        "test =test.drop(['id','author','subreddit', 'link_id', 'parent_id', 'created_utc','rater_id','example_very_unclear'], axis = 1)\n",
        "evaluate =evaluate.drop(['id','author','subreddit', 'link_id', 'parent_id', 'created_utc','rater_id','example_very_unclear'], axis = 1)\n"
      ]
    },
    {
      "cell_type": "code",
      "execution_count": 8,
      "metadata": {
        "colab": {
          "base_uri": "https://localhost:8080/",
          "height": 676
        },
        "id": "vorb7euyh1sk",
        "outputId": "9ddc4242-c4b0-4722-e3a9-b06ae51e0d77"
      },
      "outputs": [
        {
          "output_type": "display_data",
          "data": {
            "text/plain": [
              "<Figure size 1080x720 with 1 Axes>"
            ],
            "image/png": "[encoded data removed]"
          },
          "metadata": {
            "needs_background": "light"
          }
        }
      ],
      "source": [
        "# plot the number of appearances of each emotion in the train dataset\n",
        "\n",
        "fig, ax = plt.subplots(figsize=(15,10))\n",
        "emotions = train\n",
        "emotions = emotions.drop(['text'], axis = 1)\n",
        "emotions.sum(axis = 0, skipna = True).sort_values(ascending=False).plot(kind='bar', ax=ax)\n",
        "plt.title(\"train emotions\")\n",
        "plt.show()"
      ]
    },
    {
      "cell_type": "code",
      "execution_count": 9,
      "metadata": {
        "colab": {
          "base_uri": "https://localhost:8080/",
          "height": 676
        },
        "id": "pghnyZzNiJF2",
        "outputId": "5bd5d30d-361a-43ae-9ab0-4abe9010ab91"
      },
      "outputs": [
        {
          "output_type": "display_data",
          "data": {
            "text/plain": [
              "<Figure size 1080x720 with 1 Axes>"
            ],
            "image/png": "[encoded data removed]"
          },
          "metadata": {
            "needs_background": "light"
          }
        }
      ],
      "source": [
        "fig, ax = plt.subplots(figsize=(15,10))\n",
        "emotions = test\n",
        "emotions = emotions.drop(['text'], axis = 1)\n",
        "emotions.sum(axis = 0, skipna = True).sort_values(ascending=False).plot(kind='bar', ax=ax)\n",
        "plt.title(\"test emotions\")\n",
        "plt.show()"
      ]
    },
    {
      "cell_type": "markdown",
      "metadata": {
        "id": "vem1EIyYiOZ-"
      },
      "source": [
        "We can already see that \"neutral\" emotion isn't present in the train dataset, and is too much there in the test dataset. In order to improve the predictions, we will remove it. Also, the dataset is not balanced through all categories. We can improve it. Let see first our model baseline below."
      ]
    },
    {
      "cell_type": "code",
      "execution_count": 10,
      "metadata": {
        "colab": {
          "base_uri": "https://localhost:8080/"
        },
        "id": "ZrgrjJ0ihYAm",
        "outputId": "8d67c98a-d928-4a2f-f0e9-e87cfe18b03c"
      },
      "outputs": [
        {
          "output_type": "execute_result",
          "data": {
            "text/plain": [
              "(70000, 28)"
            ]
          },
          "metadata": {},
          "execution_count": 10
        }
      ],
      "source": [
        "# train\n",
        "labels_train = train.drop(['text'], axis = 1)\n",
        "labels_train = np.array(labels_train)\n",
        "# validation\n",
        "labels_val = evaluate.drop(['text'], axis = 1)\n",
        "labels_val = np.array(labels_val)\n",
        "# test\n",
        "labels_test = test.drop(['text'], axis = 1)\n",
        "labels_test = np.array(labels_test)\n",
        "labels_test.shape"
      ]
    },
    {
      "cell_type": "code",
      "execution_count": 11,
      "metadata": {
        "id": "NEfEgU0flVGj"
      },
      "outputs": [],
      "source": [
        "# tokenize : breaking the sentences into word parts\n",
        "# create an element token\n",
        "tokenizer = Tokenizer(num_words = vocab_size, oov_token=oov_tok)\n",
        "# fit it on train data\n",
        "tokenizer.fit_on_texts(train[\"text\"])\n",
        "\n",
        "# tokenize the text with the same size\n",
        "sequences_training_words = tokenizer.texts_to_sequences(train[\"text\"])\n",
        "padded_train = pad_sequences(sequences_training_words,maxlen=max_length, truncating=trunc_type)\n",
        "padded_train = np.array(padded_train)\n",
        "\n",
        "# validation\n",
        "sequences_val_words = tokenizer.texts_to_sequences(evaluate[\"text\"])\n",
        "padded_val = pad_sequences(sequences_val_words,maxlen=max_length, truncating=trunc_type)\n",
        "padded_val = np.array(padded_val)\n",
        "\n",
        "# test\n",
        "sequences_testing_words = tokenizer.texts_to_sequences(test[\"text\"])\n",
        "padded_test = pad_sequences(sequences_testing_words,maxlen=max_length, truncating=trunc_type)\n",
        "padded_test = np.array(padded_test)"
      ]
    },
    {
      "cell_type": "markdown",
      "metadata": {
        "id": "q8GjCl8cbfIv"
      },
      "source": [
        "# Model Training"
      ]
    },
    {
      "cell_type": "code",
      "execution_count": 12,
      "metadata": {
        "colab": {
          "base_uri": "https://localhost:8080/"
        },
        "id": "lAAk7NRmzi4j",
        "outputId": "c4b9265a-691c-4dc9-89c0-68d41816d3ff"
      },
      "outputs": [
        {
          "output_type": "execute_result",
          "data": {
            "text/plain": [
              "7000000"
            ]
          },
          "metadata": {},
          "execution_count": 12
        }
      ],
      "source": [
        "padded_train.size"
      ]
    },
    {
      "cell_type": "code",
      "execution_count": 13,
      "metadata": {
        "id": "FufaT4vlkiDE"
      },
      "outputs": [],
      "source": [
        "model = tf.keras.Sequential([\n",
        "    tf.keras.layers.Embedding(vocab_size, embedding_dim, input_length=max_length),\n",
        "    tf.keras.layers.GlobalAveragePooling1D(),\n",
        "    tf.keras.layers.Dense(24, activation='relu'),\n",
        "    tf.keras.layers.Dense(28, activation='softmax')\n",
        "])\n",
        "model.compile(loss='binary_crossentropy',optimizer='adam',metrics=['accuracy'])"
      ]
    },
    {
      "cell_type": "code",
      "execution_count": 14,
      "metadata": {
        "colab": {
          "base_uri": "https://localhost:8080/"
        },
        "id": "XfDt1hmYkiys",
        "outputId": "5cbccc55-995f-4d6b-f769-f5ade317183f"
      },
      "outputs": [
        {
          "output_type": "stream",
          "name": "stdout",
          "text": [
            "Model: \"sequential\"\n",
            "_________________________________________________________________\n",
            " Layer (type)                Output Shape              Param #   \n",
            "=================================================================\n",
            " embedding (Embedding)       (None, 100, 16)           160000    \n",
            "                                                                 \n",
            " global_average_pooling1d (G  (None, 16)               0         \n",
            " lobalAveragePooling1D)                                          \n",
            "                                                                 \n",
            " dense (Dense)               (None, 24)                408       \n",
            "                                                                 \n",
            " dense_1 (Dense)             (None, 28)                700       \n",
            "                                                                 \n",
            "=================================================================\n",
            "Total params: 161,108\n",
            "Trainable params: 161,108\n",
            "Non-trainable params: 0\n",
            "_________________________________________________________________\n"
          ]
        }
      ],
      "source": [
        "model.summary()"
      ]
    },
    {
      "cell_type": "code",
      "execution_count": 15,
      "metadata": {
        "colab": {
          "base_uri": "https://localhost:8080/"
        },
        "id": "2DTKQFf1kkyc",
        "outputId": "069dc999-9d6c-4ced-b924-739e3cc67e98"
      },
      "outputs": [
        {
          "output_type": "stream",
          "name": "stdout",
          "text": [
            "Epoch 1/15\n",
            "2188/2188 - 13s - loss: 0.1793 - accuracy: 0.2494 - val_loss: 0.1566 - val_accuracy: 0.2614 - 13s/epoch - 6ms/step\n",
            "Epoch 2/15\n",
            "2188/2188 - 10s - loss: 0.1562 - accuracy: 0.2632 - val_loss: 0.1561 - val_accuracy: 0.2614 - 10s/epoch - 5ms/step\n",
            "Epoch 3/15\n",
            "2188/2188 - 12s - loss: 0.1555 - accuracy: 0.2632 - val_loss: 0.1550 - val_accuracy: 0.2614 - 12s/epoch - 5ms/step\n",
            "Epoch 4/15\n",
            "2188/2188 - 12s - loss: 0.1516 - accuracy: 0.2806 - val_loss: 0.1495 - val_accuracy: 0.2938 - 12s/epoch - 5ms/step\n",
            "Epoch 5/15\n",
            "2188/2188 - 10s - loss: 0.1471 - accuracy: 0.2997 - val_loss: 0.1472 - val_accuracy: 0.2980 - 10s/epoch - 5ms/step\n",
            "Epoch 6/15\n",
            "2188/2188 - 10s - loss: 0.1439 - accuracy: 0.3106 - val_loss: 0.1438 - val_accuracy: 0.3133 - 10s/epoch - 5ms/step\n",
            "Epoch 7/15\n",
            "2188/2188 - 10s - loss: 0.1403 - accuracy: 0.3248 - val_loss: 0.1411 - val_accuracy: 0.3271 - 10s/epoch - 5ms/step\n",
            "Epoch 8/15\n",
            "2188/2188 - 10s - loss: 0.1368 - accuracy: 0.3400 - val_loss: 0.1388 - val_accuracy: 0.3401 - 10s/epoch - 5ms/step\n",
            "Epoch 9/15\n",
            "2188/2188 - 13s - loss: 0.1335 - accuracy: 0.3532 - val_loss: 0.1368 - val_accuracy: 0.3441 - 13s/epoch - 6ms/step\n",
            "Epoch 10/15\n",
            "2188/2188 - 12s - loss: 0.1310 - accuracy: 0.3625 - val_loss: 0.1353 - val_accuracy: 0.3497 - 12s/epoch - 5ms/step\n",
            "Epoch 11/15\n",
            "2188/2188 - 11s - loss: 0.1289 - accuracy: 0.3698 - val_loss: 0.1344 - val_accuracy: 0.3531 - 11s/epoch - 5ms/step\n",
            "Epoch 12/15\n",
            "2188/2188 - 11s - loss: 0.1270 - accuracy: 0.3782 - val_loss: 0.1339 - val_accuracy: 0.3560 - 11s/epoch - 5ms/step\n",
            "Epoch 13/15\n",
            "2188/2188 - 10s - loss: 0.1252 - accuracy: 0.3862 - val_loss: 0.1331 - val_accuracy: 0.3576 - 10s/epoch - 5ms/step\n",
            "Epoch 14/15\n",
            "2188/2188 - 11s - loss: 0.1236 - accuracy: 0.3926 - val_loss: 0.1327 - val_accuracy: 0.3611 - 11s/epoch - 5ms/step\n",
            "Epoch 15/15\n",
            "2188/2188 - 11s - loss: 0.1221 - accuracy: 0.3989 - val_loss: 0.1317 - val_accuracy: 0.3637 - 11s/epoch - 5ms/step\n"
          ]
        }
      ],
      "source": [
        "num_epochs = 15\n",
        "history = model.fit(padded_train, labels_train, epochs=num_epochs, validation_data=(padded_val, labels_val), verbose=2)"
      ]
    },
    {
      "cell_type": "code",
      "execution_count": 16,
      "metadata": {
        "colab": {
          "base_uri": "https://localhost:8080/",
          "height": 541
        },
        "id": "2HYfBKXjkmU8",
        "outputId": "7ea3dfe4-52e0-4be3-93f2-81aea2baf4b5"
      },
      "outputs": [
        {
          "output_type": "display_data",
          "data": {
            "text/plain": [
              "<Figure size 432x288 with 1 Axes>"
            ],
            "image/png": "[encoded data removed]"
          },
          "metadata": {
            "needs_background": "light"
          }
        },
        {
          "output_type": "display_data",
          "data": {
            "text/plain": [
              "<Figure size 432x288 with 1 Axes>"
            ],
            "image/png": "[encoded data removed]"
          },
          "metadata": {
            "needs_background": "light"
          }
        }
      ],
      "source": [
        "import matplotlib.pyplot as plt\n",
        "\n",
        "def plot_graphs(history, string):\n",
        "  plt.plot(history.history[string])\n",
        "  plt.plot(history.history['val_'+string])\n",
        "  plt.xlabel(\"Epochs\")\n",
        "  plt.ylabel(string)\n",
        "  plt.legend([string, 'val_'+string])\n",
        "  plt.show()\n",
        "  \n",
        "plot_graphs(history, \"accuracy\")\n",
        "plot_graphs(history, \"loss\")"
      ]
    },
    {
      "cell_type": "code",
      "execution_count": 17,
      "metadata": {
        "colab": {
          "base_uri": "https://localhost:8080/"
        },
        "id": "cG8-ArY-qDcz",
        "outputId": "3fba452b-13fc-431d-a69e-5fa804d0553b"
      },
      "outputs": [
        {
          "output_type": "stream",
          "name": "stdout",
          "text": [
            "1/1 [==============================] - 0s 72ms/step\n"
          ]
        }
      ],
      "source": [
        "sentence = [\"Wow it is amazing what you've done\"]\n",
        "sequences = tokenizer.texts_to_sequences(sentence)\n",
        "padded = pad_sequences(sequences, maxlen=max_length, padding=padding_type, truncating=trunc_type)\n",
        "prediction = model.predict(padded)"
      ]
    },
    {
      "cell_type": "code",
      "execution_count": 18,
      "metadata": {
        "colab": {
          "base_uri": "https://localhost:8080/"
        },
        "id": "RY9ioAp_5fU-",
        "outputId": "a56fcfd7-a184-4672-e185-5aea870d57bf"
      },
      "outputs": [
        {
          "output_type": "execute_result",
          "data": {
            "text/plain": [
              "array([[ True, False, False, False, False, False, False, False, False,\n",
              "        False, False, False, False, False, False, False, False, False,\n",
              "        False, False, False, False, False, False, False, False, False,\n",
              "        False]])"
            ]
          },
          "metadata": {},
          "execution_count": 18
        }
      ],
      "source": [
        "prediction = prediction > 0.5 \n",
        "prediction"
      ]
    },
    {
      "cell_type": "code",
      "source": [
        "test.columns[1]"
      ],
      "metadata": {
        "colab": {
          "base_uri": "https://localhost:8080/",
          "height": 35
        },
        "id": "VxOUZ2QlcUSr",
        "outputId": "26c3b79e-b454-4ead-f8a5-9aabae8405ba"
      },
      "execution_count": 19,
      "outputs": [
        {
          "output_type": "execute_result",
          "data": {
            "text/plain": [
              "'admiration'"
            ],
            "application/vnd.google.colaboratory.intrinsic+json": {
              "type": "string"
            }
          },
          "metadata": {},
          "execution_count": 19
        }
      ]
    },
    {
      "cell_type": "code",
      "execution_count": 20,
      "metadata": {
        "colab": {
          "base_uri": "https://localhost:8080/"
        },
        "id": "DqucAE_rxKtr",
        "outputId": "0d3c43dc-79b5-4d29-a5ca-625610bf855b"
      },
      "outputs": [
        {
          "output_type": "stream",
          "name": "stdout",
          "text": [
            "2188/2188 [==============================] - 3s 1ms/step\n"
          ]
        }
      ],
      "source": [
        "labels_output = model.predict(padded_test)\n"
      ]
    },
    {
      "cell_type": "code",
      "execution_count": 21,
      "metadata": {
        "colab": {
          "base_uri": "https://localhost:8080/"
        },
        "id": "t829C0WMl55y",
        "outputId": "8dd36e8f-a958-4507-8541-f34d759c9f4b"
      },
      "outputs": [
        {
          "output_type": "stream",
          "name": "stdout",
          "text": [
            "Evaluate model on test data\n",
            "547/547 [==============================] - 1s 2ms/step - loss: 0.1322 - accuracy: 0.3618\n",
            "test loss, test acc: [0.13216498494148254, 0.3618285655975342]\n",
            "                precision    recall  f1-score   support\n",
            "\n",
            "    admiration       0.64      0.25      0.36      5773\n",
            "     amusement       0.63      0.34      0.44      3044\n",
            "         anger       0.46      0.01      0.02      2762\n",
            "     annoyance       0.00      0.00      0.00      4557\n",
            "      approval       0.57      0.00      0.00      5785\n",
            "        caring       0.00      0.00      0.00      1985\n",
            "     confusion       0.67      0.01      0.02      2388\n",
            "     curiosity       0.63      0.02      0.04      3190\n",
            "        desire       0.00      0.00      0.00      1245\n",
            "disappointment       0.00      0.00      0.00      2894\n",
            "   disapproval       0.31      0.00      0.00      3798\n",
            "       disgust       0.00      0.00      0.00      1753\n",
            " embarrassment       0.00      0.00      0.00       856\n",
            "    excitement       0.00      0.00      0.00      1879\n",
            "          fear       0.00      0.00      0.00      1067\n",
            "     gratitude       0.88      0.73      0.80      3841\n",
            "         grief       0.00      0.00      0.00       220\n",
            "           joy       0.00      0.00      0.00      2655\n",
            "          love       0.66      0.46      0.54      2697\n",
            "   nervousness       0.00      0.00      0.00       581\n",
            "      optimism       0.69      0.02      0.05      2956\n",
            "         pride       0.00      0.00      0.00       429\n",
            "   realization       0.00      0.00      0.00      2917\n",
            "        relief       0.00      0.00      0.00       440\n",
            "       remorse       0.50      0.01      0.01       839\n",
            "       sadness       0.00      0.00      0.00      2228\n",
            "      surprise       0.75      0.00      0.01      1805\n",
            "       neutral       0.47      0.36      0.41     18259\n",
            "\n",
            "     micro avg       0.57      0.16      0.25     82843\n",
            "     macro avg       0.28      0.08      0.10     82843\n",
            "  weighted avg       0.39      0.16      0.19     82843\n",
            "   samples avg       0.19      0.17      0.18     82843\n",
            "\n"
          ]
        },
        {
          "output_type": "stream",
          "name": "stderr",
          "text": [
            "/usr/local/lib/python3.8/dist-packages/sklearn/metrics/_classification.py:1318: UndefinedMetricWarning: Precision and F-score are ill-defined and being set to 0.0 in labels with no predicted samples. Use `zero_division` parameter to control this behavior.\n",
            "  _warn_prf(average, modifier, msg_start, len(result))\n",
            "/usr/local/lib/python3.8/dist-packages/sklearn/metrics/_classification.py:1318: UndefinedMetricWarning: Precision and F-score are ill-defined and being set to 0.0 in samples with no predicted labels. Use `zero_division` parameter to control this behavior.\n",
            "  _warn_prf(average, modifier, msg_start, len(result))\n",
            "/usr/local/lib/python3.8/dist-packages/sklearn/metrics/_classification.py:1318: UndefinedMetricWarning: Recall and F-score are ill-defined and being set to 0.0 in samples with no true labels. Use `zero_division` parameter to control this behavior.\n",
            "  _warn_prf(average, modifier, msg_start, len(result))\n"
          ]
        }
      ],
      "source": [
        "print(\"Evaluate model on test data\")\n",
        "results = model.evaluate(padded_test, labels_test, batch_size=128)\n",
        "print(\"test loss, test acc:\", results)\n",
        "\n",
        "labels_output = (labels_output > 0.5)\n",
        "\n",
        "print(classification_report(labels_test, y_pred=labels_output, target_names=test.columns[1:]))"
      ]
    },
    {
      "cell_type": "code",
      "source": [
        "# print f1 score for the baseline model\n",
        "labels_output = np.array(labels_output)\n",
        "labels_output = np.argmax(labels_output, axis=1)\n",
        "labels_test_f1 = np.argmax(labels_test, axis=1)\n",
        "print(f1_score(labels_test_f1, labels_output, average='macro'))"
      ],
      "metadata": {
        "colab": {
          "base_uri": "https://localhost:8080/"
        },
        "id": "G6ZKrpngMoy8",
        "outputId": "6adfabc7-cb11-47ce-d189-ff4d5e0c7064"
      },
      "execution_count": 22,
      "outputs": [
        {
          "output_type": "stream",
          "name": "stdout",
          "text": [
            "0.08485410887478147\n"
          ]
        }
      ]
    },
    {
      "cell_type": "markdown",
      "metadata": {
        "id": "WJ1ncME7ilUt"
      },
      "source": [
        "## First conclusion\n",
        "\n",
        "We tried this simple model baseline. To improve it, We can already remove the \"neutral\" emotion, optimize hyperparameters, add some layers as LSTM, normalize, create some master catergories of emotions... Let's go deep in this way !"
      ]
    },
    {
      "cell_type": "markdown",
      "metadata": {
        "id": "djxnSrtajMXi"
      },
      "source": [
        "# Remove \"neutral\" emotion"
      ]
    },
    {
      "cell_type": "code",
      "execution_count": 23,
      "metadata": {
        "id": "qLb8pkiLjq6C"
      },
      "outputs": [],
      "source": [
        "# clean the dataset\n",
        "\n",
        "train = train.drop(['neutral'], axis = 1)\n",
        "test =test.drop(['neutral'], axis = 1)\n",
        "evaluate =evaluate.drop(['neutral'], axis = 1)"
      ]
    },
    {
      "cell_type": "code",
      "execution_count": 24,
      "metadata": {
        "colab": {
          "base_uri": "https://localhost:8080/"
        },
        "id": "ClMi8PqZj2pp",
        "outputId": "82df7431-2119-4681-ed06-3b45357e5cd6"
      },
      "outputs": [
        {
          "output_type": "execute_result",
          "data": {
            "text/plain": [
              "(70000, 27)"
            ]
          },
          "metadata": {},
          "execution_count": 24
        }
      ],
      "source": [
        "# train\n",
        "labels_train = train.drop(['text'], axis = 1)\n",
        "labels_train = np.array(labels_train)\n",
        "# validation\n",
        "labels_val = evaluate.drop(['text'], axis = 1)\n",
        "labels_val = np.array(labels_val)\n",
        "# test\n",
        "labels_test = test.drop(['text'], axis = 1)\n",
        "labels_test = np.array(labels_test)\n",
        "labels_test.shape"
      ]
    },
    {
      "cell_type": "code",
      "execution_count": 25,
      "metadata": {
        "colab": {
          "base_uri": "https://localhost:8080/",
          "height": 676
        },
        "id": "VMbSx5hZl9dk",
        "outputId": "c905aed5-32d8-4943-f585-9c80dd15f80e"
      },
      "outputs": [
        {
          "output_type": "display_data",
          "data": {
            "text/plain": [
              "<Figure size 1080x720 with 1 Axes>"
            ],
            "image/png": "[encoded data removed]"
          },
          "metadata": {
            "needs_background": "light"
          }
        }
      ],
      "source": [
        "fig, ax = plt.subplots(figsize=(15,10))\n",
        "emotions = train\n",
        "emotions = emotions.drop(['text'], axis = 1)\n",
        "emotions.sum(axis = 0, skipna = True).sort_values(ascending=False).plot(kind='bar', ax=ax)\n",
        "plt.title(\"train emotions without neutral\")\n",
        "plt.show()"
      ]
    },
    {
      "cell_type": "code",
      "execution_count": 26,
      "metadata": {
        "colab": {
          "base_uri": "https://localhost:8080/",
          "height": 676
        },
        "id": "MdUAPEkzmPh3",
        "outputId": "98687870-e54e-412d-8bfd-2f530202328a"
      },
      "outputs": [
        {
          "output_type": "display_data",
          "data": {
            "text/plain": [
              "<Figure size 1080x720 with 1 Axes>"
            ],
            "image/png": "[encoded data removed]"
          },
          "metadata": {
            "needs_background": "light"
          }
        }
      ],
      "source": [
        "fig, ax = plt.subplots(figsize=(15,10))\n",
        "emotions = test\n",
        "emotions = emotions.drop(['text'], axis = 1)\n",
        "emotions.sum(axis = 0, skipna = True).sort_values(ascending=False).plot(kind='bar', ax=ax)\n",
        "plt.title(\"test emotions without neutral\")\n",
        "plt.show()"
      ]
    },
    {
      "cell_type": "code",
      "execution_count": 27,
      "metadata": {
        "id": "a_1ZMmU_j7Oy"
      },
      "outputs": [],
      "source": [
        "# tokenize : breaking the sentences into word parts\n",
        "# create an element token\n",
        "tokenizer = Tokenizer(num_words = vocab_size, oov_token=oov_tok)\n",
        "# fit it on train data\n",
        "tokenizer.fit_on_texts(train[\"text\"])\n",
        "\n",
        "# tokenize the text with the same size\n",
        "sequences_training_words = tokenizer.texts_to_sequences(train[\"text\"])\n",
        "padded_train = pad_sequences(sequences_training_words,maxlen=max_length, truncating=trunc_type)\n",
        "padded_train = np.array(padded_train)\n",
        "\n",
        "# validation\n",
        "sequences_val_words = tokenizer.texts_to_sequences(evaluate[\"text\"])\n",
        "padded_val = pad_sequences(sequences_val_words,maxlen=max_length, truncating=trunc_type)\n",
        "padded_val = np.array(padded_val)\n",
        "\n",
        "# test\n",
        "sequences_testing_words = tokenizer.texts_to_sequences(test[\"text\"])\n",
        "padded_test = pad_sequences(sequences_testing_words,maxlen=max_length, truncating=trunc_type)\n",
        "padded_test = np.array(padded_test)"
      ]
    },
    {
      "cell_type": "code",
      "execution_count": 28,
      "metadata": {
        "id": "fwmzqc5IkNYJ"
      },
      "outputs": [],
      "source": [
        "model_neutral = tf.keras.Sequential([\n",
        "    tf.keras.layers.Embedding(vocab_size, embedding_dim, input_length=max_length),\n",
        "    tf.keras.layers.GlobalAveragePooling1D(),\n",
        "    tf.keras.layers.Dense(24, activation='relu'),\n",
        "    tf.keras.layers.Dense(27, activation='softmax') # remove one emotion\n",
        "])\n",
        "model_neutral.compile(loss='binary_crossentropy',optimizer='adam',metrics=['accuracy'])"
      ]
    },
    {
      "cell_type": "code",
      "execution_count": 29,
      "metadata": {
        "colab": {
          "base_uri": "https://localhost:8080/"
        },
        "id": "9nq8GZohkULD",
        "outputId": "78b64768-0674-44ab-ffbd-6e18f33804a4"
      },
      "outputs": [
        {
          "output_type": "stream",
          "name": "stdout",
          "text": [
            "Epoch 1/10\n",
            "2188/2188 - 12s - loss: 0.1691 - accuracy: 0.1431 - val_loss: 0.1410 - val_accuracy: 0.0730 - 12s/epoch - 6ms/step\n",
            "Epoch 2/10\n",
            "2188/2188 - 11s - loss: 0.1405 - accuracy: 0.1561 - val_loss: 0.1406 - val_accuracy: 0.3541 - 11s/epoch - 5ms/step\n",
            "Epoch 3/10\n",
            "2188/2188 - 12s - loss: 0.1398 - accuracy: 0.1492 - val_loss: 0.1393 - val_accuracy: 0.1030 - 12s/epoch - 5ms/step\n",
            "Epoch 4/10\n",
            "2188/2188 - 12s - loss: 0.1369 - accuracy: 0.1741 - val_loss: 0.1354 - val_accuracy: 0.1557 - 12s/epoch - 5ms/step\n",
            "Epoch 5/10\n",
            "2188/2188 - 11s - loss: 0.1335 - accuracy: 0.1807 - val_loss: 0.1335 - val_accuracy: 0.2371 - 11s/epoch - 5ms/step\n",
            "Epoch 6/10\n",
            "2188/2188 - 11s - loss: 0.1316 - accuracy: 0.1805 - val_loss: 0.1319 - val_accuracy: 0.1538 - 11s/epoch - 5ms/step\n",
            "Epoch 7/10\n",
            "2188/2188 - 10s - loss: 0.1293 - accuracy: 0.1932 - val_loss: 0.1297 - val_accuracy: 0.2229 - 10s/epoch - 5ms/step\n",
            "Epoch 8/10\n",
            "2188/2188 - 10s - loss: 0.1266 - accuracy: 0.2089 - val_loss: 0.1275 - val_accuracy: 0.1941 - 10s/epoch - 5ms/step\n",
            "Epoch 9/10\n",
            "2188/2188 - 10s - loss: 0.1242 - accuracy: 0.2161 - val_loss: 0.1257 - val_accuracy: 0.2290 - 10s/epoch - 5ms/step\n",
            "Epoch 10/10\n",
            "2188/2188 - 11s - loss: 0.1216 - accuracy: 0.2302 - val_loss: 0.1236 - val_accuracy: 0.2140 - 11s/epoch - 5ms/step\n"
          ]
        }
      ],
      "source": [
        "num_epochs = 10\n",
        "history_n = model_neutral.fit(padded_train, labels_train, epochs=num_epochs, validation_data=(padded_val, labels_val), verbose=2)"
      ]
    },
    {
      "cell_type": "code",
      "execution_count": 30,
      "metadata": {
        "id": "bMdXffuXSPkd",
        "colab": {
          "base_uri": "https://localhost:8080/",
          "height": 541
        },
        "outputId": "3a33af10-5711-4f22-e4d4-fc9c031a11c5"
      },
      "outputs": [
        {
          "output_type": "display_data",
          "data": {
            "text/plain": [
              "<Figure size 432x288 with 1 Axes>"
            ],
            "image/png": "[encoded data removed]"
          },
          "metadata": {
            "needs_background": "light"
          }
        },
        {
          "output_type": "display_data",
          "data": {
            "text/plain": [
              "<Figure size 432x288 with 1 Axes>"
            ],
            "image/png": "[encoded data removed]"
          },
          "metadata": {
            "needs_background": "light"
          }
        }
      ],
      "source": [
        "plot_graphs(history_n, \"accuracy\")\n",
        "plot_graphs(history_n, \"loss\")"
      ]
    },
    {
      "cell_type": "code",
      "source": [
        "labels_test"
      ],
      "metadata": {
        "colab": {
          "base_uri": "https://localhost:8080/"
        },
        "id": "o2_QPsxrlUxt",
        "outputId": "da3dc34c-00d0-49bb-c10d-684b05aea51b"
      },
      "execution_count": 31,
      "outputs": [
        {
          "output_type": "execute_result",
          "data": {
            "text/plain": [
              "array([[0, 0, 0, ..., 0, 0, 0],\n",
              "       [0, 0, 1, ..., 0, 0, 0],\n",
              "       [0, 0, 0, ..., 0, 0, 0],\n",
              "       ...,\n",
              "       [0, 0, 0, ..., 0, 0, 0],\n",
              "       [0, 0, 1, ..., 0, 0, 0],\n",
              "       [1, 0, 0, ..., 0, 0, 0]])"
            ]
          },
          "metadata": {},
          "execution_count": 31
        }
      ]
    },
    {
      "cell_type": "code",
      "execution_count": 32,
      "metadata": {
        "colab": {
          "base_uri": "https://localhost:8080/"
        },
        "id": "VQdObSnu5269",
        "outputId": "a4971daa-a8b6-4978-f658-ce592eec21b5"
      },
      "outputs": [
        {
          "output_type": "stream",
          "name": "stdout",
          "text": [
            "Evaluate model on test data\n",
            "547/547 [==============================] - 1s 2ms/step - loss: 0.1239 - accuracy: 0.2206\n",
            "test loss, test acc: [0.12392885237932205, 0.2206428498029709]\n",
            "2188/2188 [==============================] - 3s 1ms/step\n",
            "                precision    recall  f1-score   support\n",
            "\n",
            "    admiration       0.65      0.18      0.28      5773\n",
            "     amusement       0.60      0.00      0.00      3044\n",
            "         anger       0.00      0.00      0.00      2762\n",
            "     annoyance       0.00      0.00      0.00      4557\n",
            "      approval       0.00      0.00      0.00      5785\n",
            "        caring       0.00      0.00      0.00      1985\n",
            "     confusion       0.00      0.00      0.00      2388\n",
            "     curiosity       0.00      0.00      0.00      3190\n",
            "        desire       0.00      0.00      0.00      1245\n",
            "disappointment       0.00      0.00      0.00      2894\n",
            "   disapproval       0.00      0.00      0.00      3798\n",
            "       disgust       0.00      0.00      0.00      1753\n",
            " embarrassment       0.00      0.00      0.00       856\n",
            "    excitement       0.00      0.00      0.00      1879\n",
            "          fear       0.00      0.00      0.00      1067\n",
            "     gratitude       0.88      0.72      0.79      3841\n",
            "         grief       0.00      0.00      0.00       220\n",
            "           joy       0.00      0.00      0.00      2655\n",
            "          love       0.65      0.33      0.44      2697\n",
            "   nervousness       0.00      0.00      0.00       581\n",
            "      optimism       0.00      0.00      0.00      2956\n",
            "         pride       0.00      0.00      0.00       429\n",
            "   realization       0.00      0.00      0.00      2917\n",
            "        relief       0.00      0.00      0.00       440\n",
            "       remorse       0.00      0.00      0.00       839\n",
            "       sadness       0.00      0.00      0.00      2228\n",
            "      surprise       0.00      0.00      0.00      1805\n",
            "\n",
            "     micro avg       0.77      0.07      0.13     64584\n",
            "     macro avg       0.10      0.05      0.06     64584\n",
            "  weighted avg       0.17      0.07      0.09     64584\n",
            "   samples avg       0.07      0.05      0.06     64584\n",
            "\n"
          ]
        },
        {
          "output_type": "stream",
          "name": "stderr",
          "text": [
            "/usr/local/lib/python3.8/dist-packages/sklearn/metrics/_classification.py:1318: UndefinedMetricWarning: Precision and F-score are ill-defined and being set to 0.0 in labels with no predicted samples. Use `zero_division` parameter to control this behavior.\n",
            "  _warn_prf(average, modifier, msg_start, len(result))\n",
            "/usr/local/lib/python3.8/dist-packages/sklearn/metrics/_classification.py:1318: UndefinedMetricWarning: Precision and F-score are ill-defined and being set to 0.0 in samples with no predicted labels. Use `zero_division` parameter to control this behavior.\n",
            "  _warn_prf(average, modifier, msg_start, len(result))\n",
            "/usr/local/lib/python3.8/dist-packages/sklearn/metrics/_classification.py:1318: UndefinedMetricWarning: Recall and F-score are ill-defined and being set to 0.0 in samples with no true labels. Use `zero_division` parameter to control this behavior.\n",
            "  _warn_prf(average, modifier, msg_start, len(result))\n"
          ]
        }
      ],
      "source": [
        "print(\"Evaluate model on test data\")\n",
        "results_neutral = model_neutral.evaluate(padded_test, labels_test, batch_size=128)\n",
        "print(\"test loss, test acc:\", results_neutral)\n",
        "\n",
        "labels_output_n = model_neutral.predict(padded_test)\n",
        "labels_output_n = labels_output_n > 0.5\n",
        "print(classification_report(labels_test, y_pred=labels_output_n, target_names=test.columns[1:]))"
      ]
    },
    {
      "cell_type": "code",
      "source": [
        "labels_output_n = np.array(labels_output_n)\n",
        "labels_output_n = np.argmax(labels_output_n, axis=1)\n",
        "labels_test_f1 = np.argmax(labels_test, axis=1)\n",
        "print(f1_score(labels_test_f1, labels_output_n, average='macro'))"
      ],
      "metadata": {
        "colab": {
          "base_uri": "https://localhost:8080/"
        },
        "id": "12Q3fNKQPPXk",
        "outputId": "e56a9689-d9e9-45a1-b13b-665e7033ddbc"
      },
      "execution_count": 33,
      "outputs": [
        {
          "output_type": "stream",
          "name": "stdout",
          "text": [
            "0.06052519049931072\n"
          ]
        }
      ]
    },
    {
      "cell_type": "markdown",
      "metadata": {
        "id": "XSQGyjMvpueA"
      },
      "source": [
        "# Add a LSTM layer"
      ]
    },
    {
      "cell_type": "code",
      "execution_count": 34,
      "metadata": {
        "id": "BgGMbdapp1MB"
      },
      "outputs": [],
      "source": [
        "model_lstm = tf.keras.Sequential([\n",
        "    tf.keras.layers.Embedding(vocab_size, embedding_dim, input_length=max_length),\n",
        "    tf.keras.layers.Dense(24, activation='relu'),\n",
        "    tf.keras.layers.LSTM(20),\n",
        "    tf.keras.layers.Dense(27, activation='softmax')\n",
        "])\n",
        "model_lstm.compile(loss='binary_crossentropy',optimizer='adam',metrics=['accuracy'])"
      ]
    },
    {
      "cell_type": "code",
      "execution_count": 35,
      "metadata": {
        "colab": {
          "base_uri": "https://localhost:8080/"
        },
        "id": "BY9f8xdX7waS",
        "outputId": "bf3d9d82-19bb-43ce-bb91-9b0d350a8d41"
      },
      "outputs": [
        {
          "output_type": "stream",
          "name": "stdout",
          "text": [
            "Model: \"sequential_2\"\n",
            "_________________________________________________________________\n",
            " Layer (type)                Output Shape              Param #   \n",
            "=================================================================\n",
            " embedding_2 (Embedding)     (None, 100, 16)           160000    \n",
            "                                                                 \n",
            " dense_4 (Dense)             (None, 100, 24)           408       \n",
            "                                                                 \n",
            " lstm (LSTM)                 (None, 20)                3600      \n",
            "                                                                 \n",
            " dense_5 (Dense)             (None, 27)                567       \n",
            "                                                                 \n",
            "=================================================================\n",
            "Total params: 164,575\n",
            "Trainable params: 164,575\n",
            "Non-trainable params: 0\n",
            "_________________________________________________________________\n"
          ]
        }
      ],
      "source": [
        "model_lstm.summary()"
      ]
    },
    {
      "cell_type": "code",
      "execution_count": 36,
      "metadata": {
        "colab": {
          "base_uri": "https://localhost:8080/"
        },
        "id": "zh-BzG5b1bAM",
        "outputId": "8e3315f0-b8eb-454a-e812-a27b82ea5dcb"
      },
      "outputs": [
        {
          "output_type": "stream",
          "name": "stdout",
          "text": [
            "Epoch 1/15\n",
            "2188/2188 - 24s - loss: 0.1540 - accuracy: 0.1633 - val_loss: 0.1412 - val_accuracy: 0.1368 - 24s/epoch - 11ms/step\n",
            "Epoch 2/15\n",
            "2188/2188 - 24s - loss: 0.1368 - accuracy: 0.1552 - val_loss: 0.1316 - val_accuracy: 0.1759 - 24s/epoch - 11ms/step\n",
            "Epoch 3/15\n",
            "2188/2188 - 24s - loss: 0.1286 - accuracy: 0.1886 - val_loss: 0.1281 - val_accuracy: 0.2042 - 24s/epoch - 11ms/step\n",
            "Epoch 4/15\n",
            "2188/2188 - 24s - loss: 0.1242 - accuracy: 0.2164 - val_loss: 0.1246 - val_accuracy: 0.2160 - 24s/epoch - 11ms/step\n",
            "Epoch 5/15\n",
            "2188/2188 - 21s - loss: 0.1200 - accuracy: 0.2324 - val_loss: 0.1224 - val_accuracy: 0.2165 - 21s/epoch - 10ms/step\n",
            "Epoch 6/15\n",
            "2188/2188 - 21s - loss: 0.1168 - accuracy: 0.2423 - val_loss: 0.1213 - val_accuracy: 0.2248 - 21s/epoch - 10ms/step\n",
            "Epoch 7/15\n",
            "2188/2188 - 21s - loss: 0.1143 - accuracy: 0.2503 - val_loss: 0.1201 - val_accuracy: 0.2320 - 21s/epoch - 10ms/step\n",
            "Epoch 8/15\n",
            "2188/2188 - 21s - loss: 0.1120 - accuracy: 0.2599 - val_loss: 0.1192 - val_accuracy: 0.2372 - 21s/epoch - 10ms/step\n",
            "Epoch 9/15\n",
            "2188/2188 - 21s - loss: 0.1098 - accuracy: 0.2724 - val_loss: 0.1188 - val_accuracy: 0.2393 - 21s/epoch - 10ms/step\n",
            "Epoch 10/15\n",
            "2188/2188 - 21s - loss: 0.1079 - accuracy: 0.2808 - val_loss: 0.1187 - val_accuracy: 0.2376 - 21s/epoch - 10ms/step\n",
            "Epoch 11/15\n",
            "2188/2188 - 21s - loss: 0.1062 - accuracy: 0.2902 - val_loss: 0.1183 - val_accuracy: 0.2526 - 21s/epoch - 10ms/step\n",
            "Epoch 12/15\n",
            "2188/2188 - 21s - loss: 0.1045 - accuracy: 0.2986 - val_loss: 0.1185 - val_accuracy: 0.2528 - 21s/epoch - 10ms/step\n",
            "Epoch 13/15\n",
            "2188/2188 - 21s - loss: 0.1031 - accuracy: 0.3055 - val_loss: 0.1188 - val_accuracy: 0.2504 - 21s/epoch - 10ms/step\n",
            "Epoch 14/15\n",
            "2188/2188 - 21s - loss: 0.1018 - accuracy: 0.3104 - val_loss: 0.1188 - val_accuracy: 0.2536 - 21s/epoch - 10ms/step\n",
            "Epoch 15/15\n",
            "2188/2188 - 24s - loss: 0.1006 - accuracy: 0.3170 - val_loss: 0.1187 - val_accuracy: 0.2503 - 24s/epoch - 11ms/step\n"
          ]
        }
      ],
      "source": [
        "num_epochs = 15\n",
        "history_lstm = model_lstm.fit(padded_train, labels_train, epochs=num_epochs, validation_data=(padded_val, labels_val), verbose=2)"
      ]
    },
    {
      "cell_type": "code",
      "execution_count": 37,
      "metadata": {
        "colab": {
          "base_uri": "https://localhost:8080/",
          "height": 544
        },
        "id": "58kRp4Kd1ha5",
        "outputId": "3fc34546-ac6a-45b8-9b33-0d36259e0c7a"
      },
      "outputs": [
        {
          "output_type": "display_data",
          "data": {
            "text/plain": [
              "<Figure size 432x288 with 1 Axes>"
            ],
            "image/png": "[encoded data removed]"
          },
          "metadata": {
            "needs_background": "light"
          }
        },
        {
          "output_type": "display_data",
          "data": {
            "text/plain": [
              "<Figure size 432x288 with 1 Axes>"
            ],
            "image/png": "[encoded data removed]"
          },
          "metadata": {
            "needs_background": "light"
          }
        }
      ],
      "source": [
        "plot_graphs(history_lstm, \"accuracy\")\n",
        "plot_graphs(history_lstm, \"loss\")"
      ]
    },
    {
      "cell_type": "code",
      "execution_count": 38,
      "metadata": {
        "colab": {
          "base_uri": "https://localhost:8080/"
        },
        "id": "065xC3Iy4tdx",
        "outputId": "b183501e-a1c6-4bab-ec25-6fa11649c1bb"
      },
      "outputs": [
        {
          "output_type": "stream",
          "name": "stdout",
          "text": [
            "2188/2188 [==============================] - 8s 3ms/step\n"
          ]
        }
      ],
      "source": [
        "output_lstm = model_lstm.predict(padded_test)"
      ]
    },
    {
      "cell_type": "code",
      "execution_count": 39,
      "metadata": {
        "colab": {
          "base_uri": "https://localhost:8080/"
        },
        "id": "bTB-u91M415O",
        "outputId": "09b31ad9-dc81-45d2-aa7e-7a5c0f8ee123"
      },
      "outputs": [
        {
          "output_type": "stream",
          "name": "stdout",
          "text": [
            "Evaluate model on test data\n",
            "547/547 [==============================] - 3s 5ms/step - loss: 0.1193 - accuracy: 0.2519\n",
            "test loss, test acc: [0.11933641135692596, 0.25191429257392883]\n",
            "                precision    recall  f1-score   support\n",
            "\n",
            "    admiration       0.55      0.39      0.45      5773\n",
            "     amusement       0.57      0.46      0.51      3044\n",
            "         anger       0.40      0.01      0.02      2762\n",
            "     annoyance       0.41      0.00      0.01      4557\n",
            "      approval       0.22      0.04      0.06      5785\n",
            "        caring       0.34      0.01      0.02      1985\n",
            "     confusion       0.59      0.01      0.02      2388\n",
            "     curiosity       0.37      0.03      0.05      3190\n",
            "        desire       0.00      0.00      0.00      1245\n",
            "disappointment       0.00      0.00      0.00      2894\n",
            "   disapproval       0.28      0.05      0.08      3798\n",
            "       disgust       0.74      0.03      0.06      1753\n",
            " embarrassment       0.00      0.00      0.00       856\n",
            "    excitement       0.28      0.01      0.01      1879\n",
            "          fear       0.71      0.09      0.16      1067\n",
            "     gratitude       0.88      0.72      0.79      3841\n",
            "         grief       0.00      0.00      0.00       220\n",
            "           joy       0.51      0.06      0.11      2655\n",
            "          love       0.60      0.58      0.59      2697\n",
            "   nervousness       0.00      0.00      0.00       581\n",
            "      optimism       0.57      0.07      0.12      2956\n",
            "         pride       0.00      0.00      0.00       429\n",
            "   realization       0.00      0.00      0.00      2917\n",
            "        relief       0.00      0.00      0.00       440\n",
            "       remorse       0.71      0.01      0.01       839\n",
            "       sadness       0.66      0.06      0.11      2228\n",
            "      surprise       0.00      0.00      0.00      1805\n",
            "\n",
            "     micro avg       0.60      0.14      0.23     64584\n",
            "     macro avg       0.35      0.10      0.12     64584\n",
            "  weighted avg       0.41      0.14      0.17     64584\n",
            "   samples avg       0.13      0.11      0.12     64584\n",
            "\n"
          ]
        },
        {
          "output_type": "stream",
          "name": "stderr",
          "text": [
            "/usr/local/lib/python3.8/dist-packages/sklearn/metrics/_classification.py:1318: UndefinedMetricWarning: Precision and F-score are ill-defined and being set to 0.0 in labels with no predicted samples. Use `zero_division` parameter to control this behavior.\n",
            "  _warn_prf(average, modifier, msg_start, len(result))\n",
            "/usr/local/lib/python3.8/dist-packages/sklearn/metrics/_classification.py:1318: UndefinedMetricWarning: Precision and F-score are ill-defined and being set to 0.0 in samples with no predicted labels. Use `zero_division` parameter to control this behavior.\n",
            "  _warn_prf(average, modifier, msg_start, len(result))\n",
            "/usr/local/lib/python3.8/dist-packages/sklearn/metrics/_classification.py:1318: UndefinedMetricWarning: Recall and F-score are ill-defined and being set to 0.0 in samples with no true labels. Use `zero_division` parameter to control this behavior.\n",
            "  _warn_prf(average, modifier, msg_start, len(result))\n"
          ]
        }
      ],
      "source": [
        "print(\"Evaluate model on test data\")\n",
        "results_lstm = model_lstm.evaluate(padded_test, labels_test, batch_size=128)\n",
        "print(\"test loss, test acc:\", results_lstm)\n",
        "\n",
        "output_lstm = output_lstm > 0.5\n",
        "print(classification_report(labels_test, y_pred=output_lstm, target_names=test.columns[1:]))"
      ]
    },
    {
      "cell_type": "code",
      "source": [
        "output_lstm = np.array(output_lstm)\n",
        "output_lstm = np.argmax(output_lstm, axis=1)\n",
        "print(f1_score(labels_test_f1, output_lstm, average='macro'))"
      ],
      "metadata": {
        "colab": {
          "base_uri": "https://localhost:8080/"
        },
        "id": "j4RiUAYDdLL4",
        "outputId": "8a1253a4-9a14-430c-c9d6-6e7a9bc2cd50"
      },
      "execution_count": 40,
      "outputs": [
        {
          "output_type": "stream",
          "name": "stdout",
          "text": [
            "0.11713463977165937\n"
          ]
        }
      ]
    },
    {
      "cell_type": "markdown",
      "metadata": {
        "id": "g-r2ZWfgnv9B"
      },
      "source": [
        "# Try with normalization the text"
      ]
    },
    {
      "cell_type": "code",
      "execution_count": 41,
      "metadata": {
        "id": "WeZ_YwDen1Ou"
      },
      "outputs": [],
      "source": [
        "# labels are already standardized\n",
        "padded_train_norm = preprocessing.normalize(padded_train)\n",
        "padded_val_norm = preprocessing.normalize(padded_val)\n",
        "padded_test_norm = preprocessing.normalize(padded_test)"
      ]
    },
    {
      "cell_type": "code",
      "source": [
        "# change the learning rate\n",
        "\n",
        "model_norm = tf.keras.Sequential([\n",
        "    tf.keras.layers.Embedding(vocab_size, embedding_dim, input_length=max_length),\n",
        "    tf.keras.layers.Dense(24, activation='relu'),\n",
        "    tf.keras.layers.LSTM(20),\n",
        "    tf.keras.layers.Dense(27, activation='softmax')\n",
        "])\n",
        "\n",
        "opt = keras.optimizers.Adam(learning_rate=0.01)\n",
        "model_norm.compile(loss='binary_crossentropy',optimizer='adam',metrics=['accuracy'])\n",
        "\n"
      ],
      "metadata": {
        "id": "Bxjjxz-1cEwF"
      },
      "execution_count": 42,
      "outputs": []
    },
    {
      "cell_type": "code",
      "execution_count": 43,
      "metadata": {
        "colab": {
          "base_uri": "https://localhost:8080/"
        },
        "id": "8s0Q2tftodKP",
        "outputId": "bcdb8f07-236e-442d-8a5e-79edf8d68c2c"
      },
      "outputs": [
        {
          "output_type": "stream",
          "name": "stdout",
          "text": [
            "Epoch 1/15\n",
            "2188/2188 - 23s - loss: 0.1549 - accuracy: 0.1497 - val_loss: 0.1418 - val_accuracy: 0.0730 - 23s/epoch - 11ms/step\n",
            "Epoch 2/15\n",
            "2188/2188 - 21s - loss: 0.1415 - accuracy: 0.1743 - val_loss: 0.1417 - val_accuracy: 0.0730 - 21s/epoch - 10ms/step\n",
            "Epoch 3/15\n",
            "2188/2188 - 24s - loss: 0.1415 - accuracy: 0.1492 - val_loss: 0.1417 - val_accuracy: 0.0753 - 24s/epoch - 11ms/step\n",
            "Epoch 4/15\n",
            "2188/2188 - 24s - loss: 0.1415 - accuracy: 0.1723 - val_loss: 0.1417 - val_accuracy: 0.0730 - 24s/epoch - 11ms/step\n",
            "Epoch 5/15\n",
            "2188/2188 - 21s - loss: 0.1415 - accuracy: 0.1700 - val_loss: 0.1416 - val_accuracy: 0.0753 - 21s/epoch - 10ms/step\n",
            "Epoch 6/15\n",
            "2188/2188 - 22s - loss: 0.1415 - accuracy: 0.1717 - val_loss: 0.1417 - val_accuracy: 0.0730 - 22s/epoch - 10ms/step\n",
            "Epoch 7/15\n",
            "2188/2188 - 21s - loss: 0.1415 - accuracy: 0.1601 - val_loss: 0.1416 - val_accuracy: 0.0730 - 21s/epoch - 10ms/step\n",
            "Epoch 8/15\n",
            "2188/2188 - 21s - loss: 0.1415 - accuracy: 0.1639 - val_loss: 0.1417 - val_accuracy: 0.3582 - 21s/epoch - 10ms/step\n",
            "Epoch 9/15\n",
            "2188/2188 - 21s - loss: 0.1415 - accuracy: 0.1694 - val_loss: 0.1417 - val_accuracy: 0.0730 - 21s/epoch - 10ms/step\n",
            "Epoch 10/15\n",
            "2188/2188 - 24s - loss: 0.1415 - accuracy: 0.1664 - val_loss: 0.1416 - val_accuracy: 0.0754 - 24s/epoch - 11ms/step\n",
            "Epoch 11/15\n",
            "2188/2188 - 21s - loss: 0.1415 - accuracy: 0.1633 - val_loss: 0.1416 - val_accuracy: 0.0753 - 21s/epoch - 10ms/step\n",
            "Epoch 12/15\n",
            "2188/2188 - 21s - loss: 0.1415 - accuracy: 0.1565 - val_loss: 0.1416 - val_accuracy: 0.3582 - 21s/epoch - 10ms/step\n",
            "Epoch 13/15\n",
            "2188/2188 - 24s - loss: 0.1415 - accuracy: 0.1620 - val_loss: 0.1416 - val_accuracy: 0.0753 - 24s/epoch - 11ms/step\n",
            "Epoch 14/15\n",
            "2188/2188 - 21s - loss: 0.1415 - accuracy: 0.1674 - val_loss: 0.1416 - val_accuracy: 0.3582 - 21s/epoch - 10ms/step\n",
            "Epoch 15/15\n",
            "2188/2188 - 24s - loss: 0.1415 - accuracy: 0.1710 - val_loss: 0.1417 - val_accuracy: 0.0730 - 24s/epoch - 11ms/step\n"
          ]
        }
      ],
      "source": [
        "history_norm = model_norm.fit(padded_train_norm, labels_train, epochs=num_epochs, validation_data=(padded_val_norm, labels_val), verbose=2)"
      ]
    },
    {
      "cell_type": "code",
      "execution_count": 44,
      "metadata": {
        "colab": {
          "base_uri": "https://localhost:8080/",
          "height": 541
        },
        "id": "Da0UvfhfSVzJ",
        "outputId": "113efa1e-6eef-4773-99c5-6f80ebde5c22"
      },
      "outputs": [
        {
          "output_type": "display_data",
          "data": {
            "text/plain": [
              "<Figure size 432x288 with 1 Axes>"
            ],
            "image/png": "[encoded data removed]"
          },
          "metadata": {
            "needs_background": "light"
          }
        },
        {
          "output_type": "display_data",
          "data": {
            "text/plain": [
              "<Figure size 432x288 with 1 Axes>"
            ],
            "image/png": "[encoded data removed]"
          },
          "metadata": {
            "needs_background": "light"
          }
        }
      ],
      "source": [
        "plot_graphs(history_norm, \"accuracy\")\n",
        "plot_graphs(history_norm, \"loss\")"
      ]
    },
    {
      "cell_type": "code",
      "execution_count": 45,
      "metadata": {
        "colab": {
          "base_uri": "https://localhost:8080/"
        },
        "id": "gZWevf_mox_q",
        "outputId": "029e9def-8e4c-4df3-d734-d2763421ea9a"
      },
      "outputs": [
        {
          "output_type": "stream",
          "name": "stdout",
          "text": [
            "Evaluate model on test data\n",
            "547/547 [==============================] - 3s 5ms/step - loss: 0.1421 - accuracy: 0.0731\n",
            "test loss, test acc: [0.14210903644561768, 0.073085717856884]\n",
            "2188/2188 [==============================] - 8s 3ms/step\n",
            "                precision    recall  f1-score   support\n",
            "\n",
            "    admiration       0.00      0.00      0.00      5773\n",
            "     amusement       0.00      0.00      0.00      3044\n",
            "         anger       0.00      0.00      0.00      2762\n",
            "     annoyance       0.00      0.00      0.00      4557\n",
            "      approval       0.00      0.00      0.00      5785\n",
            "        caring       0.00      0.00      0.00      1985\n",
            "     confusion       0.00      0.00      0.00      2388\n",
            "     curiosity       0.00      0.00      0.00      3190\n",
            "        desire       0.00      0.00      0.00      1245\n",
            "disappointment       0.00      0.00      0.00      2894\n",
            "   disapproval       0.00      0.00      0.00      3798\n",
            "       disgust       0.00      0.00      0.00      1753\n",
            " embarrassment       0.00      0.00      0.00       856\n",
            "    excitement       0.00      0.00      0.00      1879\n",
            "          fear       0.00      0.00      0.00      1067\n",
            "     gratitude       0.00      0.00      0.00      3841\n",
            "         grief       0.00      0.00      0.00       220\n",
            "           joy       0.00      0.00      0.00      2655\n",
            "          love       0.00      0.00      0.00      2697\n",
            "   nervousness       0.00      0.00      0.00       581\n",
            "      optimism       0.00      0.00      0.00      2956\n",
            "         pride       0.00      0.00      0.00       429\n",
            "   realization       0.00      0.00      0.00      2917\n",
            "        relief       0.00      0.00      0.00       440\n",
            "       remorse       0.00      0.00      0.00       839\n",
            "       sadness       0.00      0.00      0.00      2228\n",
            "      surprise       0.00      0.00      0.00      1805\n",
            "\n",
            "     micro avg       0.00      0.00      0.00     64584\n",
            "     macro avg       0.00      0.00      0.00     64584\n",
            "  weighted avg       0.00      0.00      0.00     64584\n",
            "   samples avg       0.00      0.00      0.00     64584\n",
            "\n"
          ]
        },
        {
          "output_type": "stream",
          "name": "stderr",
          "text": [
            "/usr/local/lib/python3.8/dist-packages/sklearn/metrics/_classification.py:1318: UndefinedMetricWarning: Precision and F-score are ill-defined and being set to 0.0 in labels with no predicted samples. Use `zero_division` parameter to control this behavior.\n",
            "  _warn_prf(average, modifier, msg_start, len(result))\n",
            "/usr/local/lib/python3.8/dist-packages/sklearn/metrics/_classification.py:1318: UndefinedMetricWarning: Precision and F-score are ill-defined and being set to 0.0 due to no predicted samples. Use `zero_division` parameter to control this behavior.\n",
            "  _warn_prf(average, modifier, msg_start, len(result))\n",
            "/usr/local/lib/python3.8/dist-packages/sklearn/metrics/_classification.py:1318: UndefinedMetricWarning: Precision and F-score are ill-defined and being set to 0.0 in samples with no predicted labels. Use `zero_division` parameter to control this behavior.\n",
            "  _warn_prf(average, modifier, msg_start, len(result))\n",
            "/usr/local/lib/python3.8/dist-packages/sklearn/metrics/_classification.py:1318: UndefinedMetricWarning: Recall and F-score are ill-defined and being set to 0.0 in samples with no true labels. Use `zero_division` parameter to control this behavior.\n",
            "  _warn_prf(average, modifier, msg_start, len(result))\n"
          ]
        }
      ],
      "source": [
        "print(\"Evaluate model on test data\")\n",
        "results_norm = model_norm.evaluate(padded_test_norm, labels_test, batch_size=128)\n",
        "print(\"test loss, test acc:\", results_norm)\n",
        "\n",
        "labels_output_norm = model_norm.predict(padded_test)\n",
        "labels_output_norm = labels_output_norm > 0.5\n",
        "print(classification_report(labels_test, y_pred=labels_output_norm, target_names=test.columns[1:]))"
      ]
    },
    {
      "cell_type": "code",
      "source": [
        "labels_output_norm = np.array(labels_output_norm)\n",
        "labels_output_norm = np.argmax(labels_output_norm, axis=1)\n",
        "print(f1_score(labels_test_f1, labels_output_norm, average='macro'))"
      ],
      "metadata": {
        "colab": {
          "base_uri": "https://localhost:8080/"
        },
        "id": "0nJXZV9LimWz",
        "outputId": "2b972beb-c58d-43fb-8188-7921ccc8c4ef"
      },
      "execution_count": 46,
      "outputs": [
        {
          "output_type": "stream",
          "name": "stdout",
          "text": [
            "0.019564899985399325\n"
          ]
        }
      ]
    },
    {
      "cell_type": "markdown",
      "metadata": {
        "id": "u8Zx5qYapvYL"
      },
      "source": [
        "It was expected to win in accuracy with normalization, this is true, however the resukts are chaotic ! "
      ]
    },
    {
      "cell_type": "markdown",
      "metadata": {
        "id": "6RuXnZFRMT5W"
      },
      "source": [
        "## Merge columns in master category"
      ]
    },
    {
      "cell_type": "code",
      "execution_count": 47,
      "metadata": {
        "id": "aOmpksppMXV3"
      },
      "outputs": [],
      "source": [
        "emotions_list = train.columns[1:]\n",
        "emotions_list\n",
        "\n",
        "cat_emotions_list = ['anger', 'disgust', 'fear', 'joy', 'sadness', 'surprise']"
      ]
    },
    {
      "cell_type": "code",
      "execution_count": 48,
      "metadata": {
        "id": "nPYzDTtDv8WS"
      },
      "outputs": [],
      "source": [
        "\n",
        "# function that creates categories of emotions\n",
        "def emotions_to_cat(emotions_labels):\n",
        "    \n",
        "    # create a dataframe of emotions labels\n",
        "    df_emotions = pd.DataFrame(emotions_labels, columns=emotions_list)\n",
        "\n",
        "    # create a dataframe of categories labels\n",
        "    df_cat  = pd.DataFrame(np.zeros((len(emotions_labels), len(cat_emotions_list))), columns=cat_emotions_list)\n",
        "\n",
        "    for i in range(len(df_emotions)): # for each line of the emotions dataframe\n",
        "\n",
        "        if df_emotions.loc[i,['anger', 'annoyance', 'disapproval']].sum() >= 1:\n",
        "            df_cat.loc[i,'anger'] = 1 # if we find at least one of this emotions we fill the categorie df with the correponding category\n",
        "\n",
        "        if df_emotions.loc[i,'disgust'].sum() >= 1:\n",
        "            df_cat.loc[i,'disgust'] = 1\n",
        "\n",
        "        if df_emotions.loc[i,['fear', 'nervousness']].sum() >= 1:\n",
        "            df_cat.loc[i,'fear'] = 1\n",
        "\n",
        "        if df_emotions.loc[i,['joy', 'amusement', 'approval', 'excitement', 'gratitude',\n",
        "                        'love', 'optimism', 'relief', 'pride', 'admiration', 'desire','caring']].sum() >= 1:\n",
        "            df_cat.loc[i,'joy'] = 1 \n",
        "\n",
        "        if df_emotions.loc[i,['sadness', 'disappointment', 'embarrassment', 'grief', 'remorse']].sum() >= 1:\n",
        "            df_cat.loc[i,'sadness'] = 1\n",
        "\n",
        "        if df_emotions.loc[i,['surprise', 'realization', 'confusion', 'curiosity']].sum() >= 1:\n",
        "            df_cat.loc[i,'surprise'] = 1\n",
        "\n",
        "    return df_cat.values"
      ]
    },
    {
      "cell_type": "code",
      "execution_count": null,
      "metadata": {
        "id": "4kPPcQbvwB4Q"
      },
      "outputs": [],
      "source": [
        "# Mapping GoEmotion labels to Ekman labels (true and predictions)\n",
        "labels_test_cat = emotions_to_cat(labels_test)\n",
        "output_labels = model_lstm.predict(padded_test)\n",
        "labels_output_cat = emotions_to_cat(output_labels)\n",
        "    "
      ]
    },
    {
      "cell_type": "code",
      "execution_count": null,
      "metadata": {
        "id": "KP742ceJXtLu"
      },
      "outputs": [],
      "source": [
        "labels_test_cat"
      ]
    },
    {
      "cell_type": "code",
      "execution_count": null,
      "metadata": {
        "id": "VYGVYj6FX3Zi"
      },
      "outputs": [],
      "source": [
        "labels_output_cat"
      ]
    },
    {
      "cell_type": "code",
      "execution_count": null,
      "metadata": {
        "id": "ENLgUqOkx09e"
      },
      "outputs": [],
      "source": [
        "# retrain with new categories\n",
        "labels_train_cat = emotions_to_cat(labels_train)\n",
        "labels_val_cat = emotions_to_cat(labels_val)"
      ]
    },
    {
      "cell_type": "code",
      "source": [
        "# updated model\n",
        "model_cat_lstm = tf.keras.Sequential([\n",
        "    tf.keras.layers.Embedding(vocab_size, embedding_dim, input_length=max_length),\n",
        "    tf.keras.layers.Dense(24, activation='relu'),\n",
        "    tf.keras.layers.LSTM(20),\n",
        "    tf.keras.layers.Dense(6, activation='softmax') # change number of outputs\n",
        "])\n",
        "model_cat_lstm.compile(loss='binary_crossentropy',optimizer='adam',metrics=['accuracy'])"
      ],
      "metadata": {
        "id": "cbbpASPc565r"
      },
      "execution_count": null,
      "outputs": []
    },
    {
      "cell_type": "code",
      "execution_count": null,
      "metadata": {
        "id": "Xsl9rtN2zfhu"
      },
      "outputs": [],
      "source": [
        "num_epochs = 15\n",
        "history_cat = model_cat_lstm.fit(padded_train, labels_train_cat, epochs=num_epochs, validation_data=(padded_val, labels_val_cat), verbose=2)"
      ]
    },
    {
      "cell_type": "code",
      "execution_count": null,
      "metadata": {
        "id": "Bg9fLlXt28uu"
      },
      "outputs": [],
      "source": [
        "plot_graphs(history_cat, \"accuracy\")\n",
        "plot_graphs(history_cat, \"loss\")"
      ]
    },
    {
      "cell_type": "code",
      "execution_count": null,
      "metadata": {
        "id": "-uyuK3Ds7iEY"
      },
      "outputs": [],
      "source": [
        "labels_output_cat = model_cat_lstm.predict(padded_test)"
      ]
    },
    {
      "cell_type": "code",
      "execution_count": null,
      "metadata": {
        "id": "wWXRXP862xf4"
      },
      "outputs": [],
      "source": [
        "print(\"Evaluate model_cat on test data\")\n",
        "results_cat = model_cat_lstm.evaluate(padded_test, labels_test_cat, batch_size=128)\n",
        "print(\"test loss, test acc:\", results_cat)\n",
        "\n",
        "labels_output_cat = (labels_output_cat > 0.5)\n",
        "labels_output_cat\n",
        "print(classification_report(labels_test_cat, y_pred=labels_output_cat, target_names=cat_emotions_list))"
      ]
    },
    {
      "cell_type": "code",
      "source": [
        "labels_output_cat = np.array(labels_output_cat)\n",
        "labels_output_cat = np.argmax(labels_output_cat, axis=1)\n",
        "print(f1_score(labels_test_f1, labels_output_cat, average='macro'))"
      ],
      "metadata": {
        "id": "tsImr16OjFJv"
      },
      "execution_count": null,
      "outputs": []
    }
  ],
  "metadata": {
    "accelerator": "GPU",
    "colab": {
      "provenance": []
    },
    "gpuClass": "standard",
    "kernelspec": {
      "display_name": "Python 3.10.8 64-bit (microsoft store)",
      "language": "python",
      "name": "python3"
    },
    "language_info": {
      "codemirror_mode": {
        "name": "ipython",
        "version": 3
      },
      "file_extension": ".py",
      "mimetype": "text/x-python",
      "name": "python",
      "nbconvert_exporter": "python",
      "pygments_lexer": "ipython3",
      "version": "3.10.9"
    },
    "vscode": {
      "interpreter": {
        "hash": "97cba5719d159acad27bb7f37d182d27b1d38df28115fbd0d331121e7aca3605"
      }
    }
  },
  "nbformat": 4,
  "nbformat_minor": 0
}